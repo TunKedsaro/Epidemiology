{
  "cells": [
    {
      "cell_type": "code",
      "execution_count": 11,
      "metadata": {
        "id": "Wccs6Xd51-n6"
      },
      "outputs": [],
      "source": [
        "# https://www.kaggle.com/competitions/hackathon-online-data-science-mini-epidemiology/submissions"
      ]
    },
    {
      "cell_type": "code",
      "execution_count": 12,
      "metadata": {
        "colab": {
          "base_uri": "https://localhost:8080/"
        },
        "id": "OYORQGwjWgYm",
        "outputId": "856cd81e-d95f-419d-9089-306efe1468c7"
      },
      "outputs": [
        {
          "output_type": "stream",
          "name": "stdout",
          "text": [
            "\u001b[31mERROR: Operation cancelled by user\u001b[0m\u001b[31m\n",
            "\u001b[0mmkdir: cannot create directory ‘/root/.kaggle’: File exists\n",
            "ref                                                    title                                        size  lastUpdated          downloadCount  voteCount  usabilityRating  \n",
            "-----------------------------------------------------  ------------------------------------------  -----  -------------------  -------------  ---------  ---------------  \n",
            "waqi786/cats-dataset                                   🐾 Cats Dataset                                6KB  2024-07-31 06:12:49           1242         24  1.0              \n",
            "patricklford/global-ev-sales-2010-2024                 Global EV Sales: 2010-2024                   83KB  2024-07-19 13:40:22           2087         29  1.0              \n",
            "rabieelkharoua/students-performance-dataset            📚 Students Performance Dataset 📚             66KB  2024-06-12 23:09:20          26266        526  1.0              \n",
            "ihelon/coffee-sales                                    Coffee Sales                                 13KB  2024-08-01 07:55:34           9098        146  1.0              \n",
            "nelgiriyewithana/most-streamed-spotify-songs-2024      Most Streamed Spotify Songs 2024            496KB  2024-06-15 18:50:51          19083        376  1.0              \n",
            "waqi786/global-air-quality-dataset                     Global Air Quality Dataset 🌍🌫️              258KB  2024-07-28 10:35:09           1320         29  1.0              \n",
            "abhayayare/employee-data-simulation-it-industry        Employee Data Simulation: IT Industry         4KB  2024-07-21 15:26:17           1410         23  1.0              \n",
            "harinkl/import-and-export-of-india-2009-2025           import and export of india 2009-2025        364KB  2024-07-20 04:37:38           1714         27  1.0              \n",
            "priyamchoksi/credit-card-transactions-dataset          Credit Card Transactions Dataset            145MB  2024-07-23 00:31:47           1187         24  1.0              \n",
            "waqi786/dogs-dataset-3000-records                      🐶 Dogs Dataset - 3000 Records 🐾              18KB  2024-07-30 12:21:20            743         22  1.0              \n",
            "waqi786/1000-richest-people-in-the-world               1000 Richest People in the World              8KB  2024-07-28 05:39:38           1145         31  1.0              \n",
            "waqi786/mobile-sales-dataset                           Mobile Sales Dataset 📱                       58KB  2024-07-26 11:03:16           1467         33  1.0              \n",
            "waqi786/emoji-trends-dataset                           🌟 Emoji Trends Dataset                       25KB  2024-07-31 06:52:00            396         22  1.0              \n",
            "waqi786/cars-dataset-2010-2020                         Cars Dataset (2010-2020)                     96KB  2024-07-23 05:49:46           1639         29  1.0              \n",
            "marius2303/nissan-all-models-price-prediction-dataset  Nissan All Models Price Prediction Dataset  811KB  2024-07-27 11:50:10            934         24  1.0              \n",
            "rasikasrimal/covid-19-confirmed-cases                  covid-19 confirmed cases                     30KB  2024-07-18 12:04:09           1132         25  1.0              \n",
            "wajahat1064/amazon-reviews-data-2023                   Amazon Reviews Data 2023                    271MB  2024-07-25 18:50:12            512         22  1.0              \n",
            "akinduhiman/trending-youtube-videos-2019-to-2020       Trending YouTube Videos 2019 to 2020         26MB  2024-07-24 19:21:40            832         26  1.0              \n",
            "waqi786/top-intelligent-people-in-the-world            Top Intelligent People in the World 🌍🧠       79KB  2024-07-27 11:36:16            789         32  1.0              \n",
            "waqi786/student-performance-dataset                    📚 Student Performance Dataset 📚               6KB  2024-07-26 04:24:34           1069         35  1.0              \n",
            "User cancelled operation\n",
            "replace Test_set.csv? [y]es, [n]o, [A]ll, [N]one, [r]ename: Fatal Python error: init_import_site: Failed to import the site module\n",
            "Python runtime state: initialized\n",
            "Traceback (most recent call last):\n",
            "  File \"/usr/lib/python3.10/site.py\", line 636, in <module>\n",
            "  File \"/usr/lib/python3.10/site.py\", line 623, in main\n",
            "    known_paths = addsitepackages(known_paths)\n",
            "  File \"/usr/lib/python3.10/site.py\", line 406, in addsitepackages\n",
            "    addsitedir(sitedir, known_paths)\n",
            "  File \"/usr/lib/python3.10/site.py\", line 232, in addsitedir\n",
            "    addpackage(sitedir, name, known_paths)\n",
            "  File \"/usr/lib/python3.10/site.py\", line 185, in addpackage\n",
            "    for n, line in enumerate(f):\n",
            "KeyboardInterrupt\n"
          ]
        }
      ],
      "source": [
        "!pip install -q kaggle\n",
        "import json\n",
        "\n",
        "data = {\"username\":\"tunkedsaro\",\"key\":\"ff3d00dc680ff94caf6f8d4d9bcd3168\"}\n",
        "json_data = json.dumps(data)\n",
        "\n",
        "# Write the JSON string to a file\n",
        "file_path = \"/content/kaggle.json\"\n",
        "with open(file_path, 'w') as json_file:\n",
        "    json_file.write(json_data)\n",
        "\n",
        "!mkdir ~/.kaggle\n",
        "!cp /content/kaggle.json ~/.kaggle/ #copy api key ---- depend on your directory -- my directory is .../colab/..\n",
        "!chmod 600 ~/.kaggle/kaggle.json\n",
        "!kaggle datasets list\n",
        "!kaggle competitions download -c hackathon-online-data-science-mini-epidemiology\n",
        "!unzip -q /content/hackathon-online-data-science-mini-epidemiology.zip\n",
        "\n",
        "!pip -q install autogluon.tabular\n",
        "\n",
        "from autogluon.tabular import TabularDataset, TabularPredictor\n",
        "import time\n",
        "from sklearn.model_selection import train_test_split\n",
        "from sklearn.ensemble import RandomForestRegressor\n",
        "from sklearn.metrics import mean_squared_error\n",
        "import numpy as np\n",
        "import pandas as pd\n",
        "import matplotlib.pyplot as plt"
      ]
    },
    {
      "cell_type": "code",
      "execution_count": 13,
      "metadata": {
        "id": "BsgQWfGNWnLL"
      },
      "outputs": [],
      "source": [
        "from sklearn.metrics import mean_squared_error\n",
        "import numpy as np\n",
        "\n",
        "# Define a custom RMSE metric\n",
        "def rmse(y_true, y_pred):\n",
        "    return np.sqrt(mean_squared_error(y_true, y_pred))\n",
        "\n",
        "def pplot(train_df,province:str):\n",
        "    # province = \"Bangkok\"\n",
        "    Songkhla_df = train_df[train_df['PROVINCE']==province]\n",
        "    plt.figure(figsize=(14,7))\n",
        "    for year in Songkhla_df['Year'].unique():\n",
        "        yearly_data = Songkhla_df[Songkhla_df['Year'] == year]\n",
        "        plt.plot(yearly_data['Week_no'], yearly_data['Count'], label=f'Year {year}')\n",
        "\n",
        "    plt.xlabel('Week Number')\n",
        "    plt.ylabel('Count')\n",
        "    plt.title(f'{province}')\n",
        "    plt.legend()\n",
        "    plt.grid(True)\n",
        "    plt.show()"
      ]
    },
    {
      "cell_type": "code",
      "execution_count": 1,
      "metadata": {
        "id": "Hku_ZBQeWpmY",
        "colab": {
          "base_uri": "https://localhost:8080/",
          "height": 176
        },
        "outputId": "9688dd2c-6015-4337-bfb3-d91205ae8b74"
      },
      "outputs": [
        {
          "output_type": "error",
          "ename": "NameError",
          "evalue": "name 'pd' is not defined",
          "traceback": [
            "\u001b[0;31m---------------------------------------------------------------------------\u001b[0m",
            "\u001b[0;31mNameError\u001b[0m                                 Traceback (most recent call last)",
            "\u001b[0;32m<ipython-input-1-1ecd8fc18068>\u001b[0m in \u001b[0;36m<cell line: 1>\u001b[0;34m()\u001b[0m\n\u001b[0;32m----> 1\u001b[0;31m \u001b[0mtrain_df\u001b[0m  \u001b[0;34m=\u001b[0m \u001b[0mpd\u001b[0m\u001b[0;34m.\u001b[0m\u001b[0mread_csv\u001b[0m\u001b[0;34m(\u001b[0m\u001b[0;34m\"/content/Train_set.csv\"\u001b[0m\u001b[0;34m)\u001b[0m\u001b[0;34m\u001b[0m\u001b[0;34m\u001b[0m\u001b[0m\n\u001b[0m\u001b[1;32m      2\u001b[0m \u001b[0mtest_df\u001b[0m   \u001b[0;34m=\u001b[0m \u001b[0mpd\u001b[0m\u001b[0;34m.\u001b[0m\u001b[0mread_csv\u001b[0m\u001b[0;34m(\u001b[0m\u001b[0;34m\"/content/Test_set.csv\"\u001b[0m\u001b[0;34m)\u001b[0m\u001b[0;34m\u001b[0m\u001b[0;34m\u001b[0m\u001b[0m\n\u001b[1;32m      3\u001b[0m \u001b[0msubmit_df\u001b[0m \u001b[0;34m=\u001b[0m \u001b[0mpd\u001b[0m\u001b[0;34m.\u001b[0m\u001b[0mread_csv\u001b[0m\u001b[0;34m(\u001b[0m\u001b[0;34m\"/content/sample_submission.csv\"\u001b[0m\u001b[0;34m)\u001b[0m\u001b[0;34m\u001b[0m\u001b[0;34m\u001b[0m\u001b[0m\n",
            "\u001b[0;31mNameError\u001b[0m: name 'pd' is not defined"
          ]
        }
      ],
      "source": [
        "train_df  = pd.read_csv(\"/content/Train_set.csv\")\n",
        "test_df   = pd.read_csv(\"/content/Test_set.csv\")\n",
        "submit_df = pd.read_csv(\"/content/sample_submission.csv\")"
      ]
    },
    {
      "cell_type": "code",
      "execution_count": null,
      "metadata": {
        "id": "9RlMGmaCwAqz"
      },
      "outputs": [],
      "source": [
        "pvrecord = {i:0 for i in list(train_df['PROVINCE'].unique())}"
      ]
    },
    {
      "cell_type": "markdown",
      "metadata": {
        "id": "j-88zc8jWqrP"
      },
      "source": [
        "<hr>"
      ]
    },
    {
      "cell_type": "markdown",
      "metadata": {
        "id": "xEwPkomGWwrI"
      },
      "source": [
        "# Bangkok"
      ]
    },
    {
      "cell_type": "code",
      "execution_count": null,
      "metadata": {
        "id": "wC9rmVSlnixe"
      },
      "outputs": [],
      "source": [
        "province = \"Bangkok\"\n",
        "province_df = train_df[train_df['PROVINCE']==province]\n",
        "# Split data into train and validation based on the years\n",
        "years = [2014,2016,2017,2018,2019] #* select year that is outliner\n",
        "province_train_df = province_df[province_df['Year'].isin(years[:-1])].copy()\n",
        "province_val_df = province_df[province_df['Year'].isin([years[-1]])].copy()\n",
        "\n",
        "# Feature engineering: Create lag features and moving averages\n",
        "for lag in range(1, 4):\n",
        "    province_train_df.loc[:, f'Lag_{lag}'] = province_train_df['Count'].shift(lag)\n",
        "    province_val_df.loc[:, f'Lag_{lag}'] = province_val_df['Count'].shift(lag)\n",
        "\n",
        "province_train_df.loc[:, 'Moving_Avg_3'] = province_train_df['Count'].rolling(window=3).mean()\n",
        "province_val_df.loc[:, 'Moving_Avg_3'] = province_val_df['Count'].rolling(window=3).mean()\n",
        "\n",
        "# Fill NaN values created by lag features\n",
        "province_train_df.fillna(0, inplace=True)\n",
        "province_val_df.fillna(0, inplace=True)\n",
        "\n",
        "# Select features and target for training\n",
        "X_train = province_train_df[['Year', 'PROVINCE', 'Week_no', 'Lag_1', 'Lag_2', 'Lag_3', 'Moving_Avg_3']]\n",
        "y_train = province_train_df['Count']\n",
        "\n",
        "# Select features and target for validation\n",
        "X_val = province_val_df[['Year', 'PROVINCE', 'Week_no', 'Lag_1', 'Lag_2', 'Lag_3', 'Moving_Avg_3']]\n",
        "y_val = province_val_df['Count']\n",
        "\n",
        "# Prepare the data for AutoGluon\n",
        "train_data = X_train.copy()\n",
        "train_data['Count'] = y_train\n",
        "val_data = X_val.copy()\n",
        "val_data['Count'] = y_val\n",
        "\n",
        "# Train the AutoGluon model\n",
        "Bangkok = TabularPredictor(label='Count', problem_type='regression', eval_metric='rmse').fit(train_data)\n",
        "\n",
        "# Evaluate the model on the validation data\n",
        "leaderboard = Bangkok.leaderboard(val_data, extra_metrics=['rmse'])\n",
        "\n",
        "# Get predictions on validation data\n",
        "y_pred = Bangkok.predict(X_val)\n",
        "\n",
        "# Calculate and print RMSE on validation data\n",
        "rmse_value = rmse(y_val, y_pred)\n",
        "\n",
        "pplot(pd.concat([province_train_df,province_val_df]),province)\n",
        "print(f\"\\nRMSE: {rmse_value}\")\n",
        "# Update the RMSE value for the province\n",
        "pvrecord[province] = rmse_value\n",
        "leaderboard"
      ]
    },
    {
      "cell_type": "markdown",
      "metadata": {
        "id": "wLX8_nBsW2iy"
      },
      "source": [
        "<hr>"
      ]
    },
    {
      "cell_type": "markdown",
      "metadata": {
        "id": "5oupY_xYZYLE"
      },
      "source": [
        "## Samut Prakan"
      ]
    },
    {
      "cell_type": "code",
      "execution_count": null,
      "metadata": {
        "id": "0Aol4U06n4ug"
      },
      "outputs": [],
      "source": [
        "province = \"Samut Prakan\"\n",
        "province_df = train_df[train_df['PROVINCE']==province]\n",
        "years = [2014,2015,2016,2017,2018,2019] #* select year that is outliner\n",
        "province_train_df = province_df[province_df['Year'].isin(years[:-1])].copy()\n",
        "province_val_df = province_df[province_df['Year'].isin([years[-1]])].copy()\n",
        "for lag in range(1, 4):\n",
        "    province_train_df.loc[:, f'Lag_{lag}'] = province_train_df['Count'].shift(lag)\n",
        "    province_val_df.loc[:, f'Lag_{lag}'] = province_val_df['Count'].shift(lag)\n",
        "province_train_df.loc[:, 'Moving_Avg_3'] = province_train_df['Count'].rolling(window=3).mean()\n",
        "province_val_df.loc[:, 'Moving_Avg_3'] = province_val_df['Count'].rolling(window=3).mean()\n",
        "province_train_df.fillna(0, inplace=True)\n",
        "province_val_df.fillna(0, inplace=True)\n",
        "X_train = province_train_df[['Year', 'PROVINCE', 'Week_no', 'Lag_1', 'Lag_2', 'Lag_3', 'Moving_Avg_3']]\n",
        "y_train = province_train_df['Count']\n",
        "X_val = province_val_df[['Year', 'PROVINCE', 'Week_no', 'Lag_1', 'Lag_2', 'Lag_3', 'Moving_Avg_3']]\n",
        "y_val = province_val_df['Count']\n",
        "train_data = X_train.copy()\n",
        "train_data['Count'] = y_train\n",
        "val_data = X_val.copy()\n",
        "val_data['Count'] = y_val\n",
        "Samut_Prakan = TabularPredictor(label='Count', problem_type='regression', eval_metric='rmse').fit(train_data)\n",
        "leaderboard = Samut_Prakan.leaderboard(val_data, extra_metrics=['rmse'])\n",
        "y_pred = Samut_Prakan.predict(X_val)\n",
        "rmse_value = rmse(y_val, y_pred)\n",
        "pplot(pd.concat([province_train_df,province_val_df]),province)\n",
        "print(f\"\\nRMSE: {rmse_value}\")\n",
        "pvrecord[province] = rmse_value\n",
        "leaderboard"
      ]
    },
    {
      "cell_type": "markdown",
      "metadata": {
        "id": "d1ZxlLshoATt"
      },
      "source": [
        "<br>\n",
        "\n",
        "## Nonthaburi"
      ]
    },
    {
      "cell_type": "code",
      "execution_count": null,
      "metadata": {
        "collapsed": true,
        "id": "n5oF6hybaU_X"
      },
      "outputs": [],
      "source": [
        "province = \"Nonthaburi\"\n",
        "province_df = train_df[train_df['PROVINCE']==province]\n",
        "years = [2013,2014,2015,2016,2017,2018,2019] #* select year that is outliner\n",
        "province_train_df = province_df[province_df['Year'].isin(years[:-1])].copy()\n",
        "province_val_df = province_df[province_df['Year'].isin([years[-1]])].copy()\n",
        "for lag in range(1, 4):\n",
        "    province_train_df.loc[:, f'Lag_{lag}'] = province_train_df['Count'].shift(lag)\n",
        "    province_val_df.loc[:, f'Lag_{lag}'] = province_val_df['Count'].shift(lag)\n",
        "province_train_df.loc[:, 'Moving_Avg_3'] = province_train_df['Count'].rolling(window=3).mean()\n",
        "province_val_df.loc[:, 'Moving_Avg_3'] = province_val_df['Count'].rolling(window=3).mean()\n",
        "province_train_df.fillna(0, inplace=True)\n",
        "province_val_df.fillna(0, inplace=True)\n",
        "X_train = province_train_df[['Year', 'PROVINCE', 'Week_no', 'Lag_1', 'Lag_2', 'Lag_3', 'Moving_Avg_3']]\n",
        "y_train = province_train_df['Count']\n",
        "X_val = province_val_df[['Year', 'PROVINCE', 'Week_no', 'Lag_1', 'Lag_2', 'Lag_3', 'Moving_Avg_3']]\n",
        "y_val = province_val_df['Count']\n",
        "train_data = X_train.copy()\n",
        "train_data['Count'] = y_train\n",
        "val_data = X_val.copy()\n",
        "val_data['Count'] = y_val\n",
        "Nonthaburi = TabularPredictor(label='Count', problem_type='regression', eval_metric='rmse').fit(train_data)\n",
        "leaderboard = Nonthaburi.leaderboard(val_data, extra_metrics=['rmse'])\n",
        "y_pred = Nonthaburi.predict(X_val)\n",
        "rmse_value = rmse(y_val, y_pred)\n",
        "pplot(pd.concat([province_train_df,province_val_df]),province)\n",
        "print(f\"\\nRMSE: {rmse_value}\")\n",
        "pvrecord[province] = rmse_value\n",
        "leaderboard"
      ]
    },
    {
      "cell_type": "markdown",
      "metadata": {
        "id": "O_PCGVKFbE06"
      },
      "source": [
        "# Pathum Thani"
      ]
    },
    {
      "cell_type": "code",
      "execution_count": null,
      "metadata": {
        "id": "5ebBH9HDaVTk"
      },
      "outputs": [],
      "source": [
        "province = \"Pathum Thani\"\n",
        "province_df = train_df[train_df['PROVINCE']==province]\n",
        "years = [2013,2014,2015,2017,2018,2019] #* select year that is outliner\n",
        "province_train_df = province_df[province_df['Year'].isin(years[:-1])].copy()\n",
        "province_val_df = province_df[province_df['Year'].isin([years[-1]])].copy()\n",
        "for lag in range(1, 4):\n",
        "    province_train_df.loc[:, f'Lag_{lag}'] = province_train_df['Count'].shift(lag)\n",
        "    province_val_df.loc[:, f'Lag_{lag}'] = province_val_df['Count'].shift(lag)\n",
        "province_train_df.loc[:, 'Moving_Avg_3'] = province_train_df['Count'].rolling(window=3).mean()\n",
        "province_val_df.loc[:, 'Moving_Avg_3'] = province_val_df['Count'].rolling(window=3).mean()\n",
        "province_train_df.fillna(0, inplace=True)\n",
        "province_val_df.fillna(0, inplace=True)\n",
        "X_train = province_train_df[['Year', 'PROVINCE', 'Week_no', 'Lag_1', 'Lag_2', 'Lag_3', 'Moving_Avg_3']]\n",
        "y_train = province_train_df['Count']\n",
        "X_val = province_val_df[['Year', 'PROVINCE', 'Week_no', 'Lag_1', 'Lag_2', 'Lag_3', 'Moving_Avg_3']]\n",
        "y_val = province_val_df['Count']\n",
        "train_data = X_train.copy()\n",
        "train_data['Count'] = y_train\n",
        "val_data = X_val.copy()\n",
        "val_data['Count'] = y_val\n",
        "Pathum_Thani = TabularPredictor(label='Count', problem_type='regression', eval_metric='rmse').fit(train_data)\n",
        "leaderboard = Pathum_Thani.leaderboard(val_data, extra_metrics=['rmse'])\n",
        "y_pred = Pathum_Thani.predict(X_val)\n",
        "rmse_value = rmse(y_val, y_pred)\n",
        "pplot(pd.concat([province_train_df,province_val_df]),province)\n",
        "print(f\"\\nRMSE: {rmse_value}\")\n",
        "pvrecord[province] = rmse_value\n",
        "leaderboard"
      ]
    },
    {
      "cell_type": "markdown",
      "metadata": {
        "id": "9zPiMcprbZ2B"
      },
      "source": [
        "<hr>\n",
        "\n",
        "## Phra Nakhon Si Ayutthaya"
      ]
    },
    {
      "cell_type": "code",
      "execution_count": null,
      "metadata": {
        "id": "4MdVxrs7bdHl"
      },
      "outputs": [],
      "source": [
        "province = \"Phra Nakhon Si Ayutthaya\"\n",
        "province_df = train_df[train_df['PROVINCE']==province]\n",
        "years = [2013,2014,2015,2016,2017,2018,2019,2020] #* select year that is outliner\n",
        "province_train_df = province_df[province_df['Year'].isin(years[:-1])].copy()\n",
        "province_val_df = province_df[province_df['Year'].isin([years[-1]])].copy()\n",
        "for lag in range(1, 4):\n",
        "    province_train_df.loc[:, f'Lag_{lag}'] = province_train_df['Count'].shift(lag)\n",
        "    province_val_df.loc[:, f'Lag_{lag}'] = province_val_df['Count'].shift(lag)\n",
        "province_train_df.loc[:, 'Moving_Avg_3'] = province_train_df['Count'].rolling(window=3).mean()\n",
        "province_val_df.loc[:, 'Moving_Avg_3'] = province_val_df['Count'].rolling(window=3).mean()\n",
        "province_train_df.fillna(0, inplace=True)\n",
        "province_val_df.fillna(0, inplace=True)\n",
        "X_train = province_train_df[['Year', 'PROVINCE', 'Week_no', 'Lag_1', 'Lag_2', 'Lag_3', 'Moving_Avg_3']]\n",
        "y_train = province_train_df['Count']\n",
        "X_val = province_val_df[['Year', 'PROVINCE', 'Week_no', 'Lag_1', 'Lag_2', 'Lag_3', 'Moving_Avg_3']]\n",
        "y_val = province_val_df['Count']\n",
        "train_data = X_train.copy()\n",
        "train_data['Count'] = y_train\n",
        "val_data = X_val.copy()\n",
        "val_data['Count'] = y_val\n",
        "Phra_Nakhon_Si_Ayutthaya = TabularPredictor(label='Count', problem_type='regression', eval_metric='rmse').fit(train_data)\n",
        "leaderboard = Phra_Nakhon_Si_Ayutthaya.leaderboard(val_data, extra_metrics=['rmse'])\n",
        "y_pred = Phra_Nakhon_Si_Ayutthaya.predict(X_val)\n",
        "rmse_value = rmse(y_val, y_pred)\n",
        "pplot(pd.concat([province_train_df,province_val_df]),province)\n",
        "print(f\"\\nRMSE: {rmse_value}\")\n",
        "pvrecord[province] = rmse_value\n",
        "leaderboard"
      ]
    },
    {
      "cell_type": "markdown",
      "metadata": {
        "id": "HXZQbuYabsRD"
      },
      "source": [
        "<hr>\n",
        "\n",
        "## Ang Thong"
      ]
    },
    {
      "cell_type": "code",
      "execution_count": null,
      "metadata": {
        "id": "gu_MJM7UbveV"
      },
      "outputs": [],
      "source": [
        "province = \"Ang Thong\"\n",
        "province_df = train_df[train_df['PROVINCE']==province]\n",
        "years = [2013,2014,2015,2016,2017,2018,2019,2020] #* select year that is outliner\n",
        "province_train_df = province_df[province_df['Year'].isin(years[:-1])].copy()\n",
        "province_val_df = province_df[province_df['Year'].isin([years[-1]])].copy()\n",
        "for lag in range(1, 4):\n",
        "    province_train_df.loc[:, f'Lag_{lag}'] = province_train_df['Count'].shift(lag)\n",
        "    province_val_df.loc[:, f'Lag_{lag}'] = province_val_df['Count'].shift(lag)\n",
        "province_train_df.loc[:, 'Moving_Avg_3'] = province_train_df['Count'].rolling(window=3).mean()\n",
        "province_val_df.loc[:, 'Moving_Avg_3'] = province_val_df['Count'].rolling(window=3).mean()\n",
        "province_train_df.fillna(0, inplace=True)\n",
        "province_val_df.fillna(0, inplace=True)\n",
        "X_train = province_train_df[['Year', 'PROVINCE', 'Week_no', 'Lag_1', 'Lag_2', 'Lag_3', 'Moving_Avg_3']]\n",
        "y_train = province_train_df['Count']\n",
        "X_val = province_val_df[['Year', 'PROVINCE', 'Week_no', 'Lag_1', 'Lag_2', 'Lag_3', 'Moving_Avg_3']]\n",
        "y_val = province_val_df['Count']\n",
        "train_data = X_train.copy()\n",
        "train_data['Count'] = y_train\n",
        "val_data = X_val.copy()\n",
        "val_data['Count'] = y_val\n",
        "Ang_Thong = TabularPredictor(label='Count', problem_type='regression', eval_metric='rmse').fit(train_data)\n",
        "leaderboard = Ang_Thong.leaderboard(val_data, extra_metrics=['rmse'])\n",
        "y_pred = Ang_Thong.predict(X_val)\n",
        "rmse_value = rmse(y_val, y_pred)\n",
        "pplot(pd.concat([province_train_df,province_val_df]),province)\n",
        "print(f\"\\nRMSE: {rmse_value}\")\n",
        "pvrecord[province] = rmse_value\n",
        "leaderboard"
      ]
    },
    {
      "cell_type": "markdown",
      "metadata": {
        "id": "2B_ew2fwcAxr"
      },
      "source": [
        "<br>\n",
        "\n",
        "## Lopburi"
      ]
    },
    {
      "cell_type": "code",
      "execution_count": null,
      "metadata": {
        "id": "brImhd2RcHMJ"
      },
      "outputs": [],
      "source": [
        "province = \"Lopburi\"\n",
        "province_df = train_df[train_df['PROVINCE']==province]\n",
        "years = [2013,2014,2015,2017,2018] #* select year that is outliner ,2016\n",
        "province_train_df = province_df[province_df['Year'].isin(years[:-1])].copy()\n",
        "province_val_df = province_df[province_df['Year'].isin([years[-1]])].copy()\n",
        "for lag in range(1, 4):\n",
        "    province_train_df.loc[:, f'Lag_{lag}'] = province_train_df['Count'].shift(lag)\n",
        "    province_val_df.loc[:, f'Lag_{lag}'] = province_val_df['Count'].shift(lag)\n",
        "province_train_df.loc[:, 'Moving_Avg_3'] = province_train_df['Count'].rolling(window=3).mean()\n",
        "province_val_df.loc[:, 'Moving_Avg_3'] = province_val_df['Count'].rolling(window=3).mean()\n",
        "province_train_df.fillna(0, inplace=True)\n",
        "province_val_df.fillna(0, inplace=True)\n",
        "X_train = province_train_df[['Year', 'PROVINCE', 'Week_no', 'Lag_1', 'Lag_2', 'Lag_3', 'Moving_Avg_3']]\n",
        "y_train = province_train_df['Count']\n",
        "X_val = province_val_df[['Year', 'PROVINCE', 'Week_no', 'Lag_1', 'Lag_2', 'Lag_3', 'Moving_Avg_3']]\n",
        "y_val = province_val_df['Count']\n",
        "train_data = X_train.copy()\n",
        "train_data['Count'] = y_train\n",
        "val_data = X_val.copy()\n",
        "val_data['Count'] = y_val\n",
        "Lopburi = TabularPredictor(label='Count', problem_type='regression', eval_metric='rmse').fit(train_data)\n",
        "leaderboard = Lopburi.leaderboard(val_data, extra_metrics=['rmse'])\n",
        "y_pred = Lopburi.predict(X_val)\n",
        "rmse_value = rmse(y_val, y_pred)\n",
        "pplot(pd.concat([province_train_df,province_val_df]),province)\n",
        "print(f\"\\nRMSE: {rmse_value}\")\n",
        "pvrecord[province] = rmse_value\n",
        "leaderboard"
      ]
    },
    {
      "cell_type": "markdown",
      "metadata": {
        "id": "WFC1blaucWN5"
      },
      "source": [
        "<br>\n",
        "\n",
        "## Sing Buri"
      ]
    },
    {
      "cell_type": "code",
      "execution_count": null,
      "metadata": {
        "id": "vF9knwuqcYpz"
      },
      "outputs": [],
      "source": [
        "province = \"Sing Buri\"\n",
        "province_df = train_df[train_df['PROVINCE']==province]\n",
        "years = [2016,2017,2018,2019,2020] #* select year that is outliner\n",
        "province_train_df = province_df[province_df['Year'].isin(years[:-1])].copy()\n",
        "province_val_df = province_df[province_df['Year'].isin([years[-1]])].copy()\n",
        "for lag in range(1, 4):\n",
        "    province_train_df.loc[:, f'Lag_{lag}'] = province_train_df['Count'].shift(lag)\n",
        "    province_val_df.loc[:, f'Lag_{lag}'] = province_val_df['Count'].shift(lag)\n",
        "province_train_df.loc[:, 'Moving_Avg_3'] = province_train_df['Count'].rolling(window=3).mean()\n",
        "province_val_df.loc[:, 'Moving_Avg_3'] = province_val_df['Count'].rolling(window=3).mean()\n",
        "province_train_df.fillna(0, inplace=True)\n",
        "province_val_df.fillna(0, inplace=True)\n",
        "X_train = province_train_df[['Year', 'PROVINCE', 'Week_no', 'Lag_1', 'Lag_2', 'Lag_3', 'Moving_Avg_3']]\n",
        "y_train = province_train_df['Count']\n",
        "X_val = province_val_df[['Year', 'PROVINCE', 'Week_no', 'Lag_1', 'Lag_2', 'Lag_3', 'Moving_Avg_3']]\n",
        "y_val = province_val_df['Count']\n",
        "train_data = X_train.copy()\n",
        "train_data['Count'] = y_train\n",
        "val_data = X_val.copy()\n",
        "val_data['Count'] = y_val\n",
        "Sing_Buri = TabularPredictor(label='Count', problem_type='regression', eval_metric='rmse').fit(train_data)\n",
        "leaderboard = Sing_Buri.leaderboard(val_data, extra_metrics=['rmse'])\n",
        "y_pred = Sing_Buri.predict(X_val)\n",
        "rmse_value = rmse(y_val, y_pred)\n",
        "pplot(pd.concat([province_train_df,province_val_df]),province)\n",
        "print(f\"\\nRMSE: {rmse_value}\")\n",
        "pvrecord[province] = rmse_value\n",
        "leaderboard"
      ]
    },
    {
      "cell_type": "markdown",
      "metadata": {
        "id": "ktbKdf3uc2Ye"
      },
      "source": [
        "<br>\n",
        "\n",
        "## Chainat"
      ]
    },
    {
      "cell_type": "code",
      "execution_count": null,
      "metadata": {
        "id": "M0KAvfrAc5yJ"
      },
      "outputs": [],
      "source": [
        "province = \"Chainat\"\n",
        "province_df = train_df[train_df['PROVINCE']==province]\n",
        "years = [2016,2017,2018,2019,2020] #* select year that is outliner\n",
        "province_train_df = province_df[province_df['Year'].isin(years[:-1])].copy()\n",
        "province_val_df = province_df[province_df['Year'].isin([years[-1]])].copy()\n",
        "for lag in range(1, 4):\n",
        "    province_train_df.loc[:, f'Lag_{lag}'] = province_train_df['Count'].shift(lag)\n",
        "    province_val_df.loc[:, f'Lag_{lag}'] = province_val_df['Count'].shift(lag)\n",
        "province_train_df.loc[:, 'Moving_Avg_3'] = province_train_df['Count'].rolling(window=3).mean()\n",
        "province_val_df.loc[:, 'Moving_Avg_3'] = province_val_df['Count'].rolling(window=3).mean()\n",
        "province_train_df.fillna(0, inplace=True)\n",
        "province_val_df.fillna(0, inplace=True)\n",
        "X_train = province_train_df[['Year', 'PROVINCE', 'Week_no', 'Lag_1', 'Lag_2', 'Lag_3', 'Moving_Avg_3']]\n",
        "y_train = province_train_df['Count']\n",
        "X_val = province_val_df[['Year', 'PROVINCE', 'Week_no', 'Lag_1', 'Lag_2', 'Lag_3', 'Moving_Avg_3']]\n",
        "y_val = province_val_df['Count']\n",
        "train_data = X_train.copy()\n",
        "train_data['Count'] = y_train\n",
        "val_data = X_val.copy()\n",
        "val_data['Count'] = y_val\n",
        "Chainat = TabularPredictor(label='Count', problem_type='regression', eval_metric='rmse').fit(train_data)\n",
        "leaderboard = Chainat.leaderboard(val_data, extra_metrics=['rmse'])\n",
        "y_pred = Chainat.predict(X_val)\n",
        "rmse_value = rmse(y_val, y_pred)\n",
        "pplot(pd.concat([province_train_df,province_val_df]),province)\n",
        "print(f\"\\nRMSE: {rmse_value}\")\n",
        "pvrecord[province] = rmse_value\n",
        "leaderboard"
      ]
    },
    {
      "cell_type": "markdown",
      "metadata": {
        "id": "l3KE4aTldLKk"
      },
      "source": [
        "<br>\n",
        "\n",
        "## Saraburi"
      ]
    },
    {
      "cell_type": "code",
      "execution_count": null,
      "metadata": {
        "id": "Ayql735mdNiP"
      },
      "outputs": [],
      "source": [
        "province = \"Saraburi\"\n",
        "province_df = train_df[train_df['PROVINCE']==province]\n",
        "years = [2014,2015,2017,2018,2019] #* select year that is outliner\n",
        "province_train_df = province_df[province_df['Year'].isin(years[:-1])].copy()\n",
        "province_val_df = province_df[province_df['Year'].isin([years[-1]])].copy()\n",
        "for lag in range(1, 4):\n",
        "    province_train_df.loc[:, f'Lag_{lag}'] = province_train_df['Count'].shift(lag)\n",
        "    province_val_df.loc[:, f'Lag_{lag}'] = province_val_df['Count'].shift(lag)\n",
        "province_train_df.loc[:, 'Moving_Avg_3'] = province_train_df['Count'].rolling(window=3).mean()\n",
        "province_val_df.loc[:, 'Moving_Avg_3'] = province_val_df['Count'].rolling(window=3).mean()\n",
        "province_train_df.fillna(0, inplace=True)\n",
        "province_val_df.fillna(0, inplace=True)\n",
        "X_train = province_train_df[['Year', 'PROVINCE', 'Week_no', 'Lag_1', 'Lag_2', 'Lag_3', 'Moving_Avg_3']]\n",
        "y_train = province_train_df['Count']\n",
        "X_val = province_val_df[['Year', 'PROVINCE', 'Week_no', 'Lag_1', 'Lag_2', 'Lag_3', 'Moving_Avg_3']]\n",
        "y_val = province_val_df['Count']\n",
        "train_data = X_train.copy()\n",
        "train_data['Count'] = y_train\n",
        "val_data = X_val.copy()\n",
        "val_data['Count'] = y_val\n",
        "Saraburi = TabularPredictor(label='Count', problem_type='regression', eval_metric='rmse').fit(train_data)\n",
        "leaderboard = Saraburi.leaderboard(val_data, extra_metrics=['rmse'])\n",
        "y_pred = Saraburi.predict(X_val)\n",
        "rmse_value = rmse(y_val, y_pred)\n",
        "pplot(pd.concat([province_train_df,province_val_df]),province)\n",
        "print(f\"\\nRMSE: {rmse_value}\")\n",
        "pvrecord[province] = rmse_value\n",
        "leaderboard"
      ]
    },
    {
      "cell_type": "markdown",
      "metadata": {
        "id": "A_Cw2oxAdqO3"
      },
      "source": [
        "<br>\n",
        "\n",
        "## Chonburi"
      ]
    },
    {
      "cell_type": "code",
      "execution_count": null,
      "metadata": {
        "id": "zC4J7fpIdtXj"
      },
      "outputs": [],
      "source": [
        "province = \"Chonburi\"\n",
        "province_df = train_df[train_df['PROVINCE']==province]\n",
        "years = [2013,2014,2016,2017,2019] #* select year that is outliner\n",
        "province_train_df = province_df[province_df['Year'].isin(years[:-1])].copy()\n",
        "province_val_df = province_df[province_df['Year'].isin([years[-1]])].copy()\n",
        "for lag in range(1, 4):\n",
        "    province_train_df.loc[:, f'Lag_{lag}'] = province_train_df['Count'].shift(lag)\n",
        "    province_val_df.loc[:, f'Lag_{lag}'] = province_val_df['Count'].shift(lag)\n",
        "province_train_df.loc[:, 'Moving_Avg_3'] = province_train_df['Count'].rolling(window=3).mean()\n",
        "province_val_df.loc[:, 'Moving_Avg_3'] = province_val_df['Count'].rolling(window=3).mean()\n",
        "province_train_df.fillna(0, inplace=True)\n",
        "province_val_df.fillna(0, inplace=True)\n",
        "X_train = province_train_df[['Year', 'PROVINCE', 'Week_no', 'Lag_1', 'Lag_2', 'Lag_3', 'Moving_Avg_3']]\n",
        "y_train = province_train_df['Count']\n",
        "X_val = province_val_df[['Year', 'PROVINCE', 'Week_no', 'Lag_1', 'Lag_2', 'Lag_3', 'Moving_Avg_3']]\n",
        "y_val = province_val_df['Count']\n",
        "train_data = X_train.copy()\n",
        "train_data['Count'] = y_train\n",
        "val_data = X_val.copy()\n",
        "val_data['Count'] = y_val\n",
        "Chonburi = TabularPredictor(label='Count', problem_type='regression', eval_metric='rmse').fit(train_data)\n",
        "leaderboard = Chonburi.leaderboard(val_data, extra_metrics=['rmse'])\n",
        "y_pred = Chonburi.predict(X_val)\n",
        "rmse_value = rmse(y_val, y_pred)\n",
        "pplot(pd.concat([province_train_df,province_val_df]),province)\n",
        "print(f\"\\nRMSE: {rmse_value}\")\n",
        "pvrecord[province] = rmse_value\n",
        "leaderboard"
      ]
    },
    {
      "cell_type": "markdown",
      "metadata": {
        "id": "4WInzk2Ge9W1"
      },
      "source": [
        "<br>\n",
        "\n",
        "## Rayong"
      ]
    },
    {
      "cell_type": "code",
      "execution_count": null,
      "metadata": {
        "id": "vPOSG9SQfGqj"
      },
      "outputs": [],
      "source": [
        "province = \"Rayong\"\n",
        "province_df = train_df[train_df['PROVINCE']==province]\n",
        "years = [2014,2017,2018,2019] #* select year that is outliner\n",
        "province_train_df = province_df[province_df['Year'].isin(years[:-1])].copy()\n",
        "province_val_df = province_df[province_df['Year'].isin([years[-1]])].copy()\n",
        "for lag in range(1, 4):\n",
        "    province_train_df.loc[:, f'Lag_{lag}'] = province_train_df['Count'].shift(lag)\n",
        "    province_val_df.loc[:, f'Lag_{lag}'] = province_val_df['Count'].shift(lag)\n",
        "province_train_df.loc[:, 'Moving_Avg_3'] = province_train_df['Count'].rolling(window=3).mean()\n",
        "province_val_df.loc[:, 'Moving_Avg_3'] = province_val_df['Count'].rolling(window=3).mean()\n",
        "province_train_df.fillna(0, inplace=True)\n",
        "province_val_df.fillna(0, inplace=True)\n",
        "X_train = province_train_df[['Year', 'PROVINCE', 'Week_no', 'Lag_1', 'Lag_2', 'Lag_3', 'Moving_Avg_3']]\n",
        "y_train = province_train_df['Count']\n",
        "X_val = province_val_df[['Year', 'PROVINCE', 'Week_no', 'Lag_1', 'Lag_2', 'Lag_3', 'Moving_Avg_3']]\n",
        "y_val = province_val_df['Count']\n",
        "train_data = X_train.copy()\n",
        "train_data['Count'] = y_train\n",
        "val_data = X_val.copy()\n",
        "val_data['Count'] = y_val\n",
        "Rayong = TabularPredictor(label='Count', problem_type='regression', eval_metric='rmse').fit(train_data)\n",
        "leaderboard = Rayong.leaderboard(val_data, extra_metrics=['rmse'])\n",
        "y_pred = Rayong.predict(X_val)\n",
        "rmse_value = rmse(y_val, y_pred)\n",
        "pplot(pd.concat([province_train_df,province_val_df]),province)\n",
        "print(f\"\\nRMSE: {rmse_value}\")\n",
        "pvrecord[province] = rmse_value\n",
        "leaderboard"
      ]
    },
    {
      "cell_type": "markdown",
      "metadata": {
        "id": "Ls-y_llGf9Zf"
      },
      "source": [
        "<br>\n",
        "\n",
        "## Chanthaburi"
      ]
    },
    {
      "cell_type": "code",
      "execution_count": null,
      "metadata": {
        "id": "raRt78dSgGV6"
      },
      "outputs": [],
      "source": [
        "province = \"Chanthaburi\"\n",
        "province_df = train_df[train_df['PROVINCE']==province]\n",
        "years = [2014,2015,2016,2017,2018,2019] #* select year that is outliner\n",
        "province_train_df = province_df[province_df['Year'].isin(years[:-1])].copy()\n",
        "province_val_df = province_df[province_df['Year'].isin([years[-1]])].copy()\n",
        "for lag in range(1, 4):\n",
        "    province_train_df.loc[:, f'Lag_{lag}'] = province_train_df['Count'].shift(lag)\n",
        "    province_val_df.loc[:, f'Lag_{lag}'] = province_val_df['Count'].shift(lag)\n",
        "province_train_df.loc[:, 'Moving_Avg_3'] = province_train_df['Count'].rolling(window=3).mean()\n",
        "province_val_df.loc[:, 'Moving_Avg_3'] = province_val_df['Count'].rolling(window=3).mean()\n",
        "province_train_df.fillna(0, inplace=True)\n",
        "province_val_df.fillna(0, inplace=True)\n",
        "X_train = province_train_df[['Year', 'PROVINCE', 'Week_no', 'Lag_1', 'Lag_2', 'Lag_3', 'Moving_Avg_3']]\n",
        "y_train = province_train_df['Count']\n",
        "X_val = province_val_df[['Year', 'PROVINCE', 'Week_no', 'Lag_1', 'Lag_2', 'Lag_3', 'Moving_Avg_3']]\n",
        "y_val = province_val_df['Count']\n",
        "train_data = X_train.copy()\n",
        "train_data['Count'] = y_train\n",
        "val_data = X_val.copy()\n",
        "val_data['Count'] = y_val\n",
        "Chanthaburi = TabularPredictor(label='Count', problem_type='regression', eval_metric='rmse').fit(train_data)\n",
        "leaderboard = Chanthaburi.leaderboard(val_data, extra_metrics=['rmse'])\n",
        "y_pred = Chanthaburi.predict(X_val)\n",
        "rmse_value = rmse(y_val, y_pred)\n",
        "pplot(pd.concat([province_train_df,province_val_df]),province)\n",
        "print(f\"\\nRMSE: {rmse_value}\")\n",
        "pvrecord[province] = rmse_value\n",
        "leaderboard"
      ]
    },
    {
      "cell_type": "markdown",
      "metadata": {
        "id": "B3Ni7yn3gYKc"
      },
      "source": [
        "<br>\n",
        "\n",
        "## Trat"
      ]
    },
    {
      "cell_type": "code",
      "execution_count": null,
      "metadata": {
        "id": "02D1iv47gdOk"
      },
      "outputs": [],
      "source": [
        "province = \"Trat\"\n",
        "province_df = train_df[train_df['PROVINCE']==province]\n",
        "years = [2013,2015,2016,2017,2018,2019,2020] #* select year that is outliner\n",
        "province_train_df = province_df[province_df['Year'].isin(years[:-1])].copy()\n",
        "province_val_df = province_df[province_df['Year'].isin([years[-1]])].copy()\n",
        "for lag in range(1, 4):\n",
        "    province_train_df.loc[:, f'Lag_{lag}'] = province_train_df['Count'].shift(lag)\n",
        "    province_val_df.loc[:, f'Lag_{lag}'] = province_val_df['Count'].shift(lag)\n",
        "province_train_df.loc[:, 'Moving_Avg_3'] = province_train_df['Count'].rolling(window=3).mean()\n",
        "province_val_df.loc[:, 'Moving_Avg_3'] = province_val_df['Count'].rolling(window=3).mean()\n",
        "province_train_df.fillna(0, inplace=True)\n",
        "province_val_df.fillna(0, inplace=True)\n",
        "X_train = province_train_df[['Year', 'PROVINCE', 'Week_no', 'Lag_1', 'Lag_2', 'Lag_3', 'Moving_Avg_3']]\n",
        "y_train = province_train_df['Count']\n",
        "X_val = province_val_df[['Year', 'PROVINCE', 'Week_no', 'Lag_1', 'Lag_2', 'Lag_3', 'Moving_Avg_3']]\n",
        "y_val = province_val_df['Count']\n",
        "train_data = X_train.copy()\n",
        "train_data['Count'] = y_train\n",
        "val_data = X_val.copy()\n",
        "val_data['Count'] = y_val\n",
        "Trat = TabularPredictor(label='Count', problem_type='regression', eval_metric='rmse').fit(train_data)\n",
        "leaderboard = Trat.leaderboard(val_data, extra_metrics=['rmse'])\n",
        "y_pred = Trat.predict(X_val)\n",
        "rmse_value = rmse(y_val, y_pred)\n",
        "pplot(pd.concat([province_train_df,province_val_df]),province)\n",
        "print(f\"\\nRMSE: {rmse_value}\")\n",
        "pvrecord[province] = rmse_value\n",
        "leaderboard"
      ]
    },
    {
      "cell_type": "markdown",
      "metadata": {
        "id": "VArT72TWgnjM"
      },
      "source": [
        "<br>\n",
        "\n",
        "## Chachoengsao"
      ]
    },
    {
      "cell_type": "code",
      "execution_count": null,
      "metadata": {
        "id": "7Qj5pEP2gtkz"
      },
      "outputs": [],
      "source": [
        "province = \"Chachoengsao\"\n",
        "province_df = train_df[train_df['PROVINCE']==province]\n",
        "years = [2013,2015,2017,2018,2019] #* select year that is outliner\n",
        "province_train_df = province_df[province_df['Year'].isin(years[:-1])].copy()\n",
        "province_val_df = province_df[province_df['Year'].isin([years[-1]])].copy()\n",
        "for lag in range(1, 4):\n",
        "    province_train_df.loc[:, f'Lag_{lag}'] = province_train_df['Count'].shift(lag)\n",
        "    province_val_df.loc[:, f'Lag_{lag}'] = province_val_df['Count'].shift(lag)\n",
        "province_train_df.loc[:, 'Moving_Avg_3'] = province_train_df['Count'].rolling(window=3).mean()\n",
        "province_val_df.loc[:, 'Moving_Avg_3'] = province_val_df['Count'].rolling(window=3).mean()\n",
        "province_train_df.fillna(0, inplace=True)\n",
        "province_val_df.fillna(0, inplace=True)\n",
        "X_train = province_train_df[['Year', 'PROVINCE', 'Week_no', 'Lag_1', 'Lag_2', 'Lag_3', 'Moving_Avg_3']]\n",
        "y_train = province_train_df['Count']\n",
        "X_val = province_val_df[['Year', 'PROVINCE', 'Week_no', 'Lag_1', 'Lag_2', 'Lag_3', 'Moving_Avg_3']]\n",
        "y_val = province_val_df['Count']\n",
        "train_data = X_train.copy()\n",
        "train_data['Count'] = y_train\n",
        "val_data = X_val.copy()\n",
        "val_data['Count'] = y_val\n",
        "Chachoengsao = TabularPredictor(label='Count', problem_type='regression', eval_metric='rmse').fit(train_data)\n",
        "leaderboard = Chachoengsao.leaderboard(val_data, extra_metrics=['rmse'])\n",
        "y_pred = Chachoengsao.predict(X_val)\n",
        "rmse_value = rmse(y_val, y_pred)\n",
        "pplot(pd.concat([province_train_df,province_val_df]),province)\n",
        "print(f\"\\nRMSE: {rmse_value}\")\n",
        "pvrecord[province] = rmse_value\n",
        "leaderboard"
      ]
    },
    {
      "cell_type": "markdown",
      "metadata": {
        "id": "Q2neLnzbhBIS"
      },
      "source": [
        "<br>\n",
        "\n",
        "## Prachinburi"
      ]
    },
    {
      "cell_type": "code",
      "execution_count": null,
      "metadata": {
        "id": "UKe4iZYShCr1"
      },
      "outputs": [],
      "source": [
        "province = \"Prachinburi\"\n",
        "province_df = train_df[train_df['PROVINCE']==province]\n",
        "years = [2013,2015,2016,2017,2018,2019] #* select year that is outliner\n",
        "province_train_df = province_df[province_df['Year'].isin(years[:-1])].copy()\n",
        "province_val_df = province_df[province_df['Year'].isin([years[-1]])].copy()\n",
        "for lag in range(1, 4):\n",
        "    province_train_df.loc[:, f'Lag_{lag}'] = province_train_df['Count'].shift(lag)\n",
        "    province_val_df.loc[:, f'Lag_{lag}'] = province_val_df['Count'].shift(lag)\n",
        "province_train_df.loc[:, 'Moving_Avg_3'] = province_train_df['Count'].rolling(window=3).mean()\n",
        "province_val_df.loc[:, 'Moving_Avg_3'] = province_val_df['Count'].rolling(window=3).mean()\n",
        "province_train_df.fillna(0, inplace=True)\n",
        "province_val_df.fillna(0, inplace=True)\n",
        "X_train = province_train_df[['Year', 'PROVINCE', 'Week_no', 'Lag_1', 'Lag_2', 'Lag_3', 'Moving_Avg_3']]\n",
        "y_train = province_train_df['Count']\n",
        "X_val = province_val_df[['Year', 'PROVINCE', 'Week_no', 'Lag_1', 'Lag_2', 'Lag_3', 'Moving_Avg_3']]\n",
        "y_val = province_val_df['Count']\n",
        "train_data = X_train.copy()\n",
        "train_data['Count'] = y_train\n",
        "val_data = X_val.copy()\n",
        "val_data['Count'] = y_val\n",
        "Prachinburi = TabularPredictor(label='Count', problem_type='regression', eval_metric='rmse').fit(train_data)\n",
        "leaderboard = Prachinburi.leaderboard(val_data, extra_metrics=['rmse'])\n",
        "y_pred = Prachinburi.predict(X_val)\n",
        "rmse_value = rmse(y_val, y_pred)\n",
        "pplot(pd.concat([province_train_df,province_val_df]),province)\n",
        "print(f\"\\nRMSE: {rmse_value}\")\n",
        "pvrecord[province] = rmse_value\n",
        "leaderboard"
      ]
    },
    {
      "cell_type": "markdown",
      "metadata": {
        "id": "qoXMXIqshVrB"
      },
      "source": [
        "<br>\n",
        "\n",
        "## Nakhon Nayok"
      ]
    },
    {
      "cell_type": "code",
      "execution_count": null,
      "metadata": {
        "id": "oW2G4KvbhXPQ"
      },
      "outputs": [],
      "source": [
        "province = \"Nakhon Nayok\"\n",
        "province_df = train_df[train_df['PROVINCE']==province]\n",
        "years = [2013,2014,2015,2016,2017,2018,2019,2020] #* select year that is outliner\n",
        "province_train_df = province_df[province_df['Year'].isin(years[:-1])].copy()\n",
        "province_val_df = province_df[province_df['Year'].isin([years[-1]])].copy()\n",
        "for lag in range(1, 4):\n",
        "    province_train_df.loc[:, f'Lag_{lag}'] = province_train_df['Count'].shift(lag)\n",
        "    province_val_df.loc[:, f'Lag_{lag}'] = province_val_df['Count'].shift(lag)\n",
        "province_train_df.loc[:, 'Moving_Avg_3'] = province_train_df['Count'].rolling(window=3).mean()\n",
        "province_val_df.loc[:, 'Moving_Avg_3'] = province_val_df['Count'].rolling(window=3).mean()\n",
        "province_train_df.fillna(0, inplace=True)\n",
        "province_val_df.fillna(0, inplace=True)\n",
        "X_train = province_train_df[['Year', 'PROVINCE', 'Week_no', 'Lag_1', 'Lag_2', 'Lag_3', 'Moving_Avg_3']]\n",
        "y_train = province_train_df['Count']\n",
        "X_val = province_val_df[['Year', 'PROVINCE', 'Week_no', 'Lag_1', 'Lag_2', 'Lag_3', 'Moving_Avg_3']]\n",
        "y_val = province_val_df['Count']\n",
        "train_data = X_train.copy()\n",
        "train_data['Count'] = y_train\n",
        "val_data = X_val.copy()\n",
        "val_data['Count'] = y_val\n",
        "Nakhon_Nayok = TabularPredictor(label='Count', problem_type='regression', eval_metric='rmse').fit(train_data)\n",
        "leaderboard = Nakhon_Nayok.leaderboard(val_data, extra_metrics=['rmse'])\n",
        "y_pred = Nakhon_Nayok.predict(X_val)\n",
        "rmse_value = rmse(y_val, y_pred)\n",
        "pplot(pd.concat([province_train_df,province_val_df]),province)\n",
        "print(f\"\\nRMSE: {rmse_value}\")\n",
        "pvrecord[province] = rmse_value\n",
        "leaderboard"
      ]
    },
    {
      "cell_type": "markdown",
      "metadata": {
        "id": "raRSExMJhmJM"
      },
      "source": [
        "<br>\n",
        "\n",
        "## Sa Kaeo"
      ]
    },
    {
      "cell_type": "code",
      "execution_count": null,
      "metadata": {
        "id": "eab60Bcrhnk2"
      },
      "outputs": [],
      "source": [
        "province = \"Sa Kaeo\"\n",
        "province_df = train_df[train_df['PROVINCE']==province]\n",
        "years = [2014,2016,2017,2018,2019] #* select year that is outliner\n",
        "province_train_df = province_df[province_df['Year'].isin(years[:-1])].copy()\n",
        "province_val_df = province_df[province_df['Year'].isin([years[-1]])].copy()\n",
        "for lag in range(1, 4):\n",
        "    province_train_df.loc[:, f'Lag_{lag}'] = province_train_df['Count'].shift(lag)\n",
        "    province_val_df.loc[:, f'Lag_{lag}'] = province_val_df['Count'].shift(lag)\n",
        "province_train_df.loc[:, 'Moving_Avg_3'] = province_train_df['Count'].rolling(window=3).mean()\n",
        "province_val_df.loc[:, 'Moving_Avg_3'] = province_val_df['Count'].rolling(window=3).mean()\n",
        "province_train_df.fillna(0, inplace=True)\n",
        "province_val_df.fillna(0, inplace=True)\n",
        "X_train = province_train_df[['Year', 'PROVINCE', 'Week_no', 'Lag_1', 'Lag_2', 'Lag_3', 'Moving_Avg_3']]\n",
        "y_train = province_train_df['Count']\n",
        "X_val = province_val_df[['Year', 'PROVINCE', 'Week_no', 'Lag_1', 'Lag_2', 'Lag_3', 'Moving_Avg_3']]\n",
        "y_val = province_val_df['Count']\n",
        "train_data = X_train.copy()\n",
        "train_data['Count'] = y_train\n",
        "val_data = X_val.copy()\n",
        "val_data['Count'] = y_val\n",
        "Sa_Kaeo = TabularPredictor(label='Count', problem_type='regression', eval_metric='rmse').fit(train_data)\n",
        "leaderboard = Sa_Kaeo.leaderboard(val_data, extra_metrics=['rmse'])\n",
        "y_pred = Sa_Kaeo.predict(X_val)\n",
        "rmse_value = rmse(y_val, y_pred)\n",
        "pplot(pd.concat([province_train_df,province_val_df]),province)\n",
        "print(f\"\\nRMSE: {rmse_value}\")\n",
        "pvrecord[province] = rmse_value\n",
        "leaderboard"
      ]
    },
    {
      "cell_type": "markdown",
      "metadata": {
        "id": "GDDMHkF-ilTN"
      },
      "source": [
        "<br>\n",
        "\n",
        "## Nakhon Ratchasima"
      ]
    },
    {
      "cell_type": "code",
      "execution_count": null,
      "metadata": {
        "id": "ZGesu1KLil5m"
      },
      "outputs": [],
      "source": [
        "province = \"Nakhon Ratchasima\"\n",
        "province_df = train_df[train_df['PROVINCE']==province]\n",
        "years = [2013,2014,2017,2018,2019] #* select year that is outliner\n",
        "province_train_df = province_df[province_df['Year'].isin(years[:-1])].copy()\n",
        "province_val_df = province_df[province_df['Year'].isin([years[-1]])].copy()\n",
        "for lag in range(1, 4):\n",
        "    province_train_df.loc[:, f'Lag_{lag}'] = province_train_df['Count'].shift(lag)\n",
        "    province_val_df.loc[:, f'Lag_{lag}'] = province_val_df['Count'].shift(lag)\n",
        "province_train_df.loc[:, 'Moving_Avg_3'] = province_train_df['Count'].rolling(window=3).mean()\n",
        "province_val_df.loc[:, 'Moving_Avg_3'] = province_val_df['Count'].rolling(window=3).mean()\n",
        "province_train_df.fillna(0, inplace=True)\n",
        "province_val_df.fillna(0, inplace=True)\n",
        "X_train = province_train_df[['Year', 'PROVINCE', 'Week_no', 'Lag_1', 'Lag_2', 'Lag_3', 'Moving_Avg_3']]\n",
        "y_train = province_train_df['Count']\n",
        "X_val = province_val_df[['Year', 'PROVINCE', 'Week_no', 'Lag_1', 'Lag_2', 'Lag_3', 'Moving_Avg_3']]\n",
        "y_val = province_val_df['Count']\n",
        "train_data = X_train.copy()\n",
        "train_data['Count'] = y_train\n",
        "val_data = X_val.copy()\n",
        "val_data['Count'] = y_val\n",
        "Nakhon_Ratchasima = TabularPredictor(label='Count', problem_type='regression', eval_metric='rmse').fit(train_data)\n",
        "leaderboard = Nakhon_Ratchasima.leaderboard(val_data, extra_metrics=['rmse'])\n",
        "y_pred = Nakhon_Ratchasima.predict(X_val)\n",
        "rmse_value = rmse(y_val, y_pred)\n",
        "pplot(pd.concat([province_train_df,province_val_df]),province)\n",
        "print(f\"\\nRMSE: {rmse_value}\")\n",
        "pvrecord[province] = rmse_value\n",
        "leaderboard"
      ]
    },
    {
      "cell_type": "markdown",
      "metadata": {
        "id": "uy6LOhg7jbAO"
      },
      "source": [
        "<br>\n",
        "\n",
        "## Buriram"
      ]
    },
    {
      "cell_type": "code",
      "execution_count": null,
      "metadata": {
        "id": "86h9pTb7jcT5"
      },
      "outputs": [],
      "source": [
        "province = \"Buriram\"\n",
        "province_df = train_df[train_df['PROVINCE']==province]\n",
        "years = [2014,2015,2016,2018,2019] #* select year that is outliner\n",
        "province_train_df = province_df[province_df['Year'].isin(years[:-1])].copy()\n",
        "province_val_df = province_df[province_df['Year'].isin([years[-1]])].copy()\n",
        "for lag in range(1, 4):\n",
        "    province_train_df.loc[:, f'Lag_{lag}'] = province_train_df['Count'].shift(lag)\n",
        "    province_val_df.loc[:, f'Lag_{lag}'] = province_val_df['Count'].shift(lag)\n",
        "province_train_df.loc[:, 'Moving_Avg_3'] = province_train_df['Count'].rolling(window=3).mean()\n",
        "province_val_df.loc[:, 'Moving_Avg_3'] = province_val_df['Count'].rolling(window=3).mean()\n",
        "province_train_df.fillna(0, inplace=True)\n",
        "province_val_df.fillna(0, inplace=True)\n",
        "X_train = province_train_df[['Year', 'PROVINCE', 'Week_no', 'Lag_1', 'Lag_2', 'Lag_3', 'Moving_Avg_3']]\n",
        "y_train = province_train_df['Count']\n",
        "X_val = province_val_df[['Year', 'PROVINCE', 'Week_no', 'Lag_1', 'Lag_2', 'Lag_3', 'Moving_Avg_3']]\n",
        "y_val = province_val_df['Count']\n",
        "train_data = X_train.copy()\n",
        "train_data['Count'] = y_train\n",
        "val_data = X_val.copy()\n",
        "val_data['Count'] = y_val\n",
        "Buriram = TabularPredictor(label='Count', problem_type='regression', eval_metric='rmse').fit(train_data)\n",
        "leaderboard = Buriram.leaderboard(val_data, extra_metrics=['rmse'])\n",
        "y_pred = Buriram.predict(X_val)\n",
        "rmse_value = rmse(y_val, y_pred)\n",
        "pplot(pd.concat([province_train_df,province_val_df]),province)\n",
        "print(f\"\\nRMSE: {rmse_value}\")\n",
        "pvrecord[province] = rmse_value\n",
        "leaderboard"
      ]
    },
    {
      "cell_type": "markdown",
      "metadata": {
        "id": "mmnqrClejyzG"
      },
      "source": [
        "<br>\n",
        "\n",
        "## Surin"
      ]
    },
    {
      "cell_type": "code",
      "execution_count": null,
      "metadata": {
        "id": "RkbAgNU7j1Ck"
      },
      "outputs": [],
      "source": [
        "province = \"Surin\"\n",
        "province_df = train_df[train_df['PROVINCE']==province]\n",
        "years = [2013,2015,2016,2017,2018,2019] #* select year that is outliner\n",
        "province_train_df = province_df[province_df['Year'].isin(years[:-1])].copy()\n",
        "province_val_df = province_df[province_df['Year'].isin([years[-1]])].copy()\n",
        "for lag in range(1, 4):\n",
        "    province_train_df.loc[:, f'Lag_{lag}'] = province_train_df['Count'].shift(lag)\n",
        "    province_val_df.loc[:, f'Lag_{lag}'] = province_val_df['Count'].shift(lag)\n",
        "province_train_df.loc[:, 'Moving_Avg_3'] = province_train_df['Count'].rolling(window=3).mean()\n",
        "province_val_df.loc[:, 'Moving_Avg_3'] = province_val_df['Count'].rolling(window=3).mean()\n",
        "province_train_df.fillna(0, inplace=True)\n",
        "province_val_df.fillna(0, inplace=True)\n",
        "X_train = province_train_df[['Year', 'PROVINCE', 'Week_no', 'Lag_1', 'Lag_2', 'Lag_3', 'Moving_Avg_3']]\n",
        "y_train = province_train_df['Count']\n",
        "X_val = province_val_df[['Year', 'PROVINCE', 'Week_no', 'Lag_1', 'Lag_2', 'Lag_3', 'Moving_Avg_3']]\n",
        "y_val = province_val_df['Count']\n",
        "train_data = X_train.copy()\n",
        "train_data['Count'] = y_train\n",
        "val_data = X_val.copy()\n",
        "val_data['Count'] = y_val\n",
        "Surin = TabularPredictor(label='Count', problem_type='regression', eval_metric='rmse').fit(train_data)\n",
        "leaderboard = Surin.leaderboard(val_data, extra_metrics=['rmse'])\n",
        "y_pred = Surin.predict(X_val)\n",
        "rmse_value = rmse(y_val, y_pred)\n",
        "pplot(pd.concat([province_train_df,province_val_df]),province)\n",
        "print(f\"\\nRMSE: {rmse_value}\")\n",
        "pvrecord[province] = rmse_value\n",
        "leaderboard"
      ]
    },
    {
      "cell_type": "markdown",
      "metadata": {
        "id": "MI72qsAHX4rk"
      },
      "source": [
        "<hr>"
      ]
    },
    {
      "cell_type": "markdown",
      "metadata": {
        "id": "L9CZJS5PkMSr"
      },
      "source": [
        "<br>\n",
        "\n",
        "## Sisaket"
      ]
    },
    {
      "cell_type": "code",
      "execution_count": null,
      "metadata": {
        "id": "IMaE5gcrkMKJ"
      },
      "outputs": [],
      "source": [
        "province = \"Sisaket\"\n",
        "province_df = train_df[train_df['PROVINCE']==province]\n",
        "years = [2013,2014,2016,2017,2018] #* select year that is outliner\n",
        "province_train_df = province_df[province_df['Year'].isin(years[:-1])].copy()\n",
        "province_val_df = province_df[province_df['Year'].isin([years[-1]])].copy()\n",
        "for lag in range(1, 4):\n",
        "    province_train_df.loc[:, f'Lag_{lag}'] = province_train_df['Count'].shift(lag)\n",
        "    province_val_df.loc[:, f'Lag_{lag}'] = province_val_df['Count'].shift(lag)\n",
        "province_train_df.loc[:, 'Moving_Avg_3'] = province_train_df['Count'].rolling(window=3).mean()\n",
        "province_val_df.loc[:, 'Moving_Avg_3'] = province_val_df['Count'].rolling(window=3).mean()\n",
        "province_train_df.fillna(0, inplace=True)\n",
        "province_val_df.fillna(0, inplace=True)\n",
        "X_train = province_train_df[['Year', 'PROVINCE', 'Week_no', 'Lag_1', 'Lag_2', 'Lag_3', 'Moving_Avg_3']]\n",
        "y_train = province_train_df['Count']\n",
        "X_val = province_val_df[['Year', 'PROVINCE', 'Week_no', 'Lag_1', 'Lag_2', 'Lag_3', 'Moving_Avg_3']]\n",
        "y_val = province_val_df['Count']\n",
        "train_data = X_train.copy()\n",
        "train_data['Count'] = y_train\n",
        "val_data = X_val.copy()\n",
        "val_data['Count'] = y_val\n",
        "Sisaket = TabularPredictor(label='Count', problem_type='regression', eval_metric='rmse').fit(train_data)\n",
        "leaderboard = Sisaket.leaderboard(val_data, extra_metrics=['rmse'])\n",
        "y_pred = Sisaket.predict(X_val)\n",
        "rmse_value = rmse(y_val, y_pred)\n",
        "pplot(pd.concat([province_train_df,province_val_df]),province)\n",
        "print(f\"\\nRMSE: {rmse_value}\")\n",
        "pvrecord[province] = rmse_value\n",
        "leaderboard"
      ]
    },
    {
      "cell_type": "markdown",
      "metadata": {
        "id": "S245oXNWkoOA"
      },
      "source": [
        "<br>\n",
        "\n",
        "## Ubon Ratchathani"
      ]
    },
    {
      "cell_type": "code",
      "execution_count": null,
      "metadata": {
        "id": "BZhoc4c4koE_"
      },
      "outputs": [],
      "source": [
        "province = \"Ubon Ratchathani\"\n",
        "province_df = train_df[train_df['PROVINCE']==province]\n",
        "years = [2013,2014,2015,2016,2017,2018,2019] #* select year that is outliner\n",
        "province_train_df = province_df[province_df['Year'].isin(years[:-1])].copy()\n",
        "province_val_df = province_df[province_df['Year'].isin([years[-1]])].copy()\n",
        "for lag in range(1, 4):\n",
        "    province_train_df.loc[:, f'Lag_{lag}'] = province_train_df['Count'].shift(lag)\n",
        "    province_val_df.loc[:, f'Lag_{lag}'] = province_val_df['Count'].shift(lag)\n",
        "province_train_df.loc[:, 'Moving_Avg_3'] = province_train_df['Count'].rolling(window=3).mean()\n",
        "province_val_df.loc[:, 'Moving_Avg_3'] = province_val_df['Count'].rolling(window=3).mean()\n",
        "province_train_df.fillna(0, inplace=True)\n",
        "province_val_df.fillna(0, inplace=True)\n",
        "X_train = province_train_df[['Year', 'PROVINCE', 'Week_no', 'Lag_1', 'Lag_2', 'Lag_3', 'Moving_Avg_3']]\n",
        "y_train = province_train_df['Count']\n",
        "X_val = province_val_df[['Year', 'PROVINCE', 'Week_no', 'Lag_1', 'Lag_2', 'Lag_3', 'Moving_Avg_3']]\n",
        "y_val = province_val_df['Count']\n",
        "train_data = X_train.copy()\n",
        "train_data['Count'] = y_train\n",
        "val_data = X_val.copy()\n",
        "val_data['Count'] = y_val\n",
        "Ubon_Ratchathani = TabularPredictor(label='Count', problem_type='regression', eval_metric='rmse').fit(train_data)\n",
        "leaderboard = Ubon_Ratchathani.leaderboard(val_data, extra_metrics=['rmse'])\n",
        "y_pred = Ubon_Ratchathani.predict(X_val)\n",
        "rmse_value = rmse(y_val, y_pred)\n",
        "pplot(pd.concat([province_train_df,province_val_df]),province)\n",
        "print(f\"\\nRMSE: {rmse_value}\")\n",
        "pvrecord[province] = rmse_value\n",
        "leaderboard"
      ]
    },
    {
      "cell_type": "markdown",
      "metadata": {
        "id": "RQ5kfJQbmFKY"
      },
      "source": [
        "<br>\n",
        "\n",
        "## Yasothon"
      ]
    },
    {
      "cell_type": "code",
      "execution_count": null,
      "metadata": {
        "id": "To66_eAdmFD3"
      },
      "outputs": [],
      "source": [
        "province = \"Yasothon\"\n",
        "province_df = train_df[train_df['PROVINCE']==province]\n",
        "years = [2013,2014,2015,2016,2017,2018,2019,2020] #* select year that is outliner\n",
        "province_train_df = province_df[province_df['Year'].isin(years[:-1])].copy()\n",
        "province_val_df = province_df[province_df['Year'].isin([years[-1]])].copy()\n",
        "for lag in range(1, 4):\n",
        "    province_train_df.loc[:, f'Lag_{lag}'] = province_train_df['Count'].shift(lag)\n",
        "    province_val_df.loc[:, f'Lag_{lag}'] = province_val_df['Count'].shift(lag)\n",
        "province_train_df.loc[:, 'Moving_Avg_3'] = province_train_df['Count'].rolling(window=3).mean()\n",
        "province_val_df.loc[:, 'Moving_Avg_3'] = province_val_df['Count'].rolling(window=3).mean()\n",
        "province_train_df.fillna(0, inplace=True)\n",
        "province_val_df.fillna(0, inplace=True)\n",
        "X_train = province_train_df[['Year', 'PROVINCE', 'Week_no', 'Lag_1', 'Lag_2', 'Lag_3', 'Moving_Avg_3']]\n",
        "y_train = province_train_df['Count']\n",
        "X_val = province_val_df[['Year', 'PROVINCE', 'Week_no', 'Lag_1', 'Lag_2', 'Lag_3', 'Moving_Avg_3']]\n",
        "y_val = province_val_df['Count']\n",
        "train_data = X_train.copy()\n",
        "train_data['Count'] = y_train\n",
        "val_data = X_val.copy()\n",
        "val_data['Count'] = y_val\n",
        "Yasothon = TabularPredictor(label='Count', problem_type='regression', eval_metric='rmse').fit(train_data)\n",
        "leaderboard = Yasothon.leaderboard(val_data, extra_metrics=['rmse'])\n",
        "y_pred = Yasothon.predict(X_val)\n",
        "rmse_value = rmse(y_val, y_pred)\n",
        "pplot(pd.concat([province_train_df,province_val_df]),province)\n",
        "print(f\"\\nRMSE: {rmse_value}\")\n",
        "pvrecord[province] = rmse_value\n",
        "leaderboard"
      ]
    },
    {
      "cell_type": "markdown",
      "metadata": {
        "id": "WzD1t5MsmTyp"
      },
      "source": [
        "<br>\n",
        "\n",
        "## Chaiyaphum"
      ]
    },
    {
      "cell_type": "code",
      "execution_count": null,
      "metadata": {
        "id": "b4ak3CCnmTrV"
      },
      "outputs": [],
      "source": [
        "province = \"Chaiyaphum\"\n",
        "province_df = train_df[train_df['PROVINCE']==province]\n",
        "years = [2013,2015,2016,2017,2018,2019] #* select year that is outliner\n",
        "province_train_df = province_df[province_df['Year'].isin(years[:-1])].copy()\n",
        "province_val_df = province_df[province_df['Year'].isin([years[-1]])].copy()\n",
        "for lag in range(1, 4):\n",
        "    province_train_df.loc[:, f'Lag_{lag}'] = province_train_df['Count'].shift(lag)\n",
        "    province_val_df.loc[:, f'Lag_{lag}'] = province_val_df['Count'].shift(lag)\n",
        "province_train_df.loc[:, 'Moving_Avg_3'] = province_train_df['Count'].rolling(window=3).mean()\n",
        "province_val_df.loc[:, 'Moving_Avg_3'] = province_val_df['Count'].rolling(window=3).mean()\n",
        "province_train_df.fillna(0, inplace=True)\n",
        "province_val_df.fillna(0, inplace=True)\n",
        "X_train = province_train_df[['Year', 'PROVINCE', 'Week_no', 'Lag_1', 'Lag_2', 'Lag_3', 'Moving_Avg_3']]\n",
        "y_train = province_train_df['Count']\n",
        "X_val = province_val_df[['Year', 'PROVINCE', 'Week_no', 'Lag_1', 'Lag_2', 'Lag_3', 'Moving_Avg_3']]\n",
        "y_val = province_val_df['Count']\n",
        "train_data = X_train.copy()\n",
        "train_data['Count'] = y_train\n",
        "val_data = X_val.copy()\n",
        "val_data['Count'] = y_val\n",
        "Chaiyaphum = TabularPredictor(label='Count', problem_type='regression', eval_metric='rmse').fit(train_data)\n",
        "leaderboard = Chaiyaphum.leaderboard(val_data, extra_metrics=['rmse'])\n",
        "y_pred = Chaiyaphum.predict(X_val)\n",
        "rmse_value = rmse(y_val, y_pred)\n",
        "pplot(pd.concat([province_train_df,province_val_df]),province)\n",
        "print(f\"\\nRMSE: {rmse_value}\")\n",
        "pvrecord[province] = rmse_value\n",
        "leaderboard"
      ]
    },
    {
      "cell_type": "markdown",
      "metadata": {
        "id": "RO5XwYuVmbYT"
      },
      "source": [
        "<br>\n",
        "\n",
        "## Amnat Charoen"
      ]
    },
    {
      "cell_type": "code",
      "execution_count": null,
      "metadata": {
        "id": "HRCw3M2tmbPH"
      },
      "outputs": [],
      "source": [
        "province = \"Amnat Charoen\"\n",
        "province_df = train_df[train_df['PROVINCE']==province]\n",
        "years = [2013,2014,2015,2016,2017,2018,2019,2020] #* select year that is outliner\n",
        "province_train_df = province_df[province_df['Year'].isin(years[:-1])].copy()\n",
        "province_val_df = province_df[province_df['Year'].isin([years[-1]])].copy()\n",
        "for lag in range(1, 4):\n",
        "    province_train_df.loc[:, f'Lag_{lag}'] = province_train_df['Count'].shift(lag)\n",
        "    province_val_df.loc[:, f'Lag_{lag}'] = province_val_df['Count'].shift(lag)\n",
        "province_train_df.loc[:, 'Moving_Avg_3'] = province_train_df['Count'].rolling(window=3).mean()\n",
        "province_val_df.loc[:, 'Moving_Avg_3'] = province_val_df['Count'].rolling(window=3).mean()\n",
        "province_train_df.fillna(0, inplace=True)\n",
        "province_val_df.fillna(0, inplace=True)\n",
        "X_train = province_train_df[['Year', 'PROVINCE', 'Week_no', 'Lag_1', 'Lag_2', 'Lag_3', 'Moving_Avg_3']]\n",
        "y_train = province_train_df['Count']\n",
        "X_val = province_val_df[['Year', 'PROVINCE', 'Week_no', 'Lag_1', 'Lag_2', 'Lag_3', 'Moving_Avg_3']]\n",
        "y_val = province_val_df['Count']\n",
        "train_data = X_train.copy()\n",
        "train_data['Count'] = y_train\n",
        "val_data = X_val.copy()\n",
        "val_data['Count'] = y_val\n",
        "Amnat_Charoen = TabularPredictor(label='Count', problem_type='regression', eval_metric='rmse').fit(train_data)\n",
        "leaderboard = Amnat_Charoen.leaderboard(val_data, extra_metrics=['rmse'])\n",
        "y_pred = Amnat_Charoen.predict(X_val)\n",
        "rmse_value = rmse(y_val, y_pred)\n",
        "pplot(pd.concat([province_train_df,province_val_df]),province)\n",
        "print(f\"\\nRMSE: {rmse_value}\")\n",
        "pvrecord[province] = rmse_value\n",
        "leaderboard"
      ]
    },
    {
      "cell_type": "markdown",
      "metadata": {
        "id": "ywTUm-QampaF"
      },
      "source": [
        "<br>\n",
        "\n",
        "## Bueng Kan"
      ]
    },
    {
      "cell_type": "code",
      "execution_count": null,
      "metadata": {
        "id": "ZMdxhZIDmpSy"
      },
      "outputs": [],
      "source": [
        "province = \"Bueng Kan\"\n",
        "province_df = train_df[train_df['PROVINCE']==province]\n",
        "years = [2013,2014,2015,2016,2017,2018,2019,2020] #* select year that is outliner\n",
        "province_train_df = province_df[province_df['Year'].isin(years[:-1])].copy()\n",
        "province_val_df = province_df[province_df['Year'].isin([years[-1]])].copy()\n",
        "for lag in range(1, 4):\n",
        "    province_train_df.loc[:, f'Lag_{lag}'] = province_train_df['Count'].shift(lag)\n",
        "    province_val_df.loc[:, f'Lag_{lag}'] = province_val_df['Count'].shift(lag)\n",
        "province_train_df.loc[:, 'Moving_Avg_3'] = province_train_df['Count'].rolling(window=3).mean()\n",
        "province_val_df.loc[:, 'Moving_Avg_3'] = province_val_df['Count'].rolling(window=3).mean()\n",
        "province_train_df.fillna(0, inplace=True)\n",
        "province_val_df.fillna(0, inplace=True)\n",
        "X_train = province_train_df[['Year', 'PROVINCE', 'Week_no', 'Lag_1', 'Lag_2', 'Lag_3', 'Moving_Avg_3']]\n",
        "y_train = province_train_df['Count']\n",
        "X_val = province_val_df[['Year', 'PROVINCE', 'Week_no', 'Lag_1', 'Lag_2', 'Lag_3', 'Moving_Avg_3']]\n",
        "y_val = province_val_df['Count']\n",
        "train_data = X_train.copy()\n",
        "train_data['Count'] = y_train\n",
        "val_data = X_val.copy()\n",
        "val_data['Count'] = y_val\n",
        "Bueng_Kan = TabularPredictor(label='Count', problem_type='regression', eval_metric='rmse').fit(train_data)\n",
        "leaderboard = Bueng_Kan.leaderboard(val_data, extra_metrics=['rmse'])\n",
        "y_pred = Bueng_Kan.predict(X_val)\n",
        "rmse_value = rmse(y_val, y_pred)\n",
        "pplot(pd.concat([province_train_df,province_val_df]),province)\n",
        "print(f\"\\nRMSE: {rmse_value}\")\n",
        "pvrecord[province] = rmse_value\n",
        "leaderboard"
      ]
    },
    {
      "cell_type": "markdown",
      "metadata": {
        "id": "q8COK3bcmpKS"
      },
      "source": [
        "<br>\n",
        "\n",
        "## Nong Bua Lamphu"
      ]
    },
    {
      "cell_type": "code",
      "execution_count": null,
      "metadata": {
        "id": "lOunSZ_ampEP"
      },
      "outputs": [],
      "source": [
        "province = \"Nong Bua Lamphu\"\n",
        "province_df = train_df[train_df['PROVINCE']==province]\n",
        "years = [2013,2014,2015,2016,2017,2018,2019,2020] #* select year that is outliner\n",
        "province_train_df = province_df[province_df['Year'].isin(years[:-1])].copy()\n",
        "province_val_df = province_df[province_df['Year'].isin([years[-1]])].copy()\n",
        "for lag in range(1, 4):\n",
        "    province_train_df.loc[:, f'Lag_{lag}'] = province_train_df['Count'].shift(lag)\n",
        "    province_val_df.loc[:, f'Lag_{lag}'] = province_val_df['Count'].shift(lag)\n",
        "province_train_df.loc[:, 'Moving_Avg_3'] = province_train_df['Count'].rolling(window=3).mean()\n",
        "province_val_df.loc[:, 'Moving_Avg_3'] = province_val_df['Count'].rolling(window=3).mean()\n",
        "province_train_df.fillna(0, inplace=True)\n",
        "province_val_df.fillna(0, inplace=True)\n",
        "X_train = province_train_df[['Year', 'PROVINCE', 'Week_no', 'Lag_1', 'Lag_2', 'Lag_3', 'Moving_Avg_3']]\n",
        "y_train = province_train_df['Count']\n",
        "X_val = province_val_df[['Year', 'PROVINCE', 'Week_no', 'Lag_1', 'Lag_2', 'Lag_3', 'Moving_Avg_3']]\n",
        "y_val = province_val_df['Count']\n",
        "train_data = X_train.copy()\n",
        "train_data['Count'] = y_train\n",
        "val_data = X_val.copy()\n",
        "val_data['Count'] = y_val\n",
        "Nong_Bua_Lamphu = TabularPredictor(label='Count', problem_type='regression', eval_metric='rmse').fit(train_data)\n",
        "leaderboard = Nong_Bua_Lamphu.leaderboard(val_data, extra_metrics=['rmse'])\n",
        "y_pred = Nong_Bua_Lamphu.predict(X_val)\n",
        "rmse_value = rmse(y_val, y_pred)\n",
        "pplot(pd.concat([province_train_df,province_val_df]),province)\n",
        "print(f\"\\nRMSE: {rmse_value}\")\n",
        "pvrecord[province] = rmse_value\n",
        "leaderboard"
      ]
    },
    {
      "cell_type": "markdown",
      "metadata": {
        "id": "5Q6Yt-q4mo74"
      },
      "source": [
        "## Khon Kaen"
      ]
    },
    {
      "cell_type": "code",
      "execution_count": null,
      "metadata": {
        "id": "3nCyK8W-mo1M"
      },
      "outputs": [],
      "source": [
        "province = \"Khon Kaen\"\n",
        "province_df = train_df[train_df['PROVINCE']==province]\n",
        "years = [2014,2015,2016,2017,2018,2019] #* select year that is outliner\n",
        "province_train_df = province_df[province_df['Year'].isin(years[:-1])].copy()\n",
        "province_val_df = province_df[province_df['Year'].isin([years[-1]])].copy()\n",
        "for lag in range(1, 4):\n",
        "    province_train_df.loc[:, f'Lag_{lag}'] = province_train_df['Count'].shift(lag)\n",
        "    province_val_df.loc[:, f'Lag_{lag}'] = province_val_df['Count'].shift(lag)\n",
        "province_train_df.loc[:, 'Moving_Avg_3'] = province_train_df['Count'].rolling(window=3).mean()\n",
        "province_val_df.loc[:, 'Moving_Avg_3'] = province_val_df['Count'].rolling(window=3).mean()\n",
        "province_train_df.fillna(0, inplace=True)\n",
        "province_val_df.fillna(0, inplace=True)\n",
        "X_train = province_train_df[['Year', 'PROVINCE', 'Week_no', 'Lag_1', 'Lag_2', 'Lag_3', 'Moving_Avg_3']]\n",
        "y_train = province_train_df['Count']\n",
        "X_val = province_val_df[['Year', 'PROVINCE', 'Week_no', 'Lag_1', 'Lag_2', 'Lag_3', 'Moving_Avg_3']]\n",
        "y_val = province_val_df['Count']\n",
        "train_data = X_train.copy()\n",
        "train_data['Count'] = y_train\n",
        "val_data = X_val.copy()\n",
        "val_data['Count'] = y_val\n",
        "Khon_Kaen = TabularPredictor(label='Count', problem_type='regression', eval_metric='rmse').fit(train_data)\n",
        "leaderboard = Khon_Kaen.leaderboard(val_data, extra_metrics=['rmse'])\n",
        "y_pred = Khon_Kaen.predict(X_val)\n",
        "rmse_value = rmse(y_val, y_pred)\n",
        "pplot(pd.concat([province_train_df,province_val_df]),province)\n",
        "print(f\"\\nRMSE: {rmse_value}\")\n",
        "pvrecord[province] = rmse_value\n",
        "leaderboard"
      ]
    },
    {
      "cell_type": "markdown",
      "metadata": {
        "id": "UMNBYbbBmotN"
      },
      "source": [
        "<br>\n",
        "\n",
        "## Udon Thani"
      ]
    },
    {
      "cell_type": "code",
      "execution_count": null,
      "metadata": {
        "id": "ImSlqX1jmolx"
      },
      "outputs": [],
      "source": [
        "province = \"Udon Thani\"\n",
        "province_df = train_df[train_df['PROVINCE']==province]\n",
        "years = [2013,2014,2016,2017,2018,2019,2020] #* select year that is outliner\n",
        "province_train_df = province_df[province_df['Year'].isin(years[:-1])].copy()\n",
        "province_val_df = province_df[province_df['Year'].isin([years[-1]])].copy()\n",
        "for lag in range(1, 4):\n",
        "    province_train_df.loc[:, f'Lag_{lag}'] = province_train_df['Count'].shift(lag)\n",
        "    province_val_df.loc[:, f'Lag_{lag}'] = province_val_df['Count'].shift(lag)\n",
        "province_train_df.loc[:, 'Moving_Avg_3'] = province_train_df['Count'].rolling(window=3).mean()\n",
        "province_val_df.loc[:, 'Moving_Avg_3'] = province_val_df['Count'].rolling(window=3).mean()\n",
        "province_train_df.fillna(0, inplace=True)\n",
        "province_val_df.fillna(0, inplace=True)\n",
        "X_train = province_train_df[['Year', 'PROVINCE', 'Week_no', 'Lag_1', 'Lag_2', 'Lag_3', 'Moving_Avg_3']]\n",
        "y_train = province_train_df['Count']\n",
        "X_val = province_val_df[['Year', 'PROVINCE', 'Week_no', 'Lag_1', 'Lag_2', 'Lag_3', 'Moving_Avg_3']]\n",
        "y_val = province_val_df['Count']\n",
        "train_data = X_train.copy()\n",
        "train_data['Count'] = y_train\n",
        "val_data = X_val.copy()\n",
        "val_data['Count'] = y_val\n",
        "Udon_Thani = TabularPredictor(label='Count', problem_type='regression', eval_metric='rmse').fit(train_data)\n",
        "leaderboard = Udon_Thani.leaderboard(val_data, extra_metrics=['rmse'])\n",
        "y_pred = Udon_Thani.predict(X_val)\n",
        "rmse_value = rmse(y_val, y_pred)\n",
        "pplot(pd.concat([province_train_df,province_val_df]),province)\n",
        "print(f\"\\nRMSE: {rmse_value}\")\n",
        "pvrecord[province] = rmse_value\n",
        "leaderboard"
      ]
    },
    {
      "cell_type": "markdown",
      "metadata": {
        "id": "KyxjHeeXmodP"
      },
      "source": [
        "<br>\n",
        "\n",
        "## Loei"
      ]
    },
    {
      "cell_type": "code",
      "execution_count": null,
      "metadata": {
        "id": "M6h2NeF8moVz"
      },
      "outputs": [],
      "source": [
        "province = \"Loei\"\n",
        "province_df = train_df[train_df['PROVINCE']==province]\n",
        "years = [2013,2014,2015,2016,2018,2019] #* select year that is outliner\n",
        "province_train_df = province_df[province_df['Year'].isin(years[:-1])].copy()\n",
        "province_val_df = province_df[province_df['Year'].isin([years[-1]])].copy()\n",
        "for lag in range(1, 4):\n",
        "    province_train_df.loc[:, f'Lag_{lag}'] = province_train_df['Count'].shift(lag)\n",
        "    province_val_df.loc[:, f'Lag_{lag}'] = province_val_df['Count'].shift(lag)\n",
        "province_train_df.loc[:, 'Moving_Avg_3'] = province_train_df['Count'].rolling(window=3).mean()\n",
        "province_val_df.loc[:, 'Moving_Avg_3'] = province_val_df['Count'].rolling(window=3).mean()\n",
        "province_train_df.fillna(0, inplace=True)\n",
        "province_val_df.fillna(0, inplace=True)\n",
        "X_train = province_train_df[['Year', 'PROVINCE', 'Week_no', 'Lag_1', 'Lag_2', 'Lag_3', 'Moving_Avg_3']]\n",
        "y_train = province_train_df['Count']\n",
        "X_val = province_val_df[['Year', 'PROVINCE', 'Week_no', 'Lag_1', 'Lag_2', 'Lag_3', 'Moving_Avg_3']]\n",
        "y_val = province_val_df['Count']\n",
        "train_data = X_train.copy()\n",
        "train_data['Count'] = y_train\n",
        "val_data = X_val.copy()\n",
        "val_data['Count'] = y_val\n",
        "Loei = TabularPredictor(label='Count', problem_type='regression', eval_metric='rmse').fit(train_data)\n",
        "leaderboard = Loei.leaderboard(val_data, extra_metrics=['rmse'])\n",
        "y_pred = Loei.predict(X_val)\n",
        "rmse_value = rmse(y_val, y_pred)\n",
        "pplot(pd.concat([province_train_df,province_val_df]),province)\n",
        "print(f\"\\nRMSE: {rmse_value}\")\n",
        "pvrecord[province] = rmse_value\n",
        "leaderboard"
      ]
    },
    {
      "cell_type": "markdown",
      "metadata": {
        "id": "3ZBjUAT-moOo"
      },
      "source": [
        "<br>\n",
        "\n",
        "## Nong Khai"
      ]
    },
    {
      "cell_type": "code",
      "execution_count": null,
      "metadata": {
        "id": "TtVAS2zgmoDy"
      },
      "outputs": [],
      "source": [
        "province = \"Nong Khai\"\n",
        "province_df = train_df[train_df['PROVINCE']==province]\n",
        "years = [2013,2014,2015,2016,2017,2018,2019,2020] #* select year that is outliner\n",
        "province_train_df = province_df[province_df['Year'].isin(years[:-1])].copy()\n",
        "province_val_df = province_df[province_df['Year'].isin([years[-1]])].copy()\n",
        "for lag in range(1, 4):\n",
        "    province_train_df.loc[:, f'Lag_{lag}'] = province_train_df['Count'].shift(lag)\n",
        "    province_val_df.loc[:, f'Lag_{lag}'] = province_val_df['Count'].shift(lag)\n",
        "province_train_df.loc[:, 'Moving_Avg_3'] = province_train_df['Count'].rolling(window=3).mean()\n",
        "province_val_df.loc[:, 'Moving_Avg_3'] = province_val_df['Count'].rolling(window=3).mean()\n",
        "province_train_df.fillna(0, inplace=True)\n",
        "province_val_df.fillna(0, inplace=True)\n",
        "X_train = province_train_df[['Year', 'PROVINCE', 'Week_no', 'Lag_1', 'Lag_2', 'Lag_3', 'Moving_Avg_3']]\n",
        "y_train = province_train_df['Count']\n",
        "X_val = province_val_df[['Year', 'PROVINCE', 'Week_no', 'Lag_1', 'Lag_2', 'Lag_3', 'Moving_Avg_3']]\n",
        "y_val = province_val_df['Count']\n",
        "train_data = X_train.copy()\n",
        "train_data['Count'] = y_train\n",
        "val_data = X_val.copy()\n",
        "val_data['Count'] = y_val\n",
        "Nong_Khai = TabularPredictor(label='Count', problem_type='regression', eval_metric='rmse').fit(train_data)\n",
        "leaderboard = Nong_Khai.leaderboard(val_data, extra_metrics=['rmse'])\n",
        "y_pred = Nong_Khai.predict(X_val)\n",
        "rmse_value = rmse(y_val, y_pred)\n",
        "pplot(pd.concat([province_train_df,province_val_df]),province)\n",
        "print(f\"\\nRMSE: {rmse_value}\")\n",
        "pvrecord[province] = rmse_value\n",
        "leaderboard"
      ]
    },
    {
      "cell_type": "markdown",
      "metadata": {
        "id": "EpGMggU8pqv8"
      },
      "source": [
        "<br>\n",
        "\n",
        "## Maha Sarakham"
      ]
    },
    {
      "cell_type": "code",
      "execution_count": null,
      "metadata": {
        "id": "5gswKGOHpqm_"
      },
      "outputs": [],
      "source": [
        "province = \"Maha Sarakham\"\n",
        "province_df = train_df[train_df['PROVINCE']==province]\n",
        "years = [2013,2014,2015,2016,2017,2018,2019,2020] #* select year that is outliner\n",
        "province_train_df = province_df[province_df['Year'].isin(years[:-1])].copy()\n",
        "province_val_df = province_df[province_df['Year'].isin([years[-1]])].copy()\n",
        "for lag in range(1, 4):\n",
        "    province_train_df.loc[:, f'Lag_{lag}'] = province_train_df['Count'].shift(lag)\n",
        "    province_val_df.loc[:, f'Lag_{lag}'] = province_val_df['Count'].shift(lag)\n",
        "province_train_df.loc[:, 'Moving_Avg_3'] = province_train_df['Count'].rolling(window=3).mean()\n",
        "province_val_df.loc[:, 'Moving_Avg_3'] = province_val_df['Count'].rolling(window=3).mean()\n",
        "province_train_df.fillna(0, inplace=True)\n",
        "province_val_df.fillna(0, inplace=True)\n",
        "X_train = province_train_df[['Year', 'PROVINCE', 'Week_no', 'Lag_1', 'Lag_2', 'Lag_3', 'Moving_Avg_3']]\n",
        "y_train = province_train_df['Count']\n",
        "X_val = province_val_df[['Year', 'PROVINCE', 'Week_no', 'Lag_1', 'Lag_2', 'Lag_3', 'Moving_Avg_3']]\n",
        "y_val = province_val_df['Count']\n",
        "train_data = X_train.copy()\n",
        "train_data['Count'] = y_train\n",
        "val_data = X_val.copy()\n",
        "val_data['Count'] = y_val\n",
        "Maha_Sarakham = TabularPredictor(label='Count', problem_type='regression', eval_metric='rmse').fit(train_data)\n",
        "leaderboard = Maha_Sarakham.leaderboard(val_data, extra_metrics=['rmse'])\n",
        "y_pred = Maha_Sarakham.predict(X_val)\n",
        "rmse_value = rmse(y_val, y_pred)\n",
        "pplot(pd.concat([province_train_df,province_val_df]),province)\n",
        "print(f\"\\nRMSE: {rmse_value}\")\n",
        "pvrecord[province] = rmse_value\n",
        "leaderboard"
      ]
    },
    {
      "cell_type": "markdown",
      "metadata": {
        "id": "-iFWmU4Jpqd1"
      },
      "source": [
        "<br>\n",
        "\n",
        "## Roi Et"
      ]
    },
    {
      "cell_type": "code",
      "execution_count": null,
      "metadata": {
        "id": "YdJd1MQPpqWW"
      },
      "outputs": [],
      "source": [
        "province = \"Roi Et\"\n",
        "province_df = train_df[train_df['PROVINCE']==province]\n",
        "years = [2013,2014,2015,2016,2017,2018,2019] #* select year that is outliner\n",
        "province_train_df = province_df[province_df['Year'].isin(years[:-1])].copy()\n",
        "province_val_df = province_df[province_df['Year'].isin([years[-1]])].copy()\n",
        "for lag in range(1, 4):\n",
        "    province_train_df.loc[:, f'Lag_{lag}'] = province_train_df['Count'].shift(lag)\n",
        "    province_val_df.loc[:, f'Lag_{lag}'] = province_val_df['Count'].shift(lag)\n",
        "province_train_df.loc[:, 'Moving_Avg_3'] = province_train_df['Count'].rolling(window=3).mean()\n",
        "province_val_df.loc[:, 'Moving_Avg_3'] = province_val_df['Count'].rolling(window=3).mean()\n",
        "province_train_df.fillna(0, inplace=True)\n",
        "province_val_df.fillna(0, inplace=True)\n",
        "X_train = province_train_df[['Year', 'PROVINCE', 'Week_no', 'Lag_1', 'Lag_2', 'Lag_3', 'Moving_Avg_3']]\n",
        "y_train = province_train_df['Count']\n",
        "X_val = province_val_df[['Year', 'PROVINCE', 'Week_no', 'Lag_1', 'Lag_2', 'Lag_3', 'Moving_Avg_3']]\n",
        "y_val = province_val_df['Count']\n",
        "train_data = X_train.copy()\n",
        "train_data['Count'] = y_train\n",
        "val_data = X_val.copy()\n",
        "val_data['Count'] = y_val\n",
        "Roi_Et = TabularPredictor(label='Count', problem_type='regression', eval_metric='rmse').fit(train_data)\n",
        "leaderboard = Roi_Et.leaderboard(val_data, extra_metrics=['rmse'])\n",
        "y_pred = Roi_Et.predict(X_val)\n",
        "rmse_value = rmse(y_val, y_pred)\n",
        "pplot(pd.concat([province_train_df,province_val_df]),province)\n",
        "print(f\"\\nRMSE: {rmse_value}\")\n",
        "pvrecord[province] = rmse_value\n",
        "leaderboard"
      ]
    },
    {
      "cell_type": "markdown",
      "metadata": {
        "id": "yNZhlbcopqNZ"
      },
      "source": [
        "<br>\n",
        "\n",
        "## Kalasin"
      ]
    },
    {
      "cell_type": "code",
      "execution_count": null,
      "metadata": {
        "id": "IPQvM8r5pqGY"
      },
      "outputs": [],
      "source": [
        "province = \"Kalasin\"\n",
        "province_df = train_df[train_df['PROVINCE']==province]\n",
        "years = [2013,2014,2015,2017,2018,2019,2020] #* select year that is outliner\n",
        "province_train_df = province_df[province_df['Year'].isin(years[:-1])].copy()\n",
        "province_val_df = province_df[province_df['Year'].isin([years[-1]])].copy()\n",
        "for lag in range(1, 4):\n",
        "    province_train_df.loc[:, f'Lag_{lag}'] = province_train_df['Count'].shift(lag)\n",
        "    province_val_df.loc[:, f'Lag_{lag}'] = province_val_df['Count'].shift(lag)\n",
        "province_train_df.loc[:, 'Moving_Avg_3'] = province_train_df['Count'].rolling(window=3).mean()\n",
        "province_val_df.loc[:, 'Moving_Avg_3'] = province_val_df['Count'].rolling(window=3).mean()\n",
        "province_train_df.fillna(0, inplace=True)\n",
        "province_val_df.fillna(0, inplace=True)\n",
        "X_train = province_train_df[['Year', 'PROVINCE', 'Week_no', 'Lag_1', 'Lag_2', 'Lag_3', 'Moving_Avg_3']]\n",
        "y_train = province_train_df['Count']\n",
        "X_val = province_val_df[['Year', 'PROVINCE', 'Week_no', 'Lag_1', 'Lag_2', 'Lag_3', 'Moving_Avg_3']]\n",
        "y_val = province_val_df['Count']\n",
        "train_data = X_train.copy()\n",
        "train_data['Count'] = y_train\n",
        "val_data = X_val.copy()\n",
        "val_data['Count'] = y_val\n",
        "Kalasin = TabularPredictor(label='Count', problem_type='regression', eval_metric='rmse').fit(train_data)\n",
        "leaderboard = Kalasin.leaderboard(val_data, extra_metrics=['rmse'])\n",
        "y_pred = Kalasin.predict(X_val)\n",
        "rmse_value = rmse(y_val, y_pred)\n",
        "pplot(pd.concat([province_train_df,province_val_df]),province)\n",
        "print(f\"\\nRMSE: {rmse_value}\")\n",
        "pvrecord[province] = rmse_value\n",
        "leaderboard"
      ]
    },
    {
      "cell_type": "markdown",
      "metadata": {
        "id": "ZtsukwMzpp8M"
      },
      "source": [
        "<br>\n",
        "\n",
        "## Sakon Nakhon"
      ]
    },
    {
      "cell_type": "code",
      "execution_count": null,
      "metadata": {
        "id": "KfFhmLPDpp0-"
      },
      "outputs": [],
      "source": [
        "province = \"Sakon Nakhon\"\n",
        "province_df = train_df[train_df['PROVINCE']==province]\n",
        "years = [2013,2014,2015,2016,2017,2018,2019,2020] #* select year that is outliner\n",
        "province_train_df = province_df[province_df['Year'].isin(years[:-1])].copy()\n",
        "province_val_df = province_df[province_df['Year'].isin([years[-1]])].copy()\n",
        "for lag in range(1, 4):\n",
        "    province_train_df.loc[:, f'Lag_{lag}'] = province_train_df['Count'].shift(lag)\n",
        "    province_val_df.loc[:, f'Lag_{lag}'] = province_val_df['Count'].shift(lag)\n",
        "province_train_df.loc[:, 'Moving_Avg_3'] = province_train_df['Count'].rolling(window=3).mean()\n",
        "province_val_df.loc[:, 'Moving_Avg_3'] = province_val_df['Count'].rolling(window=3).mean()\n",
        "province_train_df.fillna(0, inplace=True)\n",
        "province_val_df.fillna(0, inplace=True)\n",
        "X_train = province_train_df[['Year', 'PROVINCE', 'Week_no', 'Lag_1', 'Lag_2', 'Lag_3', 'Moving_Avg_3']]\n",
        "y_train = province_train_df['Count']\n",
        "X_val = province_val_df[['Year', 'PROVINCE', 'Week_no', 'Lag_1', 'Lag_2', 'Lag_3', 'Moving_Avg_3']]\n",
        "y_val = province_val_df['Count']\n",
        "train_data = X_train.copy()\n",
        "train_data['Count'] = y_train\n",
        "val_data = X_val.copy()\n",
        "val_data['Count'] = y_val\n",
        "Sakon_Nakhon = TabularPredictor(label='Count', problem_type='regression', eval_metric='rmse').fit(train_data)\n",
        "leaderboard = Sakon_Nakhon.leaderboard(val_data, extra_metrics=['rmse'])\n",
        "y_pred = Sakon_Nakhon.predict(X_val)\n",
        "rmse_value = rmse(y_val, y_pred)\n",
        "pplot(pd.concat([province_train_df,province_val_df]),province)\n",
        "print(f\"\\nRMSE: {rmse_value}\")\n",
        "pvrecord[province] = rmse_value\n",
        "leaderboard"
      ]
    },
    {
      "cell_type": "markdown",
      "metadata": {
        "id": "kA-7clDOppq3"
      },
      "source": [
        "<br>\n",
        "\n",
        "## Nakhon Phanom"
      ]
    },
    {
      "cell_type": "code",
      "execution_count": null,
      "metadata": {
        "id": "ZJ_asuXFppj9"
      },
      "outputs": [],
      "source": [
        "province = \"Nakhon Phanom\"\n",
        "province_df = train_df[train_df['PROVINCE']==province]\n",
        "years = [2013,2014,2015,2016,2017,2018,2019,2020] #* select year that is outliner\n",
        "province_train_df = province_df[province_df['Year'].isin(years[:-1])].copy()\n",
        "province_val_df = province_df[province_df['Year'].isin([years[-1]])].copy()\n",
        "for lag in range(1, 4):\n",
        "    province_train_df.loc[:, f'Lag_{lag}'] = province_train_df['Count'].shift(lag)\n",
        "    province_val_df.loc[:, f'Lag_{lag}'] = province_val_df['Count'].shift(lag)\n",
        "province_train_df.loc[:, 'Moving_Avg_3'] = province_train_df['Count'].rolling(window=3).mean()\n",
        "province_val_df.loc[:, 'Moving_Avg_3'] = province_val_df['Count'].rolling(window=3).mean()\n",
        "province_train_df.fillna(0, inplace=True)\n",
        "province_val_df.fillna(0, inplace=True)\n",
        "X_train = province_train_df[['Year', 'PROVINCE', 'Week_no', 'Lag_1', 'Lag_2', 'Lag_3', 'Moving_Avg_3']]\n",
        "y_train = province_train_df['Count']\n",
        "X_val = province_val_df[['Year', 'PROVINCE', 'Week_no', 'Lag_1', 'Lag_2', 'Lag_3', 'Moving_Avg_3']]\n",
        "y_val = province_val_df['Count']\n",
        "train_data = X_train.copy()\n",
        "train_data['Count'] = y_train\n",
        "val_data = X_val.copy()\n",
        "val_data['Count'] = y_val\n",
        "Nakhon_Phanom = TabularPredictor(label='Count', problem_type='regression', eval_metric='rmse').fit(train_data)\n",
        "leaderboard = Nakhon_Phanom.leaderboard(val_data, extra_metrics=['rmse'])\n",
        "y_pred = Nakhon_Phanom.predict(X_val)\n",
        "rmse_value = rmse(y_val, y_pred)\n",
        "pplot(pd.concat([province_train_df,province_val_df]),province)\n",
        "print(f\"\\nRMSE: {rmse_value}\")\n",
        "pvrecord[province] = rmse_value\n",
        "leaderboard"
      ]
    },
    {
      "cell_type": "markdown",
      "metadata": {
        "id": "UHW32aFvppbI"
      },
      "source": [
        "<br>\n",
        "\n",
        "## Mukdahan"
      ]
    },
    {
      "cell_type": "code",
      "execution_count": null,
      "metadata": {
        "id": "n4d4kTasppTG"
      },
      "outputs": [],
      "source": [
        "province = \"Mukdahan\"\n",
        "province_df = train_df[train_df['PROVINCE']==province]\n",
        "years = [2013,2014,2015,2016,2017,2018,2019,2020] #* select year that is outliner\n",
        "province_train_df = province_df[province_df['Year'].isin(years[:-1])].copy()\n",
        "province_val_df = province_df[province_df['Year'].isin([years[-1]])].copy()\n",
        "for lag in range(1, 4):\n",
        "    province_train_df.loc[:, f'Lag_{lag}'] = province_train_df['Count'].shift(lag)\n",
        "    province_val_df.loc[:, f'Lag_{lag}'] = province_val_df['Count'].shift(lag)\n",
        "province_train_df.loc[:, 'Moving_Avg_3'] = province_train_df['Count'].rolling(window=3).mean()\n",
        "province_val_df.loc[:, 'Moving_Avg_3'] = province_val_df['Count'].rolling(window=3).mean()\n",
        "province_train_df.fillna(0, inplace=True)\n",
        "province_val_df.fillna(0, inplace=True)\n",
        "X_train = province_train_df[['Year', 'PROVINCE', 'Week_no', 'Lag_1', 'Lag_2', 'Lag_3', 'Moving_Avg_3']]\n",
        "y_train = province_train_df['Count']\n",
        "X_val = province_val_df[['Year', 'PROVINCE', 'Week_no', 'Lag_1', 'Lag_2', 'Lag_3', 'Moving_Avg_3']]\n",
        "y_val = province_val_df['Count']\n",
        "train_data = X_train.copy()\n",
        "train_data['Count'] = y_train\n",
        "val_data = X_val.copy()\n",
        "val_data['Count'] = y_val\n",
        "Mukdahan = TabularPredictor(label='Count', problem_type='regression', eval_metric='rmse').fit(train_data)\n",
        "leaderboard = Mukdahan.leaderboard(val_data, extra_metrics=['rmse'])\n",
        "y_pred = Mukdahan.predict(X_val)\n",
        "rmse_value = rmse(y_val, y_pred)\n",
        "pplot(pd.concat([province_train_df,province_val_df]),province)\n",
        "print(f\"\\nRMSE: {rmse_value}\")\n",
        "pvrecord[province] = rmse_value\n",
        "leaderboard"
      ]
    },
    {
      "cell_type": "markdown",
      "metadata": {
        "id": "sFg0yQoiqaj1"
      },
      "source": [
        "<br>\n",
        "\n",
        "## Chiang Mai"
      ]
    },
    {
      "cell_type": "code",
      "execution_count": null,
      "metadata": {
        "id": "_kyRK9nvqaZD"
      },
      "outputs": [],
      "source": [
        "province = \"Chiang Mai\"\n",
        "province_df = train_df[train_df['PROVINCE']==province]\n",
        "years = [2013,2014,2015,2017,2018,2020] #* select year that is outliner\n",
        "province_train_df = province_df[province_df['Year'].isin(years[:-1])].copy()\n",
        "province_val_df = province_df[province_df['Year'].isin([years[-1]])].copy()\n",
        "for lag in range(1, 4):\n",
        "    province_train_df.loc[:, f'Lag_{lag}'] = province_train_df['Count'].shift(lag)\n",
        "    province_val_df.loc[:, f'Lag_{lag}'] = province_val_df['Count'].shift(lag)\n",
        "province_train_df.loc[:, 'Moving_Avg_3'] = province_train_df['Count'].rolling(window=3).mean()\n",
        "province_val_df.loc[:, 'Moving_Avg_3'] = province_val_df['Count'].rolling(window=3).mean()\n",
        "province_train_df.fillna(0, inplace=True)\n",
        "province_val_df.fillna(0, inplace=True)\n",
        "X_train = province_train_df[['Year', 'PROVINCE', 'Week_no', 'Lag_1', 'Lag_2', 'Lag_3', 'Moving_Avg_3']]\n",
        "y_train = province_train_df['Count']\n",
        "X_val = province_val_df[['Year', 'PROVINCE', 'Week_no', 'Lag_1', 'Lag_2', 'Lag_3', 'Moving_Avg_3']]\n",
        "y_val = province_val_df['Count']\n",
        "train_data = X_train.copy()\n",
        "train_data['Count'] = y_train\n",
        "val_data = X_val.copy()\n",
        "val_data['Count'] = y_val\n",
        "Chiang_Mai = TabularPredictor(label='Count', problem_type='regression', eval_metric='rmse').fit(train_data)\n",
        "leaderboard = Chiang_Mai.leaderboard(val_data, extra_metrics=['rmse'])\n",
        "y_pred = Chiang_Mai.predict(X_val)\n",
        "rmse_value = rmse(y_val, y_pred)\n",
        "pplot(pd.concat([province_train_df,province_val_df]),province)\n",
        "print(f\"\\nRMSE: {rmse_value}\")\n",
        "pvrecord[province] = rmse_value\n",
        "leaderboard"
      ]
    },
    {
      "cell_type": "markdown",
      "metadata": {
        "id": "7tpAFPyGqaQo"
      },
      "source": [
        "<br>\n",
        "\n",
        "## Lamphun"
      ]
    },
    {
      "cell_type": "code",
      "execution_count": null,
      "metadata": {
        "id": "nkPoXAU-qaH_"
      },
      "outputs": [],
      "source": [
        "province = \"Lamphun\"\n",
        "province_df = train_df[train_df['PROVINCE']==province]\n",
        "years = [2013,2014,2015,2017,2018,2019,2020] #* select year that is outliner\n",
        "province_train_df = province_df[province_df['Year'].isin(years[:-1])].copy()\n",
        "province_val_df = province_df[province_df['Year'].isin([years[-1]])].copy()\n",
        "for lag in range(1, 4):\n",
        "    province_train_df.loc[:, f'Lag_{lag}'] = province_train_df['Count'].shift(lag)\n",
        "    province_val_df.loc[:, f'Lag_{lag}'] = province_val_df['Count'].shift(lag)\n",
        "province_train_df.loc[:, 'Moving_Avg_3'] = province_train_df['Count'].rolling(window=3).mean()\n",
        "province_val_df.loc[:, 'Moving_Avg_3'] = province_val_df['Count'].rolling(window=3).mean()\n",
        "province_train_df.fillna(0, inplace=True)\n",
        "province_val_df.fillna(0, inplace=True)\n",
        "X_train = province_train_df[['Year', 'PROVINCE', 'Week_no', 'Lag_1', 'Lag_2', 'Lag_3', 'Moving_Avg_3']]\n",
        "y_train = province_train_df['Count']\n",
        "X_val = province_val_df[['Year', 'PROVINCE', 'Week_no', 'Lag_1', 'Lag_2', 'Lag_3', 'Moving_Avg_3']]\n",
        "y_val = province_val_df['Count']\n",
        "train_data = X_train.copy()\n",
        "train_data['Count'] = y_train\n",
        "val_data = X_val.copy()\n",
        "val_data['Count'] = y_val\n",
        "Lamphun = TabularPredictor(label='Count', problem_type='regression', eval_metric='rmse').fit(train_data)\n",
        "leaderboard = Lamphun.leaderboard(val_data, extra_metrics=['rmse'])\n",
        "y_pred = Lamphun.predict(X_val)\n",
        "rmse_value = rmse(y_val, y_pred)\n",
        "pplot(pd.concat([province_train_df,province_val_df]),province)\n",
        "print(f\"\\nRMSE: {rmse_value}\")\n",
        "pvrecord[province] = rmse_value\n",
        "leaderboard"
      ]
    },
    {
      "cell_type": "markdown",
      "metadata": {
        "id": "Q3LcM74ZqZ_8"
      },
      "source": [
        "<br>\n",
        "\n",
        "## Lampang"
      ]
    },
    {
      "cell_type": "code",
      "execution_count": null,
      "metadata": {
        "id": "k3GjWvZIqZ4_"
      },
      "outputs": [],
      "source": [
        "province = \"Lampang\"\n",
        "province_df = train_df[train_df['PROVINCE']==province]\n",
        "years = [2013,2014,2015,2016,2017,2018,2019,2020] #* select year that is outliner\n",
        "province_train_df = province_df[province_df['Year'].isin(years[:-1])].copy()\n",
        "province_val_df = province_df[province_df['Year'].isin([years[-1]])].copy()\n",
        "for lag in range(1, 4):\n",
        "    province_train_df.loc[:, f'Lag_{lag}'] = province_train_df['Count'].shift(lag)\n",
        "    province_val_df.loc[:, f'Lag_{lag}'] = province_val_df['Count'].shift(lag)\n",
        "province_train_df.loc[:, 'Moving_Avg_3'] = province_train_df['Count'].rolling(window=3).mean()\n",
        "province_val_df.loc[:, 'Moving_Avg_3'] = province_val_df['Count'].rolling(window=3).mean()\n",
        "province_train_df.fillna(0, inplace=True)\n",
        "province_val_df.fillna(0, inplace=True)\n",
        "X_train = province_train_df[['Year', 'PROVINCE', 'Week_no', 'Lag_1', 'Lag_2', 'Lag_3', 'Moving_Avg_3']]\n",
        "y_train = province_train_df['Count']\n",
        "X_val = province_val_df[['Year', 'PROVINCE', 'Week_no', 'Lag_1', 'Lag_2', 'Lag_3', 'Moving_Avg_3']]\n",
        "y_val = province_val_df['Count']\n",
        "train_data = X_train.copy()\n",
        "train_data['Count'] = y_train\n",
        "val_data = X_val.copy()\n",
        "val_data['Count'] = y_val\n",
        "Lampang = TabularPredictor(label='Count', problem_type='regression', eval_metric='rmse').fit(train_data)\n",
        "leaderboard = Lampang.leaderboard(val_data, extra_metrics=['rmse'])\n",
        "y_pred = Lampang.predict(X_val)\n",
        "rmse_value = rmse(y_val, y_pred)\n",
        "pplot(pd.concat([province_train_df,province_val_df]),province)\n",
        "print(f\"\\nRMSE: {rmse_value}\")\n",
        "pvrecord[province] = rmse_value\n",
        "leaderboard"
      ]
    },
    {
      "cell_type": "markdown",
      "metadata": {
        "id": "nV7o7IlOqZwS"
      },
      "source": [
        "<br>\n",
        "\n",
        "## Uttaradit"
      ]
    },
    {
      "cell_type": "code",
      "execution_count": null,
      "metadata": {
        "id": "kyNC9btfqZn8"
      },
      "outputs": [],
      "source": [
        "province = \"Uttaradit\"\n",
        "province_df = train_df[train_df['PROVINCE']==province]\n",
        "years = [2013,2014,2015,2016,2017,2018,2019,2020] #* select year that is outliner\n",
        "province_train_df = province_df[province_df['Year'].isin(years[:-1])].copy()\n",
        "province_val_df = province_df[province_df['Year'].isin([years[-1]])].copy()\n",
        "for lag in range(1, 4):\n",
        "    province_train_df.loc[:, f'Lag_{lag}'] = province_train_df['Count'].shift(lag)\n",
        "    province_val_df.loc[:, f'Lag_{lag}'] = province_val_df['Count'].shift(lag)\n",
        "province_train_df.loc[:, 'Moving_Avg_3'] = province_train_df['Count'].rolling(window=3).mean()\n",
        "province_val_df.loc[:, 'Moving_Avg_3'] = province_val_df['Count'].rolling(window=3).mean()\n",
        "province_train_df.fillna(0, inplace=True)\n",
        "province_val_df.fillna(0, inplace=True)\n",
        "X_train = province_train_df[['Year', 'PROVINCE', 'Week_no', 'Lag_1', 'Lag_2', 'Lag_3', 'Moving_Avg_3']]\n",
        "y_train = province_train_df['Count']\n",
        "X_val = province_val_df[['Year', 'PROVINCE', 'Week_no', 'Lag_1', 'Lag_2', 'Lag_3', 'Moving_Avg_3']]\n",
        "y_val = province_val_df['Count']\n",
        "train_data = X_train.copy()\n",
        "train_data['Count'] = y_train\n",
        "val_data = X_val.copy()\n",
        "val_data['Count'] = y_val\n",
        "Uttaradit = TabularPredictor(label='Count', problem_type='regression', eval_metric='rmse').fit(train_data)\n",
        "leaderboard = Uttaradit.leaderboard(val_data, extra_metrics=['rmse'])\n",
        "y_pred = Uttaradit.predict(X_val)\n",
        "rmse_value = rmse(y_val, y_pred)\n",
        "pplot(pd.concat([province_train_df,province_val_df]),province)\n",
        "print(f\"\\nRMSE: {rmse_value}\")\n",
        "pvrecord[province] = rmse_value\n",
        "leaderboard"
      ]
    },
    {
      "cell_type": "markdown",
      "metadata": {
        "id": "oNBt1if5qZgK"
      },
      "source": [
        "<br>\n",
        "\n",
        "## Phrae"
      ]
    },
    {
      "cell_type": "code",
      "execution_count": null,
      "metadata": {
        "id": "O-vG1Ty1qZYU"
      },
      "outputs": [],
      "source": [
        "province = \"Phrae\"\n",
        "province_df = train_df[train_df['PROVINCE']==province]\n",
        "years = [2013,2014,2015,2017,2018,2019,2020] #* select year that is outliner\n",
        "province_train_df = province_df[province_df['Year'].isin(years[:-1])].copy()\n",
        "province_val_df = province_df[province_df['Year'].isin([years[-1]])].copy()\n",
        "for lag in range(1, 4):\n",
        "    province_train_df.loc[:, f'Lag_{lag}'] = province_train_df['Count'].shift(lag)\n",
        "    province_val_df.loc[:, f'Lag_{lag}'] = province_val_df['Count'].shift(lag)\n",
        "province_train_df.loc[:, 'Moving_Avg_3'] = province_train_df['Count'].rolling(window=3).mean()\n",
        "province_val_df.loc[:, 'Moving_Avg_3'] = province_val_df['Count'].rolling(window=3).mean()\n",
        "province_train_df.fillna(0, inplace=True)\n",
        "province_val_df.fillna(0, inplace=True)\n",
        "X_train = province_train_df[['Year', 'PROVINCE', 'Week_no', 'Lag_1', 'Lag_2', 'Lag_3', 'Moving_Avg_3']]\n",
        "y_train = province_train_df['Count']\n",
        "X_val = province_val_df[['Year', 'PROVINCE', 'Week_no', 'Lag_1', 'Lag_2', 'Lag_3', 'Moving_Avg_3']]\n",
        "y_val = province_val_df['Count']\n",
        "train_data = X_train.copy()\n",
        "train_data['Count'] = y_train\n",
        "val_data = X_val.copy()\n",
        "val_data['Count'] = y_val\n",
        "Phrae = TabularPredictor(label='Count', problem_type='regression', eval_metric='rmse').fit(train_data)\n",
        "leaderboard = Phrae.leaderboard(val_data, extra_metrics=['rmse'])\n",
        "y_pred = Phrae.predict(X_val)\n",
        "rmse_value = rmse(y_val, y_pred)\n",
        "pplot(pd.concat([province_train_df,province_val_df]),province)\n",
        "print(f\"\\nRMSE: {rmse_value}\")\n",
        "pvrecord[province] = rmse_value\n",
        "leaderboard"
      ]
    },
    {
      "cell_type": "markdown",
      "metadata": {
        "id": "J4UUK-K3qZQ4"
      },
      "source": [
        "<br>\n",
        "\n",
        "## Nan"
      ]
    },
    {
      "cell_type": "code",
      "execution_count": null,
      "metadata": {
        "id": "z5Ulm4ZnqZKd"
      },
      "outputs": [],
      "source": [
        "province = \"Nan\"\n",
        "province_df = train_df[train_df['PROVINCE']==province]\n",
        "years = [2013,2014,2015,2017,2018,2020] #* select year that is outliner\n",
        "province_train_df = province_df[province_df['Year'].isin(years[:-1])].copy()\n",
        "province_val_df = province_df[province_df['Year'].isin([years[-1]])].copy()\n",
        "for lag in range(1, 4):\n",
        "    province_train_df.loc[:, f'Lag_{lag}'] = province_train_df['Count'].shift(lag)\n",
        "    province_val_df.loc[:, f'Lag_{lag}'] = province_val_df['Count'].shift(lag)\n",
        "province_train_df.loc[:, 'Moving_Avg_3'] = province_train_df['Count'].rolling(window=3).mean()\n",
        "province_val_df.loc[:, 'Moving_Avg_3'] = province_val_df['Count'].rolling(window=3).mean()\n",
        "province_train_df.fillna(0, inplace=True)\n",
        "province_val_df.fillna(0, inplace=True)\n",
        "X_train = province_train_df[['Year', 'PROVINCE', 'Week_no', 'Lag_1', 'Lag_2', 'Lag_3', 'Moving_Avg_3']]\n",
        "y_train = province_train_df['Count']\n",
        "X_val = province_val_df[['Year', 'PROVINCE', 'Week_no', 'Lag_1', 'Lag_2', 'Lag_3', 'Moving_Avg_3']]\n",
        "y_val = province_val_df['Count']\n",
        "train_data = X_train.copy()\n",
        "train_data['Count'] = y_train\n",
        "val_data = X_val.copy()\n",
        "val_data['Count'] = y_val\n",
        "Nan = TabularPredictor(label='Count', problem_type='regression', eval_metric='rmse').fit(train_data)\n",
        "leaderboard = Nan.leaderboard(val_data, extra_metrics=['rmse'])\n",
        "y_pred = Nan.predict(X_val)\n",
        "rmse_value = rmse(y_val, y_pred)\n",
        "pplot(pd.concat([province_train_df,province_val_df]),province)\n",
        "print(f\"\\nRMSE: {rmse_value}\")\n",
        "pvrecord[province] = rmse_value\n",
        "leaderboard"
      ]
    },
    {
      "cell_type": "markdown",
      "metadata": {
        "id": "6TwOdNNHqZCZ"
      },
      "source": [
        "<br>\n",
        "\n",
        "## Phayao"
      ]
    },
    {
      "cell_type": "code",
      "execution_count": null,
      "metadata": {
        "id": "bsh8qeNKqY5t"
      },
      "outputs": [],
      "source": [
        "province = \"Phayao\"\n",
        "province_df = train_df[train_df['PROVINCE']==province]\n",
        "years = [2013,2014,2015,2017,2018,2019,2020] #* select year that is outliner\n",
        "province_train_df = province_df[province_df['Year'].isin(years[:-1])].copy()\n",
        "province_val_df = province_df[province_df['Year'].isin([years[-1]])].copy()\n",
        "for lag in range(1, 4):\n",
        "    province_train_df.loc[:, f'Lag_{lag}'] = province_train_df['Count'].shift(lag)\n",
        "    province_val_df.loc[:, f'Lag_{lag}'] = province_val_df['Count'].shift(lag)\n",
        "province_train_df.loc[:, 'Moving_Avg_3'] = province_train_df['Count'].rolling(window=3).mean()\n",
        "province_val_df.loc[:, 'Moving_Avg_3'] = province_val_df['Count'].rolling(window=3).mean()\n",
        "province_train_df.fillna(0, inplace=True)\n",
        "province_val_df.fillna(0, inplace=True)\n",
        "X_train = province_train_df[['Year', 'PROVINCE', 'Week_no', 'Lag_1', 'Lag_2', 'Lag_3', 'Moving_Avg_3']]\n",
        "y_train = province_train_df['Count']\n",
        "X_val = province_val_df[['Year', 'PROVINCE', 'Week_no', 'Lag_1', 'Lag_2', 'Lag_3', 'Moving_Avg_3']]\n",
        "y_val = province_val_df['Count']\n",
        "train_data = X_train.copy()\n",
        "train_data['Count'] = y_train\n",
        "val_data = X_val.copy()\n",
        "val_data['Count'] = y_val\n",
        "Phayao = TabularPredictor(label='Count', problem_type='regression', eval_metric='rmse').fit(train_data)\n",
        "leaderboard = Phayao.leaderboard(val_data, extra_metrics=['rmse'])\n",
        "y_pred = Phayao.predict(X_val)\n",
        "rmse_value = rmse(y_val, y_pred)\n",
        "pplot(pd.concat([province_train_df,province_val_df]),province)\n",
        "print(f\"\\nRMSE: {rmse_value}\")\n",
        "pvrecord[province] = rmse_value\n",
        "leaderboard"
      ]
    },
    {
      "cell_type": "markdown",
      "metadata": {
        "id": "Yy9AW4BsppHH"
      },
      "source": [
        "<br>\n",
        "\n",
        "## Chiang Rai"
      ]
    },
    {
      "cell_type": "code",
      "execution_count": null,
      "metadata": {
        "id": "WQqszOoBpo0J"
      },
      "outputs": [],
      "source": [
        "province = \"Chiang Rai\"\n",
        "province_df = train_df[train_df['PROVINCE']==province]\n",
        "years = [2013,2014,2015,2017,2018,2019,2020] #* select year that is outliner\n",
        "province_train_df = province_df[province_df['Year'].isin(years[:-1])].copy()\n",
        "province_val_df = province_df[province_df['Year'].isin([years[-1]])].copy()\n",
        "for lag in range(1, 4):\n",
        "    province_train_df.loc[:, f'Lag_{lag}'] = province_train_df['Count'].shift(lag)\n",
        "    province_val_df.loc[:, f'Lag_{lag}'] = province_val_df['Count'].shift(lag)\n",
        "province_train_df.loc[:, 'Moving_Avg_3'] = province_train_df['Count'].rolling(window=3).mean()\n",
        "province_val_df.loc[:, 'Moving_Avg_3'] = province_val_df['Count'].rolling(window=3).mean()\n",
        "province_train_df.fillna(0, inplace=True)\n",
        "province_val_df.fillna(0, inplace=True)\n",
        "X_train = province_train_df[['Year', 'PROVINCE', 'Week_no', 'Lag_1', 'Lag_2', 'Lag_3', 'Moving_Avg_3']]\n",
        "y_train = province_train_df['Count']\n",
        "X_val = province_val_df[['Year', 'PROVINCE', 'Week_no', 'Lag_1', 'Lag_2', 'Lag_3', 'Moving_Avg_3']]\n",
        "y_val = province_val_df['Count']\n",
        "train_data = X_train.copy()\n",
        "train_data['Count'] = y_train\n",
        "val_data = X_val.copy()\n",
        "val_data['Count'] = y_val\n",
        "Chiang_Rai = TabularPredictor(label='Count', problem_type='regression', eval_metric='rmse').fit(train_data)\n",
        "leaderboard = Chiang_Rai.leaderboard(val_data, extra_metrics=['rmse'])\n",
        "y_pred = Chiang_Rai.predict(X_val)\n",
        "rmse_value = rmse(y_val, y_pred)\n",
        "pplot(pd.concat([province_train_df,province_val_df]),province)\n",
        "print(f\"\\nRMSE: {rmse_value}\")\n",
        "pvrecord[province] = rmse_value\n",
        "leaderboard"
      ]
    },
    {
      "cell_type": "markdown",
      "metadata": {
        "id": "BgSRJw4OrcTR"
      },
      "source": [
        "<br>\n",
        "\n",
        "## Mae Hong Son"
      ]
    },
    {
      "cell_type": "code",
      "execution_count": null,
      "metadata": {
        "id": "UdtrlUMdrcM0"
      },
      "outputs": [],
      "source": [
        "province = \"Mae Hong Son\"\n",
        "province_df = train_df[train_df['PROVINCE']==province]\n",
        "years = [2013,2014,2015,2016,2017,2018,2019,2020] #* select year that is outliner\n",
        "province_train_df = province_df[province_df['Year'].isin(years[:-1])].copy()\n",
        "province_val_df = province_df[province_df['Year'].isin([years[-1]])].copy()\n",
        "for lag in range(1, 4):\n",
        "    province_train_df.loc[:, f'Lag_{lag}'] = province_train_df['Count'].shift(lag)\n",
        "    province_val_df.loc[:, f'Lag_{lag}'] = province_val_df['Count'].shift(lag)\n",
        "province_train_df.loc[:, 'Moving_Avg_3'] = province_train_df['Count'].rolling(window=3).mean()\n",
        "province_val_df.loc[:, 'Moving_Avg_3'] = province_val_df['Count'].rolling(window=3).mean()\n",
        "province_train_df.fillna(0, inplace=True)\n",
        "province_val_df.fillna(0, inplace=True)\n",
        "X_train = province_train_df[['Year', 'PROVINCE', 'Week_no', 'Lag_1', 'Lag_2', 'Lag_3', 'Moving_Avg_3']]\n",
        "y_train = province_train_df['Count']\n",
        "X_val = province_val_df[['Year', 'PROVINCE', 'Week_no', 'Lag_1', 'Lag_2', 'Lag_3', 'Moving_Avg_3']]\n",
        "y_val = province_val_df['Count']\n",
        "train_data = X_train.copy()\n",
        "train_data['Count'] = y_train\n",
        "val_data = X_val.copy()\n",
        "val_data['Count'] = y_val\n",
        "Mae_Hong_Son = TabularPredictor(label='Count', problem_type='regression', eval_metric='rmse').fit(train_data)\n",
        "leaderboard = Mae_Hong_Son.leaderboard(val_data, extra_metrics=['rmse'])\n",
        "y_pred = Mae_Hong_Son.predict(X_val)\n",
        "rmse_value = rmse(y_val, y_pred)\n",
        "pplot(pd.concat([province_train_df,province_val_df]),province)\n",
        "print(f\"\\nRMSE: {rmse_value}\")\n",
        "pvrecord[province] = rmse_value\n",
        "leaderboard"
      ]
    },
    {
      "cell_type": "markdown",
      "metadata": {
        "id": "hb08d5k1rcFZ"
      },
      "source": [
        "<br>\n",
        "\n",
        "## Nakhon Sawan"
      ]
    },
    {
      "cell_type": "code",
      "execution_count": null,
      "metadata": {
        "id": "0aMT_xpYrb4Z"
      },
      "outputs": [],
      "source": [
        "province = \"Nakhon Sawan\"\n",
        "province_df = train_df[train_df['PROVINCE']==province]\n",
        "years = [2013,2014,2015,2017,2018,2019,2020] #* select year that is outliner\n",
        "province_train_df = province_df[province_df['Year'].isin(years[:-1])].copy()\n",
        "province_val_df = province_df[province_df['Year'].isin([years[-1]])].copy()\n",
        "for lag in range(1, 4):\n",
        "    province_train_df.loc[:, f'Lag_{lag}'] = province_train_df['Count'].shift(lag)\n",
        "    province_val_df.loc[:, f'Lag_{lag}'] = province_val_df['Count'].shift(lag)\n",
        "province_train_df.loc[:, 'Moving_Avg_3'] = province_train_df['Count'].rolling(window=3).mean()\n",
        "province_val_df.loc[:, 'Moving_Avg_3'] = province_val_df['Count'].rolling(window=3).mean()\n",
        "province_train_df.fillna(0, inplace=True)\n",
        "province_val_df.fillna(0, inplace=True)\n",
        "X_train = province_train_df[['Year', 'PROVINCE', 'Week_no', 'Lag_1', 'Lag_2', 'Lag_3', 'Moving_Avg_3']]\n",
        "y_train = province_train_df['Count']\n",
        "X_val = province_val_df[['Year', 'PROVINCE', 'Week_no', 'Lag_1', 'Lag_2', 'Lag_3', 'Moving_Avg_3']]\n",
        "y_val = province_val_df['Count']\n",
        "train_data = X_train.copy()\n",
        "train_data['Count'] = y_train\n",
        "val_data = X_val.copy()\n",
        "val_data['Count'] = y_val\n",
        "Nakhon_Sawan = TabularPredictor(label='Count', problem_type='regression', eval_metric='rmse').fit(train_data)\n",
        "leaderboard = Nakhon_Sawan.leaderboard(val_data, extra_metrics=['rmse'])\n",
        "y_pred = Nakhon_Sawan.predict(X_val)\n",
        "rmse_value = rmse(y_val, y_pred)\n",
        "pplot(pd.concat([province_train_df,province_val_df]),province)\n",
        "print(f\"\\nRMSE: {rmse_value}\")\n",
        "pvrecord[province] = rmse_value\n",
        "leaderboard"
      ]
    },
    {
      "cell_type": "markdown",
      "metadata": {
        "id": "IT02F_m1rbwW"
      },
      "source": [
        "<br>\n",
        "\n",
        "## Uthai Thani"
      ]
    },
    {
      "cell_type": "code",
      "execution_count": null,
      "metadata": {
        "id": "-4q8TuGNrbp7"
      },
      "outputs": [],
      "source": [
        "province = \"Uthai Thani\"\n",
        "province_df = train_df[train_df['PROVINCE']==province]\n",
        "years = [2013,2014,2015,2016,2017,2018,2019,2020] #* select year that is outliner\n",
        "province_train_df = province_df[province_df['Year'].isin(years[:-1])].copy()\n",
        "province_val_df = province_df[province_df['Year'].isin([years[-1]])].copy()\n",
        "for lag in range(1, 4):\n",
        "    province_train_df.loc[:, f'Lag_{lag}'] = province_train_df['Count'].shift(lag)\n",
        "    province_val_df.loc[:, f'Lag_{lag}'] = province_val_df['Count'].shift(lag)\n",
        "province_train_df.loc[:, 'Moving_Avg_3'] = province_train_df['Count'].rolling(window=3).mean()\n",
        "province_val_df.loc[:, 'Moving_Avg_3'] = province_val_df['Count'].rolling(window=3).mean()\n",
        "province_train_df.fillna(0, inplace=True)\n",
        "province_val_df.fillna(0, inplace=True)\n",
        "X_train = province_train_df[['Year', 'PROVINCE', 'Week_no', 'Lag_1', 'Lag_2', 'Lag_3', 'Moving_Avg_3']]\n",
        "y_train = province_train_df['Count']\n",
        "X_val = province_val_df[['Year', 'PROVINCE', 'Week_no', 'Lag_1', 'Lag_2', 'Lag_3', 'Moving_Avg_3']]\n",
        "y_val = province_val_df['Count']\n",
        "train_data = X_train.copy()\n",
        "train_data['Count'] = y_train\n",
        "val_data = X_val.copy()\n",
        "val_data['Count'] = y_val\n",
        "Uthai_Thani = TabularPredictor(label='Count', problem_type='regression', eval_metric='rmse').fit(train_data)\n",
        "leaderboard = Uthai_Thani.leaderboard(val_data, extra_metrics=['rmse'])\n",
        "y_pred = Uthai_Thani.predict(X_val)\n",
        "rmse_value = rmse(y_val, y_pred)\n",
        "pplot(pd.concat([province_train_df,province_val_df]),province)\n",
        "print(f\"\\nRMSE: {rmse_value}\")\n",
        "pvrecord[province] = rmse_value\n",
        "leaderboard"
      ]
    },
    {
      "cell_type": "markdown",
      "metadata": {
        "id": "iw0SBQGlrbjI"
      },
      "source": [
        "<br>\n",
        "\n",
        "## Kamphaeng Phet"
      ]
    },
    {
      "cell_type": "code",
      "execution_count": null,
      "metadata": {
        "id": "oJ1Oj05Lrbbx"
      },
      "outputs": [],
      "source": [
        "province = \"Kamphaeng Phet\"\n",
        "province_df = train_df[train_df['PROVINCE']==province]\n",
        "years = [2013,2014,2015,2017,2018,2019,2020] #* select year that is outliner\n",
        "province_train_df = province_df[province_df['Year'].isin(years[:-1])].copy()\n",
        "province_val_df = province_df[province_df['Year'].isin([years[-1]])].copy()\n",
        "for lag in range(1, 4):\n",
        "    province_train_df.loc[:, f'Lag_{lag}'] = province_train_df['Count'].shift(lag)\n",
        "    province_val_df.loc[:, f'Lag_{lag}'] = province_val_df['Count'].shift(lag)\n",
        "province_train_df.loc[:, 'Moving_Avg_3'] = province_train_df['Count'].rolling(window=3).mean()\n",
        "province_val_df.loc[:, 'Moving_Avg_3'] = province_val_df['Count'].rolling(window=3).mean()\n",
        "province_train_df.fillna(0, inplace=True)\n",
        "province_val_df.fillna(0, inplace=True)\n",
        "X_train = province_train_df[['Year', 'PROVINCE', 'Week_no', 'Lag_1', 'Lag_2', 'Lag_3', 'Moving_Avg_3']]\n",
        "y_train = province_train_df['Count']\n",
        "X_val = province_val_df[['Year', 'PROVINCE', 'Week_no', 'Lag_1', 'Lag_2', 'Lag_3', 'Moving_Avg_3']]\n",
        "y_val = province_val_df['Count']\n",
        "train_data = X_train.copy()\n",
        "train_data['Count'] = y_train\n",
        "val_data = X_val.copy()\n",
        "val_data['Count'] = y_val\n",
        "Kamphaeng_Phet = TabularPredictor(label='Count', problem_type='regression', eval_metric='rmse').fit(train_data)\n",
        "leaderboard = Kamphaeng_Phet.leaderboard(val_data, extra_metrics=['rmse'])\n",
        "y_pred = Kamphaeng_Phet.predict(X_val)\n",
        "rmse_value = rmse(y_val, y_pred)\n",
        "pplot(pd.concat([province_train_df,province_val_df]),province)\n",
        "print(f\"\\nRMSE: {rmse_value}\")\n",
        "pvrecord[province] = rmse_value\n",
        "leaderboard"
      ]
    },
    {
      "cell_type": "markdown",
      "metadata": {
        "id": "70KICShcrbVA"
      },
      "source": [
        "<br>\n",
        "\n",
        "## Tak"
      ]
    },
    {
      "cell_type": "code",
      "execution_count": null,
      "metadata": {
        "id": "CFs6BUsQrbN_"
      },
      "outputs": [],
      "source": [
        "province = \"Tak\"\n",
        "province_df = train_df[train_df['PROVINCE']==province]\n",
        "years = [2013,2014,2015,2016,2017,2018,2019,2020] #* select year that is outliner\n",
        "province_train_df = province_df[province_df['Year'].isin(years[:-1])].copy()\n",
        "province_val_df = province_df[province_df['Year'].isin([years[-1]])].copy()\n",
        "for lag in range(1, 4):\n",
        "    province_train_df.loc[:, f'Lag_{lag}'] = province_train_df['Count'].shift(lag)\n",
        "    province_val_df.loc[:, f'Lag_{lag}'] = province_val_df['Count'].shift(lag)\n",
        "province_train_df.loc[:, 'Moving_Avg_3'] = province_train_df['Count'].rolling(window=3).mean()\n",
        "province_val_df.loc[:, 'Moving_Avg_3'] = province_val_df['Count'].rolling(window=3).mean()\n",
        "province_train_df.fillna(0, inplace=True)\n",
        "province_val_df.fillna(0, inplace=True)\n",
        "X_train = province_train_df[['Year', 'PROVINCE', 'Week_no', 'Lag_1', 'Lag_2', 'Lag_3', 'Moving_Avg_3']]\n",
        "y_train = province_train_df['Count']\n",
        "X_val = province_val_df[['Year', 'PROVINCE', 'Week_no', 'Lag_1', 'Lag_2', 'Lag_3', 'Moving_Avg_3']]\n",
        "y_val = province_val_df['Count']\n",
        "train_data = X_train.copy()\n",
        "train_data['Count'] = y_train\n",
        "val_data = X_val.copy()\n",
        "val_data['Count'] = y_val\n",
        "Tak = TabularPredictor(label='Count', problem_type='regression', eval_metric='rmse').fit(train_data)\n",
        "leaderboard = Tak.leaderboard(val_data, extra_metrics=['rmse'])\n",
        "y_pred = Tak.predict(X_val)\n",
        "rmse_value = rmse(y_val, y_pred)\n",
        "pplot(pd.concat([province_train_df,province_val_df]),province)\n",
        "print(f\"\\nRMSE: {rmse_value}\")\n",
        "pvrecord[province] = rmse_value\n",
        "leaderboard"
      ]
    },
    {
      "cell_type": "markdown",
      "metadata": {
        "id": "mBeqxFGbrbGg"
      },
      "source": [
        "<br>\n",
        "\n",
        "## Sukhothai"
      ]
    },
    {
      "cell_type": "code",
      "execution_count": null,
      "metadata": {
        "id": "Lc7o9TGyra_K"
      },
      "outputs": [],
      "source": [
        "province = \"Sukhothai\"\n",
        "province_df = train_df[train_df['PROVINCE']==province]\n",
        "years = [2014,2015,2016,2017,2018,2019] #* select year that is outliner\n",
        "province_train_df = province_df[province_df['Year'].isin(years[:-1])].copy()\n",
        "province_val_df = province_df[province_df['Year'].isin([years[-1]])].copy()\n",
        "for lag in range(1, 4):\n",
        "    province_train_df.loc[:, f'Lag_{lag}'] = province_train_df['Count'].shift(lag)\n",
        "    province_val_df.loc[:, f'Lag_{lag}'] = province_val_df['Count'].shift(lag)\n",
        "province_train_df.loc[:, 'Moving_Avg_3'] = province_train_df['Count'].rolling(window=3).mean()\n",
        "province_val_df.loc[:, 'Moving_Avg_3'] = province_val_df['Count'].rolling(window=3).mean()\n",
        "province_train_df.fillna(0, inplace=True)\n",
        "province_val_df.fillna(0, inplace=True)\n",
        "X_train = province_train_df[['Year', 'PROVINCE', 'Week_no', 'Lag_1', 'Lag_2', 'Lag_3', 'Moving_Avg_3']]\n",
        "y_train = province_train_df['Count']\n",
        "X_val = province_val_df[['Year', 'PROVINCE', 'Week_no', 'Lag_1', 'Lag_2', 'Lag_3', 'Moving_Avg_3']]\n",
        "y_val = province_val_df['Count']\n",
        "train_data = X_train.copy()\n",
        "train_data['Count'] = y_train\n",
        "val_data = X_val.copy()\n",
        "val_data['Count'] = y_val\n",
        "Sukhothai = TabularPredictor(label='Count', problem_type='regression', eval_metric='rmse').fit(train_data)\n",
        "leaderboard = Sukhothai.leaderboard(val_data, extra_metrics=['rmse'])\n",
        "y_pred = Sukhothai.predict(X_val)\n",
        "rmse_value = rmse(y_val, y_pred)\n",
        "pplot(pd.concat([province_train_df,province_val_df]),province)\n",
        "print(f\"\\nRMSE: {rmse_value}\")\n",
        "pvrecord[province] = rmse_value\n",
        "leaderboard"
      ]
    },
    {
      "cell_type": "markdown",
      "metadata": {
        "id": "VNjH1lZRra3-"
      },
      "source": [
        "<br>\n",
        "\n",
        "## Phitsanulok"
      ]
    },
    {
      "cell_type": "code",
      "execution_count": null,
      "metadata": {
        "id": "scQJkg8vravC"
      },
      "outputs": [],
      "source": [
        "province = \"Phitsanulok\"\n",
        "province_df = train_df[train_df['PROVINCE']==province]\n",
        "years = [2013,2014,2015,2017,2018,2019] #* select year that is outliner\n",
        "province_train_df = province_df[province_df['Year'].isin(years[:-1])].copy()\n",
        "province_val_df = province_df[province_df['Year'].isin([years[-1]])].copy()\n",
        "for lag in range(1, 4):\n",
        "    province_train_df.loc[:, f'Lag_{lag}'] = province_train_df['Count'].shift(lag)\n",
        "    province_val_df.loc[:, f'Lag_{lag}'] = province_val_df['Count'].shift(lag)\n",
        "province_train_df.loc[:, 'Moving_Avg_3'] = province_train_df['Count'].rolling(window=3).mean()\n",
        "province_val_df.loc[:, 'Moving_Avg_3'] = province_val_df['Count'].rolling(window=3).mean()\n",
        "province_train_df.fillna(0, inplace=True)\n",
        "province_val_df.fillna(0, inplace=True)\n",
        "X_train = province_train_df[['Year', 'PROVINCE', 'Week_no', 'Lag_1', 'Lag_2', 'Lag_3', 'Moving_Avg_3']]\n",
        "y_train = province_train_df['Count']\n",
        "X_val = province_val_df[['Year', 'PROVINCE', 'Week_no', 'Lag_1', 'Lag_2', 'Lag_3', 'Moving_Avg_3']]\n",
        "y_val = province_val_df['Count']\n",
        "train_data = X_train.copy()\n",
        "train_data['Count'] = y_train\n",
        "val_data = X_val.copy()\n",
        "val_data['Count'] = y_val\n",
        "Phitsanulok = TabularPredictor(label='Count', problem_type='regression', eval_metric='rmse').fit(train_data)\n",
        "leaderboard = Phitsanulok.leaderboard(val_data, extra_metrics=['rmse'])\n",
        "y_pred = Phitsanulok.predict(X_val)\n",
        "rmse_value = rmse(y_val, y_pred)\n",
        "pplot(pd.concat([province_train_df,province_val_df]),province)\n",
        "print(f\"\\nRMSE: {rmse_value}\")\n",
        "pvrecord[province] = rmse_value\n",
        "leaderboard"
      ]
    },
    {
      "cell_type": "markdown",
      "metadata": {
        "id": "cF5cSy85ram0"
      },
      "source": [
        "<br>\n",
        "\n",
        "## Phichit"
      ]
    },
    {
      "cell_type": "code",
      "execution_count": null,
      "metadata": {
        "id": "B7NON40KraVl"
      },
      "outputs": [],
      "source": [
        "province = \"Phichit\"\n",
        "province_df = train_df[train_df['PROVINCE']==province]\n",
        "years = [2013,2014,2015,2017,2018,2019,2020] #* select year that is outliner\n",
        "province_train_df = province_df[province_df['Year'].isin(years[:-1])].copy()\n",
        "province_val_df = province_df[province_df['Year'].isin([years[-1]])].copy()\n",
        "for lag in range(1, 4):\n",
        "    province_train_df.loc[:, f'Lag_{lag}'] = province_train_df['Count'].shift(lag)\n",
        "    province_val_df.loc[:, f'Lag_{lag}'] = province_val_df['Count'].shift(lag)\n",
        "province_train_df.loc[:, 'Moving_Avg_3'] = province_train_df['Count'].rolling(window=3).mean()\n",
        "province_val_df.loc[:, 'Moving_Avg_3'] = province_val_df['Count'].rolling(window=3).mean()\n",
        "province_train_df.fillna(0, inplace=True)\n",
        "province_val_df.fillna(0, inplace=True)\n",
        "X_train = province_train_df[['Year', 'PROVINCE', 'Week_no', 'Lag_1', 'Lag_2', 'Lag_3', 'Moving_Avg_3']]\n",
        "y_train = province_train_df['Count']\n",
        "X_val = province_val_df[['Year', 'PROVINCE', 'Week_no', 'Lag_1', 'Lag_2', 'Lag_3', 'Moving_Avg_3']]\n",
        "y_val = province_val_df['Count']\n",
        "train_data = X_train.copy()\n",
        "train_data['Count'] = y_train\n",
        "val_data = X_val.copy()\n",
        "val_data['Count'] = y_val\n",
        "Phichit = TabularPredictor(label='Count', problem_type='regression', eval_metric='rmse').fit(train_data)\n",
        "leaderboard = Phichit.leaderboard(val_data, extra_metrics=['rmse'])\n",
        "y_pred = Phichit.predict(X_val)\n",
        "rmse_value = rmse(y_val, y_pred)\n",
        "pplot(pd.concat([province_train_df,province_val_df]),province)\n",
        "print(f\"\\nRMSE: {rmse_value}\")\n",
        "pvrecord[province] = rmse_value\n",
        "leaderboard"
      ]
    },
    {
      "cell_type": "markdown",
      "metadata": {
        "id": "2ORZy2nzraP4"
      },
      "source": [
        "<br>\n",
        "\n",
        "## Phetchabun"
      ]
    },
    {
      "cell_type": "code",
      "execution_count": null,
      "metadata": {
        "id": "O6wYoun9raJX"
      },
      "outputs": [],
      "source": [
        "province = \"Phetchabun\"\n",
        "province_df = train_df[train_df['PROVINCE']==province]\n",
        "years = [2013,2014,2015,2016,2017,2018,2019,2020] #* select year that is outliner\n",
        "province_train_df = province_df[province_df['Year'].isin(years[:-1])].copy()\n",
        "province_val_df = province_df[province_df['Year'].isin([years[-1]])].copy()\n",
        "for lag in range(1, 4):\n",
        "    province_train_df.loc[:, f'Lag_{lag}'] = province_train_df['Count'].shift(lag)\n",
        "    province_val_df.loc[:, f'Lag_{lag}'] = province_val_df['Count'].shift(lag)\n",
        "province_train_df.loc[:, 'Moving_Avg_3'] = province_train_df['Count'].rolling(window=3).mean()\n",
        "province_val_df.loc[:, 'Moving_Avg_3'] = province_val_df['Count'].rolling(window=3).mean()\n",
        "province_train_df.fillna(0, inplace=True)\n",
        "province_val_df.fillna(0, inplace=True)\n",
        "X_train = province_train_df[['Year', 'PROVINCE', 'Week_no', 'Lag_1', 'Lag_2', 'Lag_3', 'Moving_Avg_3']]\n",
        "y_train = province_train_df['Count']\n",
        "X_val = province_val_df[['Year', 'PROVINCE', 'Week_no', 'Lag_1', 'Lag_2', 'Lag_3', 'Moving_Avg_3']]\n",
        "y_val = province_val_df['Count']\n",
        "train_data = X_train.copy()\n",
        "train_data['Count'] = y_train\n",
        "val_data = X_val.copy()\n",
        "val_data['Count'] = y_val\n",
        "Phetchabun = TabularPredictor(label='Count', problem_type='regression', eval_metric='rmse').fit(train_data)\n",
        "leaderboard = Phetchabun.leaderboard(val_data, extra_metrics=['rmse'])\n",
        "y_pred = Phetchabun.predict(X_val)\n",
        "rmse_value = rmse(y_val, y_pred)\n",
        "pplot(pd.concat([province_train_df,province_val_df]),province)\n",
        "print(f\"\\nRMSE: {rmse_value}\")\n",
        "pvrecord[province] = rmse_value\n",
        "leaderboard"
      ]
    },
    {
      "cell_type": "markdown",
      "metadata": {
        "id": "eg51gTA_raDK"
      },
      "source": [
        "<br>\n",
        "\n",
        "## Ratchaburi"
      ]
    },
    {
      "cell_type": "code",
      "execution_count": null,
      "metadata": {
        "id": "UmHUYK0JrZ83"
      },
      "outputs": [],
      "source": [
        "province = \"Ratchaburi\"\n",
        "province_df = train_df[train_df['PROVINCE']==province]\n",
        "years = [2013,2014,2015,2016,2017,2018,2019,2020] #* select year that is outliner\n",
        "province_train_df = province_df[province_df['Year'].isin(years[:-1])].copy()\n",
        "province_val_df = province_df[province_df['Year'].isin([years[-1]])].copy()\n",
        "for lag in range(1, 4):\n",
        "    province_train_df.loc[:, f'Lag_{lag}'] = province_train_df['Count'].shift(lag)\n",
        "    province_val_df.loc[:, f'Lag_{lag}'] = province_val_df['Count'].shift(lag)\n",
        "province_train_df.loc[:, 'Moving_Avg_3'] = province_train_df['Count'].rolling(window=3).mean()\n",
        "province_val_df.loc[:, 'Moving_Avg_3'] = province_val_df['Count'].rolling(window=3).mean()\n",
        "province_train_df.fillna(0, inplace=True)\n",
        "province_val_df.fillna(0, inplace=True)\n",
        "X_train = province_train_df[['Year', 'PROVINCE', 'Week_no', 'Lag_1', 'Lag_2', 'Lag_3', 'Moving_Avg_3']]\n",
        "y_train = province_train_df['Count']\n",
        "X_val = province_val_df[['Year', 'PROVINCE', 'Week_no', 'Lag_1', 'Lag_2', 'Lag_3', 'Moving_Avg_3']]\n",
        "y_val = province_val_df['Count']\n",
        "train_data = X_train.copy()\n",
        "train_data['Count'] = y_train\n",
        "val_data = X_val.copy()\n",
        "val_data['Count'] = y_val\n",
        "Ratchaburi = TabularPredictor(label='Count', problem_type='regression', eval_metric='rmse').fit(train_data)\n",
        "leaderboard = Ratchaburi.leaderboard(val_data, extra_metrics=['rmse'])\n",
        "y_pred = Ratchaburi.predict(X_val)\n",
        "rmse_value = rmse(y_val, y_pred)\n",
        "pplot(pd.concat([province_train_df,province_val_df]),province)\n",
        "print(f\"\\nRMSE: {rmse_value}\")\n",
        "pvrecord[province] = rmse_value\n",
        "leaderboard"
      ]
    },
    {
      "cell_type": "markdown",
      "metadata": {
        "id": "smhcDrYsrZ25"
      },
      "source": [
        "<br>\n",
        "\n",
        "## Kanchanaburi"
      ]
    },
    {
      "cell_type": "code",
      "execution_count": null,
      "metadata": {
        "id": "EFiUNTiCrZwG"
      },
      "outputs": [],
      "source": [
        "province = \"Kanchanaburi\"\n",
        "province_df = train_df[train_df['PROVINCE']==province]\n",
        "years = [2013,2014,2015,2016,2017,2018,2019,2020] #* select year that is outliner\n",
        "province_train_df = province_df[province_df['Year'].isin(years[:-1])].copy()\n",
        "province_val_df = province_df[province_df['Year'].isin([years[-1]])].copy()\n",
        "for lag in range(1, 4):\n",
        "    province_train_df.loc[:, f'Lag_{lag}'] = province_train_df['Count'].shift(lag)\n",
        "    province_val_df.loc[:, f'Lag_{lag}'] = province_val_df['Count'].shift(lag)\n",
        "province_train_df.loc[:, 'Moving_Avg_3'] = province_train_df['Count'].rolling(window=3).mean()\n",
        "province_val_df.loc[:, 'Moving_Avg_3'] = province_val_df['Count'].rolling(window=3).mean()\n",
        "province_train_df.fillna(0, inplace=True)\n",
        "province_val_df.fillna(0, inplace=True)\n",
        "X_train = province_train_df[['Year', 'PROVINCE', 'Week_no', 'Lag_1', 'Lag_2', 'Lag_3', 'Moving_Avg_3']]\n",
        "y_train = province_train_df['Count']\n",
        "X_val = province_val_df[['Year', 'PROVINCE', 'Week_no', 'Lag_1', 'Lag_2', 'Lag_3', 'Moving_Avg_3']]\n",
        "y_val = province_val_df['Count']\n",
        "train_data = X_train.copy()\n",
        "train_data['Count'] = y_train\n",
        "val_data = X_val.copy()\n",
        "val_data['Count'] = y_val\n",
        "Kanchanaburi = TabularPredictor(label='Count', problem_type='regression', eval_metric='rmse').fit(train_data)\n",
        "leaderboard = Kanchanaburi.leaderboard(val_data, extra_metrics=['rmse'])\n",
        "y_pred = Kanchanaburi.predict(X_val)\n",
        "rmse_value = rmse(y_val, y_pred)\n",
        "pplot(pd.concat([province_train_df,province_val_df]),province)\n",
        "print(f\"\\nRMSE: {rmse_value}\")\n",
        "pvrecord[province] = rmse_value\n",
        "leaderboard"
      ]
    },
    {
      "cell_type": "markdown",
      "metadata": {
        "id": "e1rbwNkdrZo3"
      },
      "source": [
        "<br>\n",
        "\n",
        "## Suphan Buri"
      ]
    },
    {
      "cell_type": "code",
      "execution_count": null,
      "metadata": {
        "id": "zvmR0HwCrZhC"
      },
      "outputs": [],
      "source": [
        "province = \"Suphan Buri\"\n",
        "province_df = train_df[train_df['PROVINCE']==province]\n",
        "years = [2013,2014,2015,2016,2017,2018,2019,2020] #* select year that is outliner\n",
        "province_train_df = province_df[province_df['Year'].isin(years[:-1])].copy()\n",
        "province_val_df = province_df[province_df['Year'].isin([years[-1]])].copy()\n",
        "for lag in range(1, 4):\n",
        "    province_train_df.loc[:, f'Lag_{lag}'] = province_train_df['Count'].shift(lag)\n",
        "    province_val_df.loc[:, f'Lag_{lag}'] = province_val_df['Count'].shift(lag)\n",
        "province_train_df.loc[:, 'Moving_Avg_3'] = province_train_df['Count'].rolling(window=3).mean()\n",
        "province_val_df.loc[:, 'Moving_Avg_3'] = province_val_df['Count'].rolling(window=3).mean()\n",
        "province_train_df.fillna(0, inplace=True)\n",
        "province_val_df.fillna(0, inplace=True)\n",
        "X_train = province_train_df[['Year', 'PROVINCE', 'Week_no', 'Lag_1', 'Lag_2', 'Lag_3', 'Moving_Avg_3']]\n",
        "y_train = province_train_df['Count']\n",
        "X_val = province_val_df[['Year', 'PROVINCE', 'Week_no', 'Lag_1', 'Lag_2', 'Lag_3', 'Moving_Avg_3']]\n",
        "y_val = province_val_df['Count']\n",
        "train_data = X_train.copy()\n",
        "train_data['Count'] = y_train\n",
        "val_data = X_val.copy()\n",
        "val_data['Count'] = y_val\n",
        "Suphan_Buri = TabularPredictor(label='Count', problem_type='regression', eval_metric='rmse').fit(train_data)\n",
        "leaderboard = Suphan_Buri.leaderboard(val_data, extra_metrics=['rmse'])\n",
        "y_pred = Suphan_Buri.predict(X_val)\n",
        "rmse_value = rmse(y_val, y_pred)\n",
        "pplot(pd.concat([province_train_df,province_val_df]),province)\n",
        "print(f\"\\nRMSE: {rmse_value}\")\n",
        "pvrecord[province] = rmse_value\n",
        "leaderboard"
      ]
    },
    {
      "cell_type": "markdown",
      "metadata": {
        "id": "Van5bDYSrZZc"
      },
      "source": [
        "<br>\n",
        "\n",
        "## Nakhon Pathom"
      ]
    },
    {
      "cell_type": "code",
      "execution_count": null,
      "metadata": {
        "id": "l9Wn4PdIrZQ2"
      },
      "outputs": [],
      "source": [
        "province = \"Nakhon Pathom\"\n",
        "province_df = train_df[train_df['PROVINCE']==province]\n",
        "years = [2013,2014,2015,2016,2017,2018,2019] #* select year that is outliner\n",
        "province_train_df = province_df[province_df['Year'].isin(years[:-1])].copy()\n",
        "province_val_df = province_df[province_df['Year'].isin([years[-1]])].copy()\n",
        "for lag in range(1, 4):\n",
        "    province_train_df.loc[:, f'Lag_{lag}'] = province_train_df['Count'].shift(lag)\n",
        "    province_val_df.loc[:, f'Lag_{lag}'] = province_val_df['Count'].shift(lag)\n",
        "province_train_df.loc[:, 'Moving_Avg_3'] = province_train_df['Count'].rolling(window=3).mean()\n",
        "province_val_df.loc[:, 'Moving_Avg_3'] = province_val_df['Count'].rolling(window=3).mean()\n",
        "province_train_df.fillna(0, inplace=True)\n",
        "province_val_df.fillna(0, inplace=True)\n",
        "X_train = province_train_df[['Year', 'PROVINCE', 'Week_no', 'Lag_1', 'Lag_2', 'Lag_3', 'Moving_Avg_3']]\n",
        "y_train = province_train_df['Count']\n",
        "X_val = province_val_df[['Year', 'PROVINCE', 'Week_no', 'Lag_1', 'Lag_2', 'Lag_3', 'Moving_Avg_3']]\n",
        "y_val = province_val_df['Count']\n",
        "train_data = X_train.copy()\n",
        "train_data['Count'] = y_train\n",
        "val_data = X_val.copy()\n",
        "val_data['Count'] = y_val\n",
        "Nakhon_Pathom = TabularPredictor(label='Count', problem_type='regression', eval_metric='rmse').fit(train_data)\n",
        "leaderboard = Nakhon_Pathom.leaderboard(val_data, extra_metrics=['rmse'])\n",
        "y_pred = Nakhon_Pathom.predict(X_val)\n",
        "rmse_value = rmse(y_val, y_pred)\n",
        "pplot(pd.concat([province_train_df,province_val_df]),province)\n",
        "print(f\"\\nRMSE: {rmse_value}\")\n",
        "pvrecord[province] = rmse_value\n",
        "leaderboard"
      ]
    },
    {
      "cell_type": "markdown",
      "metadata": {
        "id": "g8TAQgmirZIC"
      },
      "source": [
        "<br>\n",
        "\n",
        "## Samut Sakhon"
      ]
    },
    {
      "cell_type": "code",
      "execution_count": null,
      "metadata": {
        "id": "W3TKlxWArZBF"
      },
      "outputs": [],
      "source": [
        "province = \"Samut Sakhon\"\n",
        "province_df = train_df[train_df['PROVINCE']==province]\n",
        "years = [2013,2014,2015,2016,2017,2018,2019,2020] #* select year that is outliner\n",
        "province_train_df = province_df[province_df['Year'].isin(years[:-1])].copy()\n",
        "province_val_df = province_df[province_df['Year'].isin([years[-1]])].copy()\n",
        "for lag in range(1, 4):\n",
        "    province_train_df.loc[:, f'Lag_{lag}'] = province_train_df['Count'].shift(lag)\n",
        "    province_val_df.loc[:, f'Lag_{lag}'] = province_val_df['Count'].shift(lag)\n",
        "province_train_df.loc[:, 'Moving_Avg_3'] = province_train_df['Count'].rolling(window=3).mean()\n",
        "province_val_df.loc[:, 'Moving_Avg_3'] = province_val_df['Count'].rolling(window=3).mean()\n",
        "province_train_df.fillna(0, inplace=True)\n",
        "province_val_df.fillna(0, inplace=True)\n",
        "X_train = province_train_df[['Year', 'PROVINCE', 'Week_no', 'Lag_1', 'Lag_2', 'Lag_3', 'Moving_Avg_3']]\n",
        "y_train = province_train_df['Count']\n",
        "X_val = province_val_df[['Year', 'PROVINCE', 'Week_no', 'Lag_1', 'Lag_2', 'Lag_3', 'Moving_Avg_3']]\n",
        "y_val = province_val_df['Count']\n",
        "train_data = X_train.copy()\n",
        "train_data['Count'] = y_train\n",
        "val_data = X_val.copy()\n",
        "val_data['Count'] = y_val\n",
        "Samut_Sakhon = TabularPredictor(label='Count', problem_type='regression', eval_metric='rmse').fit(train_data)\n",
        "leaderboard = Samut_Sakhon.leaderboard(val_data, extra_metrics=['rmse'])\n",
        "y_pred = Samut_Sakhon.predict(X_val)\n",
        "rmse_value = rmse(y_val, y_pred)\n",
        "pplot(pd.concat([province_train_df,province_val_df]),province)\n",
        "print(f\"\\nRMSE: {rmse_value}\")\n",
        "pvrecord[province] = rmse_value\n",
        "leaderboard"
      ]
    },
    {
      "cell_type": "markdown",
      "metadata": {
        "id": "qzbcOXxutumb"
      },
      "source": [
        "<br>\n",
        "\n",
        "## Samut Songkhram"
      ]
    },
    {
      "cell_type": "code",
      "execution_count": null,
      "metadata": {
        "id": "iPSviHYVtugE"
      },
      "outputs": [],
      "source": [
        "province = \"Samut Songkhram\"\n",
        "province_df = train_df[train_df['PROVINCE']==province]\n",
        "years = [2013,2014,2015,2016,2017,2018,2019,2020] #* select year that is outliner\n",
        "province_train_df = province_df[province_df['Year'].isin(years[:-1])].copy()\n",
        "province_val_df = province_df[province_df['Year'].isin([years[-1]])].copy()\n",
        "for lag in range(1, 4):\n",
        "    province_train_df.loc[:, f'Lag_{lag}'] = province_train_df['Count'].shift(lag)\n",
        "    province_val_df.loc[:, f'Lag_{lag}'] = province_val_df['Count'].shift(lag)\n",
        "province_train_df.loc[:, 'Moving_Avg_3'] = province_train_df['Count'].rolling(window=3).mean()\n",
        "province_val_df.loc[:, 'Moving_Avg_3'] = province_val_df['Count'].rolling(window=3).mean()\n",
        "province_train_df.fillna(0, inplace=True)\n",
        "province_val_df.fillna(0, inplace=True)\n",
        "X_train = province_train_df[['Year', 'PROVINCE', 'Week_no', 'Lag_1', 'Lag_2', 'Lag_3', 'Moving_Avg_3']]\n",
        "y_train = province_train_df['Count']\n",
        "X_val = province_val_df[['Year', 'PROVINCE', 'Week_no', 'Lag_1', 'Lag_2', 'Lag_3', 'Moving_Avg_3']]\n",
        "y_val = province_val_df['Count']\n",
        "train_data = X_train.copy()\n",
        "train_data['Count'] = y_train\n",
        "val_data = X_val.copy()\n",
        "val_data['Count'] = y_val\n",
        "Samut_Songkhram = TabularPredictor(label='Count', problem_type='regression', eval_metric='rmse').fit(train_data)\n",
        "leaderboard = Samut_Songkhram.leaderboard(val_data, extra_metrics=['rmse'])\n",
        "y_pred = Samut_Songkhram.predict(X_val)\n",
        "rmse_value = rmse(y_val, y_pred)\n",
        "pplot(pd.concat([province_train_df,province_val_df]),province)\n",
        "print(f\"\\nRMSE: {rmse_value}\")\n",
        "pvrecord[province] = rmse_value\n",
        "leaderboard"
      ]
    },
    {
      "cell_type": "markdown",
      "metadata": {
        "id": "aOCG1yu_tuTz"
      },
      "source": [
        "<br>\n",
        "\n",
        "## Phetchaburi"
      ]
    },
    {
      "cell_type": "code",
      "execution_count": null,
      "metadata": {
        "id": "hjd5NFBituPf"
      },
      "outputs": [],
      "source": [
        "province = \"Phetchaburi\"\n",
        "province_df = train_df[train_df['PROVINCE']==province]\n",
        "years = [2013,2014,2015,2016,2017,2018,2019,2020] #* select year that is outliner\n",
        "province_train_df = province_df[province_df['Year'].isin(years[:-1])].copy()\n",
        "province_val_df = province_df[province_df['Year'].isin([years[-1]])].copy()\n",
        "for lag in range(1, 4):\n",
        "    province_train_df.loc[:, f'Lag_{lag}'] = province_train_df['Count'].shift(lag)\n",
        "    province_val_df.loc[:, f'Lag_{lag}'] = province_val_df['Count'].shift(lag)\n",
        "province_train_df.loc[:, 'Moving_Avg_3'] = province_train_df['Count'].rolling(window=3).mean()\n",
        "province_val_df.loc[:, 'Moving_Avg_3'] = province_val_df['Count'].rolling(window=3).mean()\n",
        "province_train_df.fillna(0, inplace=True)\n",
        "province_val_df.fillna(0, inplace=True)\n",
        "X_train = province_train_df[['Year', 'PROVINCE', 'Week_no', 'Lag_1', 'Lag_2', 'Lag_3', 'Moving_Avg_3']]\n",
        "y_train = province_train_df['Count']\n",
        "X_val = province_val_df[['Year', 'PROVINCE', 'Week_no', 'Lag_1', 'Lag_2', 'Lag_3', 'Moving_Avg_3']]\n",
        "y_val = province_val_df['Count']\n",
        "train_data = X_train.copy()\n",
        "train_data['Count'] = y_train\n",
        "val_data = X_val.copy()\n",
        "val_data['Count'] = y_val\n",
        "Phetchaburi = TabularPredictor(label='Count', problem_type='regression', eval_metric='rmse').fit(train_data)\n",
        "leaderboard = Phetchaburi.leaderboard(val_data, extra_metrics=['rmse'])\n",
        "y_pred = Phetchaburi.predict(X_val)\n",
        "rmse_value = rmse(y_val, y_pred)\n",
        "pplot(pd.concat([province_train_df,province_val_df]),province)\n",
        "print(f\"\\nRMSE: {rmse_value}\")\n",
        "pvrecord[province] = rmse_value\n",
        "leaderboard"
      ]
    },
    {
      "cell_type": "markdown",
      "metadata": {
        "id": "bDY6WjBQtuHg"
      },
      "source": [
        "<br>\n",
        "\n",
        "## Prachuap Khiri Khan"
      ]
    },
    {
      "cell_type": "code",
      "execution_count": null,
      "metadata": {
        "id": "0VkF635HtuAr"
      },
      "outputs": [],
      "source": [
        "province = \"Prachuap Khiri Khan\"\n",
        "province_df = train_df[train_df['PROVINCE']==province]\n",
        "years = [2013,2015,2016,2017,2018,2019,2020] #* select year that is outliner\n",
        "province_train_df = province_df[province_df['Year'].isin(years[:-1])].copy()\n",
        "province_val_df = province_df[province_df['Year'].isin([years[-1]])].copy()\n",
        "for lag in range(1, 4):\n",
        "    province_train_df.loc[:, f'Lag_{lag}'] = province_train_df['Count'].shift(lag)\n",
        "    province_val_df.loc[:, f'Lag_{lag}'] = province_val_df['Count'].shift(lag)\n",
        "province_train_df.loc[:, 'Moving_Avg_3'] = province_train_df['Count'].rolling(window=3).mean()\n",
        "province_val_df.loc[:, 'Moving_Avg_3'] = province_val_df['Count'].rolling(window=3).mean()\n",
        "province_train_df.fillna(0, inplace=True)\n",
        "province_val_df.fillna(0, inplace=True)\n",
        "X_train = province_train_df[['Year', 'PROVINCE', 'Week_no', 'Lag_1', 'Lag_2', 'Lag_3', 'Moving_Avg_3']]\n",
        "y_train = province_train_df['Count']\n",
        "X_val = province_val_df[['Year', 'PROVINCE', 'Week_no', 'Lag_1', 'Lag_2', 'Lag_3', 'Moving_Avg_3']]\n",
        "y_val = province_val_df['Count']\n",
        "train_data = X_train.copy()\n",
        "train_data['Count'] = y_train\n",
        "val_data = X_val.copy()\n",
        "val_data['Count'] = y_val\n",
        "Prachuap_Khiri_Khan = TabularPredictor(label='Count', problem_type='regression', eval_metric='rmse').fit(train_data)\n",
        "leaderboard = Prachuap_Khiri_Khan.leaderboard(val_data, extra_metrics=['rmse'])\n",
        "y_pred = Prachuap_Khiri_Khan.predict(X_val)\n",
        "rmse_value = rmse(y_val, y_pred)\n",
        "pplot(pd.concat([province_train_df,province_val_df]),province)\n",
        "print(f\"\\nRMSE: {rmse_value}\")\n",
        "pvrecord[province] = rmse_value\n",
        "leaderboard"
      ]
    },
    {
      "cell_type": "markdown",
      "metadata": {
        "id": "OrrDodMUtt6M"
      },
      "source": [
        "<br>\n",
        "\n",
        "## Nakhon Si Thammarat"
      ]
    },
    {
      "cell_type": "code",
      "execution_count": null,
      "metadata": {
        "id": "RhNdo39Vtty4"
      },
      "outputs": [],
      "source": [
        "province = \"Nakhon Si Thammarat\"\n",
        "province_df = train_df[train_df['PROVINCE']==province]\n",
        "years = [2013,2014,2015,2016,2017,2018,2019] #* select year that is outliner\n",
        "province_train_df = province_df[province_df['Year'].isin(years[:-1])].copy()\n",
        "province_val_df = province_df[province_df['Year'].isin([years[-1]])].copy()\n",
        "for lag in range(1, 4):\n",
        "    province_train_df.loc[:, f'Lag_{lag}'] = province_train_df['Count'].shift(lag)\n",
        "    province_val_df.loc[:, f'Lag_{lag}'] = province_val_df['Count'].shift(lag)\n",
        "province_train_df.loc[:, 'Moving_Avg_3'] = province_train_df['Count'].rolling(window=3).mean()\n",
        "province_val_df.loc[:, 'Moving_Avg_3'] = province_val_df['Count'].rolling(window=3).mean()\n",
        "province_train_df.fillna(0, inplace=True)\n",
        "province_val_df.fillna(0, inplace=True)\n",
        "X_train = province_train_df[['Year', 'PROVINCE', 'Week_no', 'Lag_1', 'Lag_2', 'Lag_3', 'Moving_Avg_3']]\n",
        "y_train = province_train_df['Count']\n",
        "X_val = province_val_df[['Year', 'PROVINCE', 'Week_no', 'Lag_1', 'Lag_2', 'Lag_3', 'Moving_Avg_3']]\n",
        "y_val = province_val_df['Count']\n",
        "train_data = X_train.copy()\n",
        "train_data['Count'] = y_train\n",
        "val_data = X_val.copy()\n",
        "val_data['Count'] = y_val\n",
        "Nakhon_Si_Thammarat = TabularPredictor(label='Count', problem_type='regression', eval_metric='rmse').fit(train_data)\n",
        "leaderboard = Nakhon_Si_Thammarat.leaderboard(val_data, extra_metrics=['rmse'])\n",
        "y_pred = Nakhon_Si_Thammarat.predict(X_val)\n",
        "rmse_value = rmse(y_val, y_pred)\n",
        "pplot(pd.concat([province_train_df,province_val_df]),province)\n",
        "print(f\"\\nRMSE: {rmse_value}\")\n",
        "pvrecord[province] = rmse_value\n",
        "leaderboard"
      ]
    },
    {
      "cell_type": "markdown",
      "metadata": {
        "id": "jtjZ49T9ttsW"
      },
      "source": [
        "<br>\n",
        "\n",
        "## Krabi"
      ]
    },
    {
      "cell_type": "code",
      "execution_count": null,
      "metadata": {
        "id": "d5o2tlzMttm-"
      },
      "outputs": [],
      "source": [
        "province = \"Krabi\"\n",
        "province_df = train_df[train_df['PROVINCE']==province]\n",
        "years = [2013,2014,2015,2016,2017,2018,2019] #* select year that is outliner\n",
        "province_train_df = province_df[province_df['Year'].isin(years[:-1])].copy()\n",
        "province_val_df = province_df[province_df['Year'].isin([years[-1]])].copy()\n",
        "for lag in range(1, 4):\n",
        "    province_train_df.loc[:, f'Lag_{lag}'] = province_train_df['Count'].shift(lag)\n",
        "    province_val_df.loc[:, f'Lag_{lag}'] = province_val_df['Count'].shift(lag)\n",
        "province_train_df.loc[:, 'Moving_Avg_3'] = province_train_df['Count'].rolling(window=3).mean()\n",
        "province_val_df.loc[:, 'Moving_Avg_3'] = province_val_df['Count'].rolling(window=3).mean()\n",
        "province_train_df.fillna(0, inplace=True)\n",
        "province_val_df.fillna(0, inplace=True)\n",
        "X_train = province_train_df[['Year', 'PROVINCE', 'Week_no', 'Lag_1', 'Lag_2', 'Lag_3', 'Moving_Avg_3']]\n",
        "y_train = province_train_df['Count']\n",
        "X_val = province_val_df[['Year', 'PROVINCE', 'Week_no', 'Lag_1', 'Lag_2', 'Lag_3', 'Moving_Avg_3']]\n",
        "y_val = province_val_df['Count']\n",
        "train_data = X_train.copy()\n",
        "train_data['Count'] = y_train\n",
        "val_data = X_val.copy()\n",
        "val_data['Count'] = y_val\n",
        "Krabi = TabularPredictor(label='Count', problem_type='regression', eval_metric='rmse').fit(train_data)\n",
        "leaderboard = Krabi.leaderboard(val_data, extra_metrics=['rmse'])\n",
        "y_pred = Krabi.predict(X_val)\n",
        "rmse_value = rmse(y_val, y_pred)\n",
        "pplot(pd.concat([province_train_df,province_val_df]),province)\n",
        "print(f\"\\nRMSE: {rmse_value}\")\n",
        "pvrecord[province] = rmse_value\n",
        "leaderboard"
      ]
    },
    {
      "cell_type": "markdown",
      "metadata": {
        "id": "8rkkMZLJtthb"
      },
      "source": [
        "<br>\n",
        "\n",
        "## Phang Nga"
      ]
    },
    {
      "cell_type": "code",
      "execution_count": null,
      "metadata": {
        "id": "jbuCO5LbttcT"
      },
      "outputs": [],
      "source": [
        "province = \"Phang Nga\"\n",
        "province_df = train_df[train_df['PROVINCE']==province]\n",
        "years = [2013,2014,2015,2016,2017,2018,2019,2020] #* select year that is outliner\n",
        "province_train_df = province_df[province_df['Year'].isin(years[:-1])].copy()\n",
        "province_val_df = province_df[province_df['Year'].isin([years[-1]])].copy()\n",
        "for lag in range(1, 4):\n",
        "    province_train_df.loc[:, f'Lag_{lag}'] = province_train_df['Count'].shift(lag)\n",
        "    province_val_df.loc[:, f'Lag_{lag}'] = province_val_df['Count'].shift(lag)\n",
        "province_train_df.loc[:, 'Moving_Avg_3'] = province_train_df['Count'].rolling(window=3).mean()\n",
        "province_val_df.loc[:, 'Moving_Avg_3'] = province_val_df['Count'].rolling(window=3).mean()\n",
        "province_train_df.fillna(0, inplace=True)\n",
        "province_val_df.fillna(0, inplace=True)\n",
        "X_train = province_train_df[['Year', 'PROVINCE', 'Week_no', 'Lag_1', 'Lag_2', 'Lag_3', 'Moving_Avg_3']]\n",
        "y_train = province_train_df['Count']\n",
        "X_val = province_val_df[['Year', 'PROVINCE', 'Week_no', 'Lag_1', 'Lag_2', 'Lag_3', 'Moving_Avg_3']]\n",
        "y_val = province_val_df['Count']\n",
        "train_data = X_train.copy()\n",
        "train_data['Count'] = y_train\n",
        "val_data = X_val.copy()\n",
        "val_data['Count'] = y_val\n",
        "Phang_Nga = TabularPredictor(label='Count', problem_type='regression', eval_metric='rmse').fit(train_data)\n",
        "leaderboard = Phang_Nga.leaderboard(val_data, extra_metrics=['rmse'])\n",
        "y_pred = Phang_Nga.predict(X_val)\n",
        "rmse_value = rmse(y_val, y_pred)\n",
        "pplot(pd.concat([province_train_df,province_val_df]),province)\n",
        "print(f\"\\nRMSE: {rmse_value}\")\n",
        "pvrecord[province] = rmse_value\n",
        "leaderboard"
      ]
    },
    {
      "cell_type": "markdown",
      "metadata": {
        "id": "vuPWHNhCttWl"
      },
      "source": [
        "<br>\n",
        "\n",
        "## Phuket"
      ]
    },
    {
      "cell_type": "code",
      "execution_count": null,
      "metadata": {
        "id": "tuc9oGeittRi"
      },
      "outputs": [],
      "source": [
        "province = \"Phuket\"\n",
        "province_df = train_df[train_df['PROVINCE']==province]\n",
        "years = [2013,2014,2015,2016,2017,2018,2019,2020] #* select year that is outliner\n",
        "province_train_df = province_df[province_df['Year'].isin(years[:-1])].copy()\n",
        "province_val_df = province_df[province_df['Year'].isin([years[-1]])].copy()\n",
        "for lag in range(1, 4):\n",
        "    province_train_df.loc[:, f'Lag_{lag}'] = province_train_df['Count'].shift(lag)\n",
        "    province_val_df.loc[:, f'Lag_{lag}'] = province_val_df['Count'].shift(lag)\n",
        "province_train_df.loc[:, 'Moving_Avg_3'] = province_train_df['Count'].rolling(window=3).mean()\n",
        "province_val_df.loc[:, 'Moving_Avg_3'] = province_val_df['Count'].rolling(window=3).mean()\n",
        "province_train_df.fillna(0, inplace=True)\n",
        "province_val_df.fillna(0, inplace=True)\n",
        "X_train = province_train_df[['Year', 'PROVINCE', 'Week_no', 'Lag_1', 'Lag_2', 'Lag_3', 'Moving_Avg_3']]\n",
        "y_train = province_train_df['Count']\n",
        "X_val = province_val_df[['Year', 'PROVINCE', 'Week_no', 'Lag_1', 'Lag_2', 'Lag_3', 'Moving_Avg_3']]\n",
        "y_val = province_val_df['Count']\n",
        "train_data = X_train.copy()\n",
        "train_data['Count'] = y_train\n",
        "val_data = X_val.copy()\n",
        "val_data['Count'] = y_val\n",
        "Phuket = TabularPredictor(label='Count', problem_type='regression', eval_metric='rmse').fit(train_data)\n",
        "leaderboard = Phuket.leaderboard(val_data, extra_metrics=['rmse'])\n",
        "y_pred = Phuket.predict(X_val)\n",
        "rmse_value = rmse(y_val, y_pred)\n",
        "pplot(pd.concat([province_train_df,province_val_df]),province)\n",
        "print(f\"\\nRMSE: {rmse_value}\")\n",
        "pvrecord[province] = rmse_value\n",
        "leaderboard"
      ]
    },
    {
      "cell_type": "markdown",
      "metadata": {
        "id": "72RtnqeottLG"
      },
      "source": [
        "<br>\n",
        "\n",
        "## Surat Thani"
      ]
    },
    {
      "cell_type": "code",
      "execution_count": null,
      "metadata": {
        "id": "Fim6bLFwttEo"
      },
      "outputs": [],
      "source": [
        "province = \"Surat Thani\"\n",
        "province_df = train_df[train_df['PROVINCE']==province]\n",
        "years = [2013,2014,2015,2016,2018,2019] #* select year that is outliner\n",
        "province_train_df = province_df[province_df['Year'].isin(years[:-1])].copy()\n",
        "province_val_df = province_df[province_df['Year'].isin([years[-1]])].copy()\n",
        "for lag in range(1, 4):\n",
        "    province_train_df.loc[:, f'Lag_{lag}'] = province_train_df['Count'].shift(lag)\n",
        "    province_val_df.loc[:, f'Lag_{lag}'] = province_val_df['Count'].shift(lag)\n",
        "province_train_df.loc[:, 'Moving_Avg_3'] = province_train_df['Count'].rolling(window=3).mean()\n",
        "province_val_df.loc[:, 'Moving_Avg_3'] = province_val_df['Count'].rolling(window=3).mean()\n",
        "province_train_df.fillna(0, inplace=True)\n",
        "province_val_df.fillna(0, inplace=True)\n",
        "X_train = province_train_df[['Year', 'PROVINCE', 'Week_no', 'Lag_1', 'Lag_2', 'Lag_3', 'Moving_Avg_3']]\n",
        "y_train = province_train_df['Count']\n",
        "X_val = province_val_df[['Year', 'PROVINCE', 'Week_no', 'Lag_1', 'Lag_2', 'Lag_3', 'Moving_Avg_3']]\n",
        "y_val = province_val_df['Count']\n",
        "train_data = X_train.copy()\n",
        "train_data['Count'] = y_train\n",
        "val_data = X_val.copy()\n",
        "val_data['Count'] = y_val\n",
        "Surat_Thani = TabularPredictor(label='Count', problem_type='regression', eval_metric='rmse').fit(train_data)\n",
        "leaderboard = Surat_Thani.leaderboard(val_data, extra_metrics=['rmse'])\n",
        "y_pred = Surat_Thani.predict(X_val)\n",
        "rmse_value = rmse(y_val, y_pred)\n",
        "pplot(pd.concat([province_train_df,province_val_df]),province)\n",
        "print(f\"\\nRMSE: {rmse_value}\")\n",
        "pvrecord[province] = rmse_value\n",
        "leaderboard"
      ]
    },
    {
      "cell_type": "markdown",
      "metadata": {
        "id": "w89IheDOts7_"
      },
      "source": [
        "<br>\n",
        "\n",
        "## Ranong"
      ]
    },
    {
      "cell_type": "code",
      "execution_count": null,
      "metadata": {
        "id": "MLLUw-ekts0j"
      },
      "outputs": [],
      "source": [
        "province = \"Ranong\"\n",
        "province_df = train_df[train_df['PROVINCE']==province]\n",
        "years = [2013,2014,2015,2016,2017,2018,2019,2020] #* select year that is outliner\n",
        "province_train_df = province_df[province_df['Year'].isin(years[:-1])].copy()\n",
        "province_val_df = province_df[province_df['Year'].isin([years[-1]])].copy()\n",
        "for lag in range(1, 4):\n",
        "    province_train_df.loc[:, f'Lag_{lag}'] = province_train_df['Count'].shift(lag)\n",
        "    province_val_df.loc[:, f'Lag_{lag}'] = province_val_df['Count'].shift(lag)\n",
        "province_train_df.loc[:, 'Moving_Avg_3'] = province_train_df['Count'].rolling(window=3).mean()\n",
        "province_val_df.loc[:, 'Moving_Avg_3'] = province_val_df['Count'].rolling(window=3).mean()\n",
        "province_train_df.fillna(0, inplace=True)\n",
        "province_val_df.fillna(0, inplace=True)\n",
        "X_train = province_train_df[['Year', 'PROVINCE', 'Week_no', 'Lag_1', 'Lag_2', 'Lag_3', 'Moving_Avg_3']]\n",
        "y_train = province_train_df['Count']\n",
        "X_val = province_val_df[['Year', 'PROVINCE', 'Week_no', 'Lag_1', 'Lag_2', 'Lag_3', 'Moving_Avg_3']]\n",
        "y_val = province_val_df['Count']\n",
        "train_data = X_train.copy()\n",
        "train_data['Count'] = y_train\n",
        "val_data = X_val.copy()\n",
        "val_data['Count'] = y_val\n",
        "Ranong = TabularPredictor(label='Count', problem_type='regression', eval_metric='rmse').fit(train_data)\n",
        "leaderboard = Ranong.leaderboard(val_data, extra_metrics=['rmse'])\n",
        "y_pred = Ranong.predict(X_val)\n",
        "rmse_value = rmse(y_val, y_pred)\n",
        "pplot(pd.concat([province_train_df,province_val_df]),province)\n",
        "print(f\"\\nRMSE: {rmse_value}\")\n",
        "pvrecord[province] = rmse_value\n",
        "leaderboard"
      ]
    },
    {
      "cell_type": "markdown",
      "metadata": {
        "id": "CNmbzXUctstA"
      },
      "source": [
        "<br>\n",
        "\n",
        "## Chumphon"
      ]
    },
    {
      "cell_type": "code",
      "execution_count": null,
      "metadata": {
        "id": "bGHgFbettslR"
      },
      "outputs": [],
      "source": [
        "province = \"Chumphon\"\n",
        "province_df = train_df[train_df['PROVINCE']==province]\n",
        "years = [2013,2014,2015,2016,2017,2018,2019] #* select year that is outliner\n",
        "province_train_df = province_df[province_df['Year'].isin(years[:-1])].copy()\n",
        "province_val_df = province_df[province_df['Year'].isin([years[-1]])].copy()\n",
        "for lag in range(1, 4):\n",
        "    province_train_df.loc[:, f'Lag_{lag}'] = province_train_df['Count'].shift(lag)\n",
        "    province_val_df.loc[:, f'Lag_{lag}'] = province_val_df['Count'].shift(lag)\n",
        "province_train_df.loc[:, 'Moving_Avg_3'] = province_train_df['Count'].rolling(window=3).mean()\n",
        "province_val_df.loc[:, 'Moving_Avg_3'] = province_val_df['Count'].rolling(window=3).mean()\n",
        "province_train_df.fillna(0, inplace=True)\n",
        "province_val_df.fillna(0, inplace=True)\n",
        "X_train = province_train_df[['Year', 'PROVINCE', 'Week_no', 'Lag_1', 'Lag_2', 'Lag_3', 'Moving_Avg_3']]\n",
        "y_train = province_train_df['Count']\n",
        "X_val = province_val_df[['Year', 'PROVINCE', 'Week_no', 'Lag_1', 'Lag_2', 'Lag_3', 'Moving_Avg_3']]\n",
        "y_val = province_val_df['Count']\n",
        "train_data = X_train.copy()\n",
        "train_data['Count'] = y_train\n",
        "val_data = X_val.copy()\n",
        "val_data['Count'] = y_val\n",
        "Chumphon = TabularPredictor(label='Count', problem_type='regression', eval_metric='rmse').fit(train_data)\n",
        "leaderboard = Chumphon.leaderboard(val_data, extra_metrics=['rmse'])\n",
        "y_pred = Chumphon.predict(X_val)\n",
        "rmse_value = rmse(y_val, y_pred)\n",
        "pplot(pd.concat([province_train_df,province_val_df]),province)\n",
        "print(f\"\\nRMSE: {rmse_value}\")\n",
        "pvrecord[province] = rmse_value\n",
        "leaderboard"
      ]
    },
    {
      "cell_type": "markdown",
      "metadata": {
        "id": "KbNj23rhtsfO"
      },
      "source": [
        "<br>\n",
        "\n",
        "## Songkhla"
      ]
    },
    {
      "cell_type": "code",
      "execution_count": null,
      "metadata": {
        "id": "CAOk6GxftsW7"
      },
      "outputs": [],
      "source": [
        "province = \"Songkhla\"\n",
        "province_df = train_df[train_df['PROVINCE']==province]\n",
        "years = [2013,2014,2015,2016,2017,2018,2019] #* select year that is outliner\n",
        "province_train_df = province_df[province_df['Year'].isin(years[:-1])].copy()\n",
        "province_val_df = province_df[province_df['Year'].isin([years[-1]])].copy()\n",
        "for lag in range(1, 4):\n",
        "    province_train_df.loc[:, f'Lag_{lag}'] = province_train_df['Count'].shift(lag)\n",
        "    province_val_df.loc[:, f'Lag_{lag}'] = province_val_df['Count'].shift(lag)\n",
        "province_train_df.loc[:, 'Moving_Avg_3'] = province_train_df['Count'].rolling(window=3).mean()\n",
        "province_val_df.loc[:, 'Moving_Avg_3'] = province_val_df['Count'].rolling(window=3).mean()\n",
        "province_train_df.fillna(0, inplace=True)\n",
        "province_val_df.fillna(0, inplace=True)\n",
        "X_train = province_train_df[['Year', 'PROVINCE', 'Week_no', 'Lag_1', 'Lag_2', 'Lag_3', 'Moving_Avg_3']]\n",
        "y_train = province_train_df['Count']\n",
        "X_val = province_val_df[['Year', 'PROVINCE', 'Week_no', 'Lag_1', 'Lag_2', 'Lag_3', 'Moving_Avg_3']]\n",
        "y_val = province_val_df['Count']\n",
        "train_data = X_train.copy()\n",
        "train_data['Count'] = y_train\n",
        "val_data = X_val.copy()\n",
        "val_data['Count'] = y_val\n",
        "Songkhla = TabularPredictor(label='Count', problem_type='regression', eval_metric='rmse').fit(train_data)\n",
        "leaderboard = Songkhla.leaderboard(val_data, extra_metrics=['rmse'])\n",
        "y_pred = Songkhla.predict(X_val)\n",
        "rmse_value = rmse(y_val, y_pred)\n",
        "pplot(pd.concat([province_train_df,province_val_df]),province)\n",
        "print(f\"\\nRMSE: {rmse_value}\")\n",
        "pvrecord[province] = rmse_value\n",
        "leaderboard"
      ]
    },
    {
      "cell_type": "markdown",
      "metadata": {
        "id": "VmjGQPNnvEah"
      },
      "source": [
        "<br>\n",
        "\n",
        "## Satun"
      ]
    },
    {
      "cell_type": "code",
      "execution_count": null,
      "metadata": {
        "id": "MlAgSgY2vEU3"
      },
      "outputs": [],
      "source": [
        "province = \"Satun\"\n",
        "province_df = train_df[train_df['PROVINCE']==province]\n",
        "years = [2013,2014,2015,2016,2017,2018,2019,2020] #* select year that is outliner\n",
        "province_train_df = province_df[province_df['Year'].isin(years[:-1])].copy()\n",
        "province_val_df = province_df[province_df['Year'].isin([years[-1]])].copy()\n",
        "for lag in range(1, 4):\n",
        "    province_train_df.loc[:, f'Lag_{lag}'] = province_train_df['Count'].shift(lag)\n",
        "    province_val_df.loc[:, f'Lag_{lag}'] = province_val_df['Count'].shift(lag)\n",
        "province_train_df.loc[:, 'Moving_Avg_3'] = province_train_df['Count'].rolling(window=3).mean()\n",
        "province_val_df.loc[:, 'Moving_Avg_3'] = province_val_df['Count'].rolling(window=3).mean()\n",
        "province_train_df.fillna(0, inplace=True)\n",
        "province_val_df.fillna(0, inplace=True)\n",
        "X_train = province_train_df[['Year', 'PROVINCE', 'Week_no', 'Lag_1', 'Lag_2', 'Lag_3', 'Moving_Avg_3']]\n",
        "y_train = province_train_df['Count']\n",
        "X_val = province_val_df[['Year', 'PROVINCE', 'Week_no', 'Lag_1', 'Lag_2', 'Lag_3', 'Moving_Avg_3']]\n",
        "y_val = province_val_df['Count']\n",
        "train_data = X_train.copy()\n",
        "train_data['Count'] = y_train\n",
        "val_data = X_val.copy()\n",
        "val_data['Count'] = y_val\n",
        "Satun = TabularPredictor(label='Count', problem_type='regression', eval_metric='rmse').fit(train_data)\n",
        "leaderboard = Satun.leaderboard(val_data, extra_metrics=['rmse'])\n",
        "y_pred = Satun.predict(X_val)\n",
        "rmse_value = rmse(y_val, y_pred)\n",
        "pplot(pd.concat([province_train_df,province_val_df]),province)\n",
        "print(f\"\\nRMSE: {rmse_value}\")\n",
        "pvrecord[province] = rmse_value\n",
        "leaderboard"
      ]
    },
    {
      "cell_type": "markdown",
      "metadata": {
        "id": "2z4D9trovEM6"
      },
      "source": [
        "<br>\n",
        "\n",
        "## Trang"
      ]
    },
    {
      "cell_type": "code",
      "execution_count": null,
      "metadata": {
        "id": "ycqLdUQTvEG1"
      },
      "outputs": [],
      "source": [
        "province = \"Trang\"\n",
        "province_df = train_df[train_df['PROVINCE']==province]\n",
        "years = [2013,2014,2015,2016,2017,2018,2019,2020] #* select year that is outliner\n",
        "[years[-1]]    = [2020]\n",
        "province_train_df = province_df[province_df['Year'].isin(years[:-1])].copy()\n",
        "province_val_df = province_df[province_df['Year'].isin([years[-1]])].copy()\n",
        "for lag in range(1, 4):\n",
        "    province_train_df.loc[:, f'Lag_{lag}'] = province_train_df['Count'].shift(lag)\n",
        "    province_val_df.loc[:, f'Lag_{lag}'] = province_val_df['Count'].shift(lag)\n",
        "province_train_df.loc[:, 'Moving_Avg_3'] = province_train_df['Count'].rolling(window=3).mean()\n",
        "province_val_df.loc[:, 'Moving_Avg_3'] = province_val_df['Count'].rolling(window=3).mean()\n",
        "province_train_df.fillna(0, inplace=True)\n",
        "province_val_df.fillna(0, inplace=True)\n",
        "X_train = province_train_df[['Year', 'PROVINCE', 'Week_no', 'Lag_1', 'Lag_2', 'Lag_3', 'Moving_Avg_3']]\n",
        "y_train = province_train_df['Count']\n",
        "X_val = province_val_df[['Year', 'PROVINCE', 'Week_no', 'Lag_1', 'Lag_2', 'Lag_3', 'Moving_Avg_3']]\n",
        "y_val = province_val_df['Count']\n",
        "train_data = X_train.copy()\n",
        "train_data['Count'] = y_train\n",
        "val_data = X_val.copy()\n",
        "val_data['Count'] = y_val\n",
        "Trang = TabularPredictor(label='Count', problem_type='regression', eval_metric='rmse').fit(train_data)\n",
        "leaderboard = Trang.leaderboard(val_data, extra_metrics=['rmse'])\n",
        "y_pred = Trang.predict(X_val)\n",
        "rmse_value = rmse(y_val, y_pred)\n",
        "pplot(pd.concat([province_train_df,province_val_df]),province)\n",
        "print(f\"\\nRMSE: {rmse_value}\")\n",
        "pvrecord[province] = rmse_value\n",
        "leaderboard"
      ]
    },
    {
      "cell_type": "markdown",
      "metadata": {
        "id": "pb1c2cVfvD_2"
      },
      "source": [
        "<br>\n",
        "\n",
        "## Phatthalung"
      ]
    },
    {
      "cell_type": "code",
      "execution_count": null,
      "metadata": {
        "id": "5Ecs5mPlvD3X"
      },
      "outputs": [],
      "source": [
        "province = \"Phatthalung\"\n",
        "province_df = train_df[train_df['PROVINCE']==province]\n",
        "years = [2013,2014,2015,2016,2017,2018,2019] #* select year that is outliner\n",
        "province_train_df = province_df[province_df['Year'].isin(years[:-1])].copy()\n",
        "province_val_df = province_df[province_df['Year'].isin([years[-1]])].copy()\n",
        "for lag in range(1, 4):\n",
        "    province_train_df.loc[:, f'Lag_{lag}'] = province_train_df['Count'].shift(lag)\n",
        "    province_val_df.loc[:, f'Lag_{lag}'] = province_val_df['Count'].shift(lag)\n",
        "province_train_df.loc[:, 'Moving_Avg_3'] = province_train_df['Count'].rolling(window=3).mean()\n",
        "province_val_df.loc[:, 'Moving_Avg_3'] = province_val_df['Count'].rolling(window=3).mean()\n",
        "province_train_df.fillna(0, inplace=True)\n",
        "province_val_df.fillna(0, inplace=True)\n",
        "X_train = province_train_df[['Year', 'PROVINCE', 'Week_no', 'Lag_1', 'Lag_2', 'Lag_3', 'Moving_Avg_3']]\n",
        "y_train = province_train_df['Count']\n",
        "X_val = province_val_df[['Year', 'PROVINCE', 'Week_no', 'Lag_1', 'Lag_2', 'Lag_3', 'Moving_Avg_3']]\n",
        "y_val = province_val_df['Count']\n",
        "train_data = X_train.copy()\n",
        "train_data['Count'] = y_train\n",
        "val_data = X_val.copy()\n",
        "val_data['Count'] = y_val\n",
        "Phatthalung = TabularPredictor(label='Count', problem_type='regression', eval_metric='rmse').fit(train_data)\n",
        "leaderboard = Phatthalung.leaderboard(val_data, extra_metrics=['rmse'])\n",
        "y_pred = Phatthalung.predict(X_val)\n",
        "rmse_value = rmse(y_val, y_pred)\n",
        "pplot(pd.concat([province_train_df,province_val_df]),province)\n",
        "print(f\"\\nRMSE: {rmse_value}\")\n",
        "pvrecord[province] = rmse_value\n",
        "leaderboard"
      ]
    },
    {
      "cell_type": "markdown",
      "metadata": {
        "id": "3NNpEu8nvDwm"
      },
      "source": [
        "<br>\n",
        "\n",
        "## Pattani"
      ]
    },
    {
      "cell_type": "code",
      "execution_count": null,
      "metadata": {
        "id": "LYN1GBYgvDrr"
      },
      "outputs": [],
      "source": [
        "province = \"Pattani\"\n",
        "province_df = train_df[train_df['PROVINCE']==province]\n",
        "years = [2013,2014,2015,2016,2017,2018,2019,2020] #* select year that is outliner\n",
        "province_train_df = province_df[province_df['Year'].isin(years[:-1])].copy()\n",
        "province_val_df = province_df[province_df['Year'].isin([years[-1]])].copy()\n",
        "for lag in range(1, 4):\n",
        "    province_train_df.loc[:, f'Lag_{lag}'] = province_train_df['Count'].shift(lag)\n",
        "    province_val_df.loc[:, f'Lag_{lag}'] = province_val_df['Count'].shift(lag)\n",
        "province_train_df.loc[:, 'Moving_Avg_3'] = province_train_df['Count'].rolling(window=3).mean()\n",
        "province_val_df.loc[:, 'Moving_Avg_3'] = province_val_df['Count'].rolling(window=3).mean()\n",
        "province_train_df.fillna(0, inplace=True)\n",
        "province_val_df.fillna(0, inplace=True)\n",
        "X_train = province_train_df[['Year', 'PROVINCE', 'Week_no', 'Lag_1', 'Lag_2', 'Lag_3', 'Moving_Avg_3']]\n",
        "y_train = province_train_df['Count']\n",
        "X_val = province_val_df[['Year', 'PROVINCE', 'Week_no', 'Lag_1', 'Lag_2', 'Lag_3', 'Moving_Avg_3']]\n",
        "y_val = province_val_df['Count']\n",
        "train_data = X_train.copy()\n",
        "train_data['Count'] = y_train\n",
        "val_data = X_val.copy()\n",
        "val_data['Count'] = y_val\n",
        "Pattani = TabularPredictor(label='Count', problem_type='regression', eval_metric='rmse').fit(train_data)\n",
        "leaderboard = Pattani.leaderboard(val_data, extra_metrics=['rmse'])\n",
        "y_pred = Pattani.predict(X_val)\n",
        "rmse_value = rmse(y_val, y_pred)\n",
        "pplot(pd.concat([province_train_df,province_val_df]),province)\n",
        "print(f\"\\nRMSE: {rmse_value}\")\n",
        "pvrecord[province] = rmse_value\n",
        "leaderboard"
      ]
    },
    {
      "cell_type": "markdown",
      "metadata": {
        "id": "J5a_SU2wvDjo"
      },
      "source": [
        "<br>\n",
        "\n",
        "## Yala\n"
      ]
    },
    {
      "cell_type": "code",
      "execution_count": null,
      "metadata": {
        "id": "IA6XHSkavDeC"
      },
      "outputs": [],
      "source": [
        "province = \"Yala\"\n",
        "province_df = train_df[train_df['PROVINCE']==province]\n",
        "years = [2013,2014,2015,2016,2017,2018,2019] #* select year that is outliner\n",
        "province_train_df = province_df[province_df['Year'].isin(years[:-1])].copy()\n",
        "province_val_df = province_df[province_df['Year'].isin([years[-1]])].copy()\n",
        "for lag in range(1, 4):\n",
        "    province_train_df.loc[:, f'Lag_{lag}'] = province_train_df['Count'].shift(lag)\n",
        "    province_val_df.loc[:, f'Lag_{lag}'] = province_val_df['Count'].shift(lag)\n",
        "province_train_df.loc[:, 'Moving_Avg_3'] = province_train_df['Count'].rolling(window=3).mean()\n",
        "province_val_df.loc[:, 'Moving_Avg_3'] = province_val_df['Count'].rolling(window=3).mean()\n",
        "province_train_df.fillna(0, inplace=True)\n",
        "province_val_df.fillna(0, inplace=True)\n",
        "X_train = province_train_df[['Year', 'PROVINCE', 'Week_no', 'Lag_1', 'Lag_2', 'Lag_3', 'Moving_Avg_3']]\n",
        "y_train = province_train_df['Count']\n",
        "X_val = province_val_df[['Year', 'PROVINCE', 'Week_no', 'Lag_1', 'Lag_2', 'Lag_3', 'Moving_Avg_3']]\n",
        "y_val = province_val_df['Count']\n",
        "train_data = X_train.copy()\n",
        "train_data['Count'] = y_train\n",
        "val_data = X_val.copy()\n",
        "val_data['Count'] = y_val\n",
        "Yala = TabularPredictor(label='Count', problem_type='regression', eval_metric='rmse').fit(train_data)\n",
        "leaderboard = Yala.leaderboard(val_data, extra_metrics=['rmse'])\n",
        "y_pred = Yala.predict(X_val)\n",
        "rmse_value = rmse(y_val, y_pred)\n",
        "pplot(pd.concat([province_train_df,province_val_df]),province)\n",
        "print(f\"\\nRMSE: {rmse_value}\")\n",
        "pvrecord[province] = rmse_value\n",
        "leaderboard"
      ]
    },
    {
      "cell_type": "markdown",
      "metadata": {
        "id": "Q2SJO2-pvlCM"
      },
      "source": [
        "<br>\n",
        "\n",
        "## Narathiwat"
      ]
    },
    {
      "cell_type": "code",
      "execution_count": null,
      "metadata": {
        "id": "IBkh4apZvk4O"
      },
      "outputs": [],
      "source": [
        "province = \"Narathiwat\"\n",
        "province_df = train_df[train_df['PROVINCE']==province]\n",
        "years = [2013,2014,2015,2016,2017,2018,2019] #* select year that is outliner\n",
        "province_train_df = province_df[province_df['Year'].isin(years[:-1])].copy()\n",
        "province_val_df = province_df[province_df['Year'].isin([years[-1]])].copy()\n",
        "for lag in range(1, 4):\n",
        "    province_train_df.loc[:, f'Lag_{lag}'] = province_train_df['Count'].shift(lag)\n",
        "    province_val_df.loc[:, f'Lag_{lag}'] = province_val_df['Count'].shift(lag)\n",
        "province_train_df.loc[:, 'Moving_Avg_3'] = province_train_df['Count'].rolling(window=3).mean()\n",
        "province_val_df.loc[:, 'Moving_Avg_3'] = province_val_df['Count'].rolling(window=3).mean()\n",
        "province_train_df.fillna(0, inplace=True)\n",
        "province_val_df.fillna(0, inplace=True)\n",
        "X_train = province_train_df[['Year', 'PROVINCE', 'Week_no', 'Lag_1', 'Lag_2', 'Lag_3', 'Moving_Avg_3']]\n",
        "y_train = province_train_df['Count']\n",
        "X_val = province_val_df[['Year', 'PROVINCE', 'Week_no', 'Lag_1', 'Lag_2', 'Lag_3', 'Moving_Avg_3']]\n",
        "y_val = province_val_df['Count']\n",
        "train_data = X_train.copy()\n",
        "train_data['Count'] = y_train\n",
        "val_data = X_val.copy()\n",
        "val_data['Count'] = y_val\n",
        "Narathiwat = TabularPredictor(label='Count', problem_type='regression', eval_metric='rmse').fit(train_data)\n",
        "leaderboard = Narathiwat.leaderboard(val_data, extra_metrics=['rmse'])\n",
        "y_pred = Narathiwat.predict(X_val)\n",
        "rmse_value = rmse(y_val, y_pred)\n",
        "pplot(pd.concat([province_train_df,province_val_df]),province)\n",
        "print(f\"\\nRMSE: {rmse_value}\")\n",
        "pvrecord[province] = rmse_value\n",
        "leaderboard"
      ]
    },
    {
      "cell_type": "markdown",
      "metadata": {
        "id": "fiK96MVxyCrF"
      },
      "source": [
        "<hr><hr>"
      ]
    },
    {
      "cell_type": "markdown",
      "metadata": {
        "id": "tz5QSq-pX6HL"
      },
      "source": [
        "# Predict switching"
      ]
    },
    {
      "cell_type": "code",
      "execution_count": null,
      "metadata": {
        "collapsed": true,
        "id": "2J4vtqYsYBPT"
      },
      "outputs": [],
      "source": [
        "# df = pd.read_csv(\"/content/sample_submission.csv\")\n",
        "# for idx,row in df[3:].iterrows():\n",
        "#     data = test_df[test_df['_id']==row['_id']].drop(columns=['_id','Disease'])\n",
        "#     # print(data.PROVINCE)\n",
        "#     province = data.PROVINCE.iloc[0]\n",
        "#     # print(province)\n",
        "#     if province == \"Bangkok\":\n",
        "#         df.at[idx,'Pred'] = Bangkok.predict(data)\n",
        "#     elif province == \"Samut Prakan\":\n",
        "#         df.at[idx,'Pred'] = Samut_Prakan.predict(data)\n",
        "#     elif province == \"Nonthaburi\":\n",
        "#         df.at[idx,'Pred'] = Nonthaburi.predict(data)\n",
        "#     elif province == \"Pathum Thani\":\n",
        "#         df.at[idx,'Pred'] = Pathum_Thani.predict(data)\n",
        "#     elif province == \"Phra Nakhon Si Ayutthaya\":\n",
        "#         df.at[idx,'Pred'] = Phra_Nakhon_Si_Ayutthaya.predict(data)\n",
        "#     elif province == \"Ang Thong\":\n",
        "#         df.at[idx,'Pred'] = Ang_Thong.predict(data)\n",
        "#     elif province == \"Lopburi\":\n",
        "#         df.at[idx,'Pred'] = Lopburi.predict(data)\n",
        "#     elif province == \"Sing Buri\":\n",
        "#         df.at[idx,'Pred'] = Sing_Buri.predict(data)\n",
        "#     elif province == \"Chainat\":\n",
        "#         df.at[idx,'Pred'] = Chainat.predict(data)\n",
        "#     elif province == \"Saraburi\":\n",
        "#         df.at[idx,'Pred'] = Saraburi.predict(data)\n",
        "#     elif province == \"Chonburi\":\n",
        "#         df.at[idx,'Pred'] = Chonburi.predict(data)\n",
        "#     elif province == \"Rayong\":\n",
        "#         df.at[idx,'Pred'] = Rayong.predict(data)\n",
        "#     elif province == \"Chanthaburi\":\n",
        "#         df.at[idx,'Pred'] = Chanthaburi.predict(data)\n",
        "#     elif province == \"Trat\":\n",
        "#         df.at[idx,'Pred'] = Trat.predict(data)\n",
        "#     elif province == \"Chachoengsao\":\n",
        "#         df.at[idx,'Pred'] = Chachoengsao.predict(data)\n",
        "#     elif province == \"Prachinburi\":\n",
        "#         df.at[idx,'Pred'] = Prachinburi.predict(data)\n",
        "#     elif province == \"Nakhon Nayok\":\n",
        "#         df.at[idx,'Pred'] = Nakhon_Nayok.predict(data)\n",
        "#     elif province == \"Sa Kaeo\":\n",
        "#         df.at[idx,'Pred'] = Sa_Kaeo.predict(data)\n",
        "#     elif province == \"Nakhon Ratchasima\":\n",
        "#         df.at[idx,'Pred'] = Nakhon_Ratchasima.predict(data)\n",
        "#     elif province == \"Buriram\":\n",
        "#         df.at[idx,'Pred'] = Buriram.predict(data)\n",
        "#     elif province == \"Surin\":\n",
        "#         df.at[idx,'Pred'] = Surin.predict(data)\n",
        "#     elif province == \"Sisaket\":\n",
        "#         df.at[idx,'Pred'] = Sisaket.predict(data)\n",
        "#     elif province == \"Ubon Ratchathani\":\n",
        "#         df.at[idx,'Pred'] = Ubon_Ratchathani.predict(data)\n",
        "#     elif province == \"Yasothon\":\n",
        "#         df.at[idx,'Pred'] = Yasothon.predict(data)\n",
        "#     elif province == \"Chaiyaphum\":\n",
        "#         df.at[idx,'Pred'] = Chaiyaphum.predict(data)\n",
        "#     elif province == \"Amnat Charoen\":\n",
        "#         df.at[idx,'Pred'] = Amnat_Charoen.predict(data)\n",
        "#     elif province == \"Bueng Kan\":\n",
        "#         df.at[idx,'Pred'] = Bueng_Kan.predict(data)\n",
        "#     elif province == \"Nong Bua Lamphu\":\n",
        "#         df.at[idx,'Pred'] = Nong_Bua_Lamphu.predict(data)\n",
        "#     elif province == \"Khon Kaen\":\n",
        "#         df.at[idx,'Pred'] = Khon_Kaen.predict(data)\n",
        "#     elif province == \"Udon Thani\":\n",
        "#         df.at[idx,'Pred'] = Udon_Thani.predict(data)\n",
        "#     elif province == \"Loei\":\n",
        "#         df.at[idx,'Pred'] = Loei.predict(data)\n",
        "#     elif province == \"Nong Khai\":\n",
        "#         df.at[idx,'Pred'] = Nong_Khai.predict(data)\n",
        "#     elif province == \"Maha Sarakham\":\n",
        "#         df.at[idx,'Pred'] = Maha_Sarakham.predict(data)\n",
        "#     elif province == \"Roi Et\":\n",
        "#         df.at[idx,'Pred'] = Roi_Et.predict(data)\n",
        "#     elif province == \"Kalasin\":\n",
        "#         df.at[idx,'Pred'] = Kalasin.predict(data)\n",
        "#     elif province == \"Sakon Nakhon\":\n",
        "#         df.at[idx,'Pred'] = Sakon_Nakhon.predict(data)\n",
        "#     elif province == \"Nakhon Phanom\":\n",
        "#         df.at[idx,'Pred'] = Nakhon_Phanom.predict(data)\n",
        "#     elif province == \"Mukdahan\":\n",
        "#         df.at[idx,'Pred'] = Mukdahan.predict(data)\n",
        "#     elif province == \"Chiang Mai\":\n",
        "#         df.at[idx,'Pred'] = Chiang_Mai.predict(data)\n",
        "#     elif province == \"Lamphun\":\n",
        "#         df.at[idx,'Pred'] = Lamphun.predict(data)\n",
        "#     elif province == \"Lampang\":\n",
        "#         df.at[idx,'Pred'] = Lampang.predict(data)\n",
        "#     elif province == \"Uttaradit\":\n",
        "#         df.at[idx,'Pred'] = Uttaradit.predict(data)\n",
        "#     elif province == \"Phrae\":\n",
        "#         df.at[idx,'Pred'] = Phrae.predict(data)\n",
        "#     elif province == \"Nan\":\n",
        "#         df.at[idx,'Pred'] = Nan.predict(data)\n",
        "#     elif province == \"Phayao\":\n",
        "#         df.at[idx,'Pred'] = Phayao.predict(data)\n",
        "#     elif province == \"Chiang Rai\":\n",
        "#         df.at[idx,'Pred'] = Chiang_Rai.predict(data)\n",
        "#     elif province == \"Mae Hong Son\":\n",
        "#         df.at[idx,'Pred'] = Mae_Hong_Son.predict(data)\n",
        "#     elif province == \"Nakhon Sawan\":\n",
        "#         df.at[idx,'Pred'] = Nakhon_Sawan.predict(data)\n",
        "#     elif province == \"Uthai Thani\":\n",
        "#         df.at[idx,'Pred'] = Uthai_Thani.predict(data)\n",
        "#     elif province == \"Kamphaeng Phet\":\n",
        "#         df.at[idx,'Pred'] = Kamphaeng_Phet.predict(data)\n",
        "#     elif province == \"Tak\":\n",
        "#         df.at[idx,'Pred'] = Tak.predict(data)\n",
        "#     elif province == \"Sukhothai\":\n",
        "#         df.at[idx,'Pred'] = Sukhothai.predict(data)\n",
        "#     elif province == \"Phitsanulok\":\n",
        "#         df.at[idx,'Pred'] = Phitsanulok.predict(data)\n",
        "#     elif province == \"Phichit\":\n",
        "#         df.at[idx,'Pred'] = Phichit.predict(data)\n",
        "#     elif province == \"Phetchabun\":\n",
        "#         df.at[idx,'Pred'] = Phetchabun.predict(data)\n",
        "#     elif province == \"Ratchaburi\":\n",
        "#         df.at[idx,'Pred'] = Ratchaburi.predict(data)\n",
        "#     elif province == \"Kanchanaburi\":\n",
        "#         df.at[idx,'Pred'] = Kanchanaburi.predict(data)\n",
        "#     elif province == \"Suphan Buri\":\n",
        "#         df.at[idx,'Pred'] = Suphan_Buri.predict(data)\n",
        "#     elif province == \"Nakhon Pathom\":\n",
        "#         df.at[idx,'Pred'] = Nakhon_Pathom.predict(data)\n",
        "#     elif province == \"Samut Sakhon\":\n",
        "#         df.at[idx,'Pred'] = Samut_Sakhon.predict(data)\n",
        "#     elif province == \"Samut Songkhram\":\n",
        "#         df.at[idx,'Pred'] = Samut_Songkhram.predict(data)\n",
        "#     elif province == \"Phetchaburi\":\n",
        "#         df.at[idx,'Pred'] = Phetchaburi.predict(data)\n",
        "#     elif province == \"Prachuap Khiri Khan\":\n",
        "#         df.at[idx,'Pred'] = Prachuap_Khiri_Khan.predict(data)\n",
        "#     elif province == \"Nakhon Si Thammarat\":\n",
        "#         df.at[idx,'Pred'] = Nakhon_Si_Thammarat.predict(data)\n",
        "#     elif province == \"Krabi\":\n",
        "#         df.at[idx,'Pred'] = Krabi.predict(data)\n",
        "#     elif province == \"Phang Nga\":\n",
        "#         df.at[idx,'Pred'] = Phang_Nga.predict(data)\n",
        "#     elif province == \"Phuket\":\n",
        "#         df.at[idx,'Pred'] = Phuket.predict(data)\n",
        "#     elif province == \"Surat Thani\":\n",
        "#         df.at[idx,'Pred'] = Surat_Thani.predict(data)\n",
        "#     elif province == \"Ranong\":\n",
        "#         df.at[idx,'Pred'] = Ranong.predict(data)\n",
        "#     elif province == \"Chumphon\":\n",
        "#         df.at[idx,'Pred'] = Chumphon.predict(data)\n",
        "#     elif province == \"Songkhla\":\n",
        "#         df.at[idx,'Pred'] = Songkhla.predict(data)\n",
        "#     elif province == \"Satun\":\n",
        "#         df.at[idx,'Pred'] = Satun.predict(data)\n",
        "#     elif province == \"Trang\":\n",
        "#         df.at[idx,'Pred'] = Trang.predict(data)\n",
        "#     elif province == \"Phatthalung\":\n",
        "#         df.at[idx,'Pred'] = Phatthalung.predict(data)\n",
        "#     elif province == \"Pattani\":\n",
        "#         df.at[idx,'Pred'] = Pattani.predict(data)\n",
        "#     elif province == \"Yala\":\n",
        "#         df.at[idx,'Pred'] = Yala.predict(data)\n",
        "#     elif province == \"Narathiwat\":\n",
        "#         df.at[idx,'Pred'] = Narathiwat.predict(data)\n",
        "#     else:\n",
        "#         print(f\"\\n\\n\\nData issue detected in row {idx}. Interrupting process.\")\n",
        "#         break\n",
        "#         # df.at[idx,'Pred'] = \"???\""
      ]
    },
    {
      "cell_type": "code",
      "execution_count": null,
      "metadata": {
        "id": "cwhAPJdfp_f5"
      },
      "outputs": [],
      "source": [
        "df = pd.read_csv(\"/content/sample_submission.csv\")\n",
        "# Add new columns using .loc\n",
        "df.loc[:, 'Lag_1'] = 0.0\n",
        "df.loc[:, 'Lag_2'] = 0.0\n",
        "df.loc[:, 'Lag_3'] = 0.0\n",
        "df.loc[:, 'Moving_Avg_3'] = 0.0\n",
        "df"
      ]
    },
    {
      "cell_type": "code",
      "execution_count": null,
      "metadata": {
        "id": "1-sU35Uu7iwB"
      },
      "outputs": [],
      "source": [
        "# df = pd.read_csv(\"/content/sample_submission.csv\")\n",
        "for idx,row in df[3:].iterrows():\n",
        "    data = test_df[test_df['_id']==row['_id']].drop(columns=['_id','Disease'])\n",
        "    # print(data.PROVINCE)\n",
        "    province = data.PROVINCE.iloc[0]\n",
        "    # print(province)\n",
        "    if province == \"Bangkok\":\n",
        "        result = Bangkok.predict(data)\n",
        "    elif province == \"Samut Prakan\":\n",
        "        result = Samut_Prakan.predict(data)\n",
        "    elif province == \"Nonthaburi\":\n",
        "        result = Nonthaburi.predict(data)\n",
        "    elif province == \"Pathum Thani\":\n",
        "        result = Pathum_Thani.predict(data)\n",
        "    elif province == \"Phra Nakhon Si Ayutthaya\":\n",
        "        result = Phra_Nakhon_Si_Ayutthaya.predict(data)\n",
        "    elif province == \"Ang Thong\":\n",
        "        result = Ang_Thong.predict(data)\n",
        "    elif province == \"Lopburi\":\n",
        "        result = Lopburi.predict(data)\n",
        "    elif province == \"Sing Buri\":\n",
        "        result = Sing_Buri.predict(data)\n",
        "    elif province == \"Chainat\":\n",
        "        result = Chainat.predict(data)\n",
        "    elif province == \"Saraburi\":\n",
        "        result = Saraburi.predict(data)\n",
        "    elif province == \"Chonburi\":\n",
        "        result = Chonburi.predict(data)\n",
        "    elif province == \"Rayong\":\n",
        "        result = Rayong.predict(data)\n",
        "    elif province == \"Chanthaburi\":\n",
        "        result = Chanthaburi.predict(data)\n",
        "    elif province == \"Trat\":\n",
        "        result = Trat.predict(data)\n",
        "    elif province == \"Chachoengsao\":\n",
        "        result = Chachoengsao.predict(data)\n",
        "    elif province == \"Prachinburi\":\n",
        "        result = Prachinburi.predict(data)\n",
        "    elif province == \"Nakhon Nayok\":\n",
        "        result = Nakhon_Nayok.predict(data)\n",
        "    elif province == \"Sa Kaeo\":\n",
        "        result = Sa_Kaeo.predict(data)\n",
        "    elif province == \"Nakhon Ratchasima\":\n",
        "        result = Nakhon_Ratchasima.predict(data)\n",
        "    elif province == \"Buriram\":\n",
        "        result = Buriram.predict(data)\n",
        "    elif province == \"Surin\":\n",
        "        result = Surin.predict(data)\n",
        "    elif province == \"Sisaket\":\n",
        "        result = Sisaket.predict(data)\n",
        "    elif province == \"Ubon Ratchathani\":\n",
        "        result = Ubon_Ratchathani.predict(data)\n",
        "    elif province == \"Yasothon\":\n",
        "        result = Yasothon.predict(data)\n",
        "    elif province == \"Chaiyaphum\":\n",
        "        result = Chaiyaphum.predict(data)\n",
        "    elif province == \"Amnat Charoen\":\n",
        "        result = Amnat_Charoen.predict(data)\n",
        "    elif province == \"Bueng Kan\":\n",
        "        result = Bueng_Kan.predict(data)\n",
        "    elif province == \"Nong Bua Lamphu\":\n",
        "        result = Nong_Bua_Lamphu.predict(data)\n",
        "    elif province == \"Khon Kaen\":\n",
        "        result = Khon_Kaen.predict(data)\n",
        "    elif province == \"Udon Thani\":\n",
        "        result = Udon_Thani.predict(data)\n",
        "    elif province == \"Loei\":\n",
        "        result = Loei.predict(data)\n",
        "    elif province == \"Nong Khai\":\n",
        "        result = Nong_Khai.predict(data)\n",
        "    elif province == \"Maha Sarakham\":\n",
        "        result = Maha_Sarakham.predict(data)\n",
        "    elif province == \"Roi Et\":\n",
        "        result = Roi_Et.predict(data)\n",
        "    elif province == \"Kalasin\":\n",
        "        result = Kalasin.predict(data)\n",
        "    elif province == \"Sakon Nakhon\":\n",
        "        result = Sakon_Nakhon.predict(data)\n",
        "    elif province == \"Nakhon Phanom\":\n",
        "        result = Nakhon_Phanom.predict(data)\n",
        "    elif province == \"Mukdahan\":\n",
        "        result = Mukdahan.predict(data)\n",
        "    elif province == \"Chiang Mai\":\n",
        "        result = Chiang_Mai.predict(data)\n",
        "    elif province == \"Lamphun\":\n",
        "        result = Lamphun.predict(data)\n",
        "    elif province == \"Lampang\":\n",
        "        result = Lampang.predict(data)\n",
        "    elif province == \"Uttaradit\":\n",
        "        result = Uttaradit.predict(data)\n",
        "    elif province == \"Phrae\":\n",
        "        result = Phrae.predict(data)\n",
        "    elif province == \"Nan\":\n",
        "        result = Nan.predict(data)\n",
        "    elif province == \"Phayao\":\n",
        "        result = Phayao.predict(data)\n",
        "    elif province == \"Chiang Rai\":\n",
        "        result = Chiang_Rai.predict(data)\n",
        "    elif province == \"Mae Hong Son\":\n",
        "        result = Mae_Hong_Son.predict(data)\n",
        "    elif province == \"Nakhon Sawan\":\n",
        "        result = Nakhon_Sawan.predict(data)\n",
        "    elif province == \"Uthai Thani\":\n",
        "        result = Uthai_Thani.predict(data)\n",
        "    elif province == \"Kamphaeng Phet\":\n",
        "        result = Kamphaeng_Phet.predict(data)\n",
        "    elif province == \"Tak\":\n",
        "        result = Tak.predict(data)\n",
        "    elif province == \"Sukhothai\":\n",
        "        result = Sukhothai.predict(data)\n",
        "    elif province == \"Phitsanulok\":\n",
        "        result = Phitsanulok.predict(data)\n",
        "    elif province == \"Phichit\":\n",
        "        result = Phichit.predict(data)\n",
        "    elif province == \"Phetchabun\":\n",
        "        result = Phetchabun.predict(data)\n",
        "    elif province == \"Ratchaburi\":\n",
        "        result = Ratchaburi.predict(data)\n",
        "    elif province == \"Kanchanaburi\":\n",
        "        result = Kanchanaburi.predict(data)\n",
        "    elif province == \"Suphan Buri\":\n",
        "        result = Suphan_Buri.predict(data)\n",
        "    elif province == \"Nakhon Pathom\":\n",
        "        result = Nakhon_Pathom.predict(data)\n",
        "    elif province == \"Samut Sakhon\":\n",
        "        result = Samut_Sakhon.predict(data)\n",
        "    elif province == \"Samut Songkhram\":\n",
        "        result = Samut_Songkhram.predict(data)\n",
        "    elif province == \"Phetchaburi\":\n",
        "        result = Phetchaburi.predict(data)\n",
        "    elif province == \"Prachuap Khiri Khan\":\n",
        "        result = Prachuap_Khiri_Khan.predict(data)\n",
        "    elif province == \"Nakhon Si Thammarat\":\n",
        "        result = Nakhon_Si_Thammarat.predict(data)\n",
        "    elif province == \"Krabi\":\n",
        "        result = Krabi.predict(data)\n",
        "    elif province == \"Phang Nga\":\n",
        "        result = Phang_Nga.predict(data)\n",
        "    elif province == \"Phuket\":\n",
        "        result = Phuket.predict(data)\n",
        "    elif province == \"Surat Thani\":\n",
        "        result = Surat_Thani.predict(data)\n",
        "    elif province == \"Ranong\":\n",
        "        result = Ranong.predict(data)\n",
        "    elif province == \"Chumphon\":\n",
        "        result = Chumphon.predict(data)\n",
        "    elif province == \"Songkhla\":\n",
        "        result = Songkhla.predict(data)\n",
        "    elif province == \"Satun\":\n",
        "        result = Satun.predict(data)\n",
        "    elif province == \"Trang\":\n",
        "        result = Trang.predict(data)\n",
        "    elif province == \"Phatthalung\":\n",
        "        result = Phatthalung.predict(data)\n",
        "    elif province == \"Pattani\":\n",
        "        result = Pattani.predict(data)\n",
        "    elif province == \"Yala\":\n",
        "        result = Yala.predict(data)\n",
        "    elif province == \"Narathiwat\":\n",
        "        result = Narathiwat.predict(data)\n",
        "    else:\n",
        "        print(f\"\\n\\n\\nData issue detected in row {idx}. Interrupting process.\")\n",
        "        break\n",
        "\n",
        "    # Ensure result is a scalar value\n",
        "    if isinstance(result, pd.Series):\n",
        "        result = result.iloc[0]\n",
        "\n",
        "    # Ensure result is not negative\n",
        "    if result < 1:\n",
        "        result = 1.0\n",
        "\n",
        "    # Assign the result to the dataframe\n",
        "    df.at[idx, 'Pred'] = result"
      ]
    },
    {
      "cell_type": "code",
      "execution_count": null,
      "metadata": {
        "id": "ShLjerWk7Bdy"
      },
      "outputs": [],
      "source": [
        "df"
      ]
    },
    {
      "cell_type": "code",
      "execution_count": null,
      "metadata": {
        "id": "DI22gs6JYESf"
      },
      "outputs": [],
      "source": [
        "version = '2.1.3'\n",
        "formatted_time = time.strftime(\"%H.%M\", time.localtime())\n",
        "formatted_time = str(int(formatted_time.split(\".\")[0])+7)+formatted_time.split(\".\")[1]\n",
        "formatted_time\n",
        "csv_name = f'v.{version}.{formatted_time}.csv'\n",
        "print(csv_name)\n",
        "df.to_csv(csv_name,index=False)"
      ]
    },
    {
      "cell_type": "code",
      "execution_count": null,
      "metadata": {
        "id": "suFjJTd4HEl5"
      },
      "outputs": [],
      "source": [
        "pvrecord"
      ]
    },
    {
      "cell_type": "code",
      "execution_count": null,
      "metadata": {
        "id": "EKjWGXHZCU3o"
      },
      "outputs": [],
      "source": [
        "import matplotlib.pyplot as plt"
      ]
    },
    {
      "cell_type": "code",
      "execution_count": null,
      "metadata": {
        "id": "mZqa-_WjCKWq"
      },
      "outputs": [],
      "source": [
        "total_rmse = sum(pvrecord.values())\n",
        "print(f\"Total RMSE: {total_rmse}\")\n",
        "\n",
        "# Creating a bar plot\n",
        "fig, ax = plt.subplots(figsize=(20, 6))\n",
        "ax.bar(pvrecord.keys(), pvrecord.values(), color='skyblue')\n",
        "ax.set_xlabel('Province')\n",
        "ax.set_ylabel('RMSE')\n",
        "ax.set_title('RMSE Values by Province')\n",
        "ax.set_ylim(0, max(pvrecord.values()) + 10)\n",
        "\n",
        "# Rotate the x-axis labels\n",
        "plt.xticks(rotation=90)\n",
        "\n",
        "# Adding the RMSE values on top of the bars\n",
        "for i, v in enumerate(pvrecord.values()):\n",
        "    ax.text(i, v + 1, f'{v:.2f}', ha='center')\n",
        "\n",
        "# Display the plot\n",
        "plt.grid(alpha=0.3)\n",
        "plt.show()\n"
      ]
    },
    {
      "cell_type": "code",
      "execution_count": null,
      "metadata": {
        "id": "pgT1epYJCgTS"
      },
      "outputs": [],
      "source": [
        "pvrecord0  = {'Bangkok': 76.36063676449949,\n",
        " 'Samut Prakan': 13.049635977070057,\n",
        " 'Nonthaburi': 7.249497713985841,\n",
        " 'Pathum Thani': 8.574577749408144,\n",
        " 'Phra Nakhon Si Ayutthaya': 8.763172056558089,\n",
        " 'Ang Thong': 3.5622489642936315,\n",
        " 'Lopburi': 7.394539554350971,\n",
        " 'Sing Buri': 6.253745392561713,\n",
        " 'Chainat': 4.850372128317462,\n",
        " 'Saraburi': 9.004934429518402,\n",
        " 'Chonburi': 10.784751151284173,\n",
        " 'Rayong': 29.29362612877891,\n",
        " 'Chanthaburi': 9.039207586402009,\n",
        " 'Trat': 8.967513750095625,\n",
        " 'Chachoengsao': 10.776458397495487,\n",
        " 'Prachinburi': 10.575305865941772,\n",
        " 'Nakhon Nayok': 3.652860249914554,\n",
        " 'Sa Kaeo': 8.265378298643776,\n",
        " 'Nakhon Ratchasima': 24.678096716895894,\n",
        " 'Buriram': 10.444504297959122,\n",
        " 'Surin': 24.616549364792785,\n",
        " 'Sisaket': 12.624889186982282,\n",
        " 'Ubon Ratchathani': 18.02407231485729,\n",
        " 'Yasothon': 5.259409681477039,\n",
        " 'Chaiyaphum': 19.807608785001023,\n",
        " 'Amnat Charoen': 5.878235959045015,\n",
        " 'Bueng Kan': 3.7951607901835005,\n",
        " 'Nong Bua Lamphu': 3.327853211591088,\n",
        " 'Khon Kaen': 18.12098161888682,\n",
        " 'Udon Thani': 6.412187338357021,\n",
        " 'Loei': 5.8572859313625605,\n",
        " 'Nong Khai': 4.296222163775307,\n",
        " 'Maha Sarakham': 7.971467665882491,\n",
        " 'Roi Et': 9.630361738476637,\n",
        " 'Kalasin': 6.6386293797418015,\n",
        " 'Sakon Nakhon': 5.16666162320079,\n",
        " 'Nakhon Phanom': 4.059842034208891,\n",
        " 'Mukdahan': 4.6688712445788125,\n",
        " 'Chiang Mai': 15.419972781224041,\n",
        " 'Lamphun': 7.53656421144407,\n",
        " 'Lampang': 7.957290790165344,\n",
        " 'Uttaradit': 3.397264339792317,\n",
        " 'Phrae': 4.495905692917569,\n",
        " 'Nan': 9.740079675824619,\n",
        " 'Phayao': 6.372662040035755,\n",
        " 'Chiang Rai': 11.936946678828246,\n",
        " 'Mae Hong Son': 5.371809629955286,\n",
        " 'Nakhon Sawan': 11.906167302534225,\n",
        " 'Uthai Thani': 3.9118348052198804,\n",
        " 'Kamphaeng Phet': 9.525922515895905,\n",
        " 'Tak': 5.464342176058535,\n",
        " 'Sukhothai': 9.421698008380176,\n",
        " 'Phitsanulok': 9.6757096172131,\n",
        " 'Phichit': 8.118654864730004,\n",
        " 'Phetchabun': 8.282681051272142,\n",
        " 'Ratchaburi': 5.9871252340905965,\n",
        " 'Kanchanaburi': 6.699083833956905,\n",
        " 'Suphan Buri': 4.831099975430087,\n",
        " 'Nakhon Pathom': 9.182769187059774,\n",
        " 'Samut Sakhon': 4.596189361292357,\n",
        " 'Samut Songkhram': 3.317848658454171,\n",
        " 'Phetchaburi': 4.91742565067919,\n",
        " 'Prachuap Khiri Khan': 9.82226000037338,\n",
        " 'Nakhon Si Thammarat': 14.892790755064764,\n",
        " 'Krabi': 5.511365974780709,\n",
        " 'Phang Nga': 3.48083277749657,\n",
        " 'Phuket': 5.265380505321653,\n",
        " 'Surat Thani': 15.433859756576167,\n",
        " 'Ranong': 3.5370765485472693,\n",
        " 'Chumphon': 7.3176919374148035,\n",
        " 'Songkhla': 11.556063031083653,\n",
        " 'Satun': 4.058941239721519,\n",
        " 'Trang': 6.62534554042965,\n",
        " 'Phatthalung': 6.907408901052155,\n",
        " 'Pattani': 4.455146604571581,\n",
        " 'Yala': 5.440995573277607,\n",
        " 'Narathiwat': 4.089186511786015}\n",
        "\n",
        "pvrecord1  = {'Bangkok': 39.23794010974002,\n",
        " 'Samut Prakan': 10.166167116762558,\n",
        " 'Nonthaburi': 6.438546710645192,\n",
        " 'Pathum Thani': 7.223013573266722,\n",
        " 'Phra Nakhon Si Ayutthaya': 8.790417107404064,\n",
        " 'Ang Thong': 3.588964622360581,\n",
        " 'Lopburi': 7.7765270352184315,\n",
        " 'Sing Buri': 3.871741006042545,\n",
        " 'Chainat': 3.814785125760958,\n",
        " 'Saraburi': 7.342297229416183,\n",
        " 'Chonburi': 7.737617588243486,\n",
        " 'Rayong': 13.218722445420894,\n",
        " 'Chanthaburi': 6.719756876386463,\n",
        " 'Trat': 3.7734066171864917,\n",
        " 'Chachoengsao': 4.652566579209719,\n",
        " 'Prachinburi': 6.6056278793465,\n",
        " 'Nakhon Nayok': 3.6528602519031965,\n",
        " 'Sa Kaeo': 5.575370759440385,\n",
        " 'Nakhon Ratchasima': 18.058206829415482,\n",
        " 'Buriram': 6.09719570249447,\n",
        " 'Surin': 9.651037522096336,\n",
        " 'Sisaket': 7.1902850356626775,\n",
        " 'Ubon Ratchathani': 10.9947399822635,\n",
        " 'Yasothon': 5.259409681477039,\n",
        " 'Chaiyaphum': 6.986343350571975,\n",
        " 'Amnat Charoen': 5.965155752019958,\n",
        " 'Bueng Kan': 3.795099026970346,\n",
        " 'Nong Bua Lamphu': 3.327853211591088,\n",
        " 'Khon Kaen': 9.085570610846142,\n",
        " 'Udon Thani': 5.506419662001304,\n",
        " 'Loei': 5.68791236110198,\n",
        " 'Nong Khai': 4.221642355429842,\n",
        " 'Maha Sarakham': 7.971294758469244,\n",
        " 'Roi Et': 8.705422231574858,\n",
        " 'Kalasin': 5.883256080259316,\n",
        " 'Sakon Nakhon': 5.173248790364447,\n",
        " 'Nakhon Phanom': 4.029618858229757,\n",
        " 'Mukdahan': 4.433071167366718,\n",
        " 'Chiang Mai': 11.168174967712858,\n",
        " 'Lamphun': 6.613175825838823,\n",
        " 'Lampang': 7.8257110785908806,\n",
        " 'Uttaradit': 3.407559889807749,\n",
        " 'Phrae': 4.554907928774935,\n",
        " 'Nan': 6.6971402509959965,\n",
        " 'Phayao': 6.503879832812334,\n",
        " 'Chiang Rai': 8.292998313562533,\n",
        " 'Mae Hong Son': 5.356883066846493,\n",
        " 'Nakhon Sawan': 8.71397352735358,\n",
        " 'Uthai Thani': 3.970558824132814,\n",
        " 'Kamphaeng Phet': 7.294665567627883,\n",
        " 'Tak': 5.464342427832331,\n",
        " 'Sukhothai': 6.380434604275281,\n",
        " 'Phitsanulok': 8.204286529281493,\n",
        " 'Phichit': 8.185863175596678,\n",
        " 'Phetchabun': 8.367170420732949,\n",
        " 'Ratchaburi': 5.9871252340905965,\n",
        " 'Kanchanaburi': 6.67740614140352,\n",
        " 'Suphan Buri': 4.794184458062974,\n",
        " 'Nakhon Pathom': 8.896198958690979,\n",
        " 'Samut Sakhon': 4.596189361292357,\n",
        " 'Samut Songkhram': 3.3178486706368284,\n",
        " 'Phetchaburi': 4.91742565067919,\n",
        " 'Prachuap Khiri Khan': 6.219526766900077,\n",
        " 'Nakhon Si Thammarat': 9.219175949927125,\n",
        " 'Krabi': 3.630385827362823,\n",
        " 'Phang Nga': 3.48083277749657,\n",
        " 'Phuket': 5.265380505321653,\n",
        " 'Surat Thani': 6.137177691147416,\n",
        " 'Ranong': 3.5370765485472693,\n",
        " 'Chumphon': 6.112417766452195,\n",
        " 'Songkhla': 8.192380983732399,\n",
        " 'Satun': 4.058941239721519,\n",
        " 'Trang': 6.62534554042965,\n",
        " 'Phatthalung': 5.027619864847653,\n",
        " 'Pattani': 4.470105758413418,\n",
        " 'Yala': 4.404534202722687,\n",
        " 'Narathiwat': 3.6196155450344247}\n",
        "\n",
        " # Create a DataFrame from the dictionaries\n",
        "comparison_df = pd.DataFrame([pvrecord0, pvrecord1], index=['pvrecord0', 'pvrecord1']).T\n",
        "comparison_df['Difference'] = comparison_df['pvrecord0'] - comparison_df['pvrecord1']\n",
        "\n",
        "# Display the DataFrame\n",
        "print(comparison_df)\n",
        "\n",
        "# Create a bar plot to visualize the comparison\n",
        "comparison_df.plot(kind='bar', figsize=(20, 10))\n",
        "plt.title('Comparison of RMSE Values')\n",
        "plt.xlabel('Province')\n",
        "plt.ylabel('RMSE')\n",
        "plt.xticks(rotation=90)\n",
        "plt.legend(title='Record')\n",
        "plt.tight_layout()\n",
        "plt.grid(alpha=0.3)\n",
        "# Show the plot\n",
        "plt.show()"
      ]
    }
  ],
  "metadata": {
    "colab": {
      "provenance": []
    },
    "kernelspec": {
      "display_name": "Python 3",
      "name": "python3"
    },
    "language_info": {
      "name": "python"
    }
  },
  "nbformat": 4,
  "nbformat_minor": 0
}